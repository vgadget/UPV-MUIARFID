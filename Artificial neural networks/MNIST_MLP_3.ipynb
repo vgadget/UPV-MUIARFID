{
 "cells": [
  {
   "cell_type": "markdown",
   "metadata": {
    "id": "pAO-QyfXy-HB"
   },
   "source": [
    "**BASIC MNIST EXAMPLE WITH MLP**"
   ]
  },
  {
   "cell_type": "markdown",
   "metadata": {
    "id": "KQbLK9xczBIT"
   },
   "source": [
    "Imports..."
   ]
  },
  {
   "cell_type": "code",
   "execution_count": 1,
   "metadata": {
    "id": "WLBeaZ9Cq1x8"
   },
   "outputs": [
    {
     "name": "stdout",
     "output_type": "stream",
     "text": [
      "Init Plugin\n",
      "Init Graph Optimizer\n",
      "Init Kernel\n"
     ]
    }
   ],
   "source": [
    "from numpy.random import seed\n",
    "seed(86148)\n",
    "\n",
    "from __future__ import print_function\n",
    "import tensorflow as tf\n",
    "from tensorflow import keras\n",
    "from tensorflow.keras.datasets import mnist\n",
    "from tensorflow.keras.layers import BatchNormalization as BN\n",
    "from tensorflow.keras.layers import GaussianNoise as GN\n",
    "from tensorflow.keras.models import Sequential\n",
    "from tensorflow.keras.layers import Dense, Activation, Flatten, Dropout, Input, Reshape\n",
    "from tensorflow.keras.optimizers import SGD\n",
    "from tensorflow.keras import utils\n",
    "from tensorflow.keras.preprocessing.image import ImageDataGenerator\n",
    "from tensorflow.keras.callbacks import LearningRateScheduler as LRS\n",
    "from tensorflow.keras.preprocessing.image import ImageDataGenerator\n",
    "from tensorflow.keras.callbacks import ModelCheckpoint"
   ]
  },
  {
   "cell_type": "markdown",
   "metadata": {
    "id": "eMUUIY7GzS4h"
   },
   "source": [
    "Define batch size, number of epochs and number of classes"
   ]
  },
  {
   "cell_type": "code",
   "execution_count": 2,
   "metadata": {
    "id": "PI_I4NCurALp"
   },
   "outputs": [],
   "source": [
    "batch_size = 128\n",
    "epochs = 100\n",
    "num_classes=10\n",
    "dropout = 0.3"
   ]
  },
  {
   "cell_type": "markdown",
   "metadata": {
    "id": "JXUIdKbOzENY"
   },
   "source": [
    "Load MNIST and transform\n",
    "\n"
   ]
  },
  {
   "cell_type": "code",
   "execution_count": 3,
   "metadata": {
    "colab": {
     "base_uri": "https://localhost:8080/"
    },
    "id": "rGUGaKS_rCnv",
    "outputId": "c9ee6b7d-226a-4adf-cd60-b58183ca90f6"
   },
   "outputs": [
    {
     "name": "stdout",
     "output_type": "stream",
     "text": [
      "training set (60000, 28, 28)\n",
      "test set (10000, 28, 28)\n"
     ]
    }
   ],
   "source": [
    "(x_train, y_train), (x_test, y_test) = mnist.load_data()\n",
    "\n",
    "print('training set', x_train.shape)\n",
    "print('test set', x_test.shape)\n",
    "\n",
    "x_train = x_train.reshape(60000, 28,28,1)\n",
    "x_test = x_test.reshape(10000, 28,28,1)\n",
    "x_train = x_train.astype('float32')\n",
    "x_test = x_test.astype('float32')\n",
    "\n",
    "# Normalize [0..255]-->[0..1]\n",
    "x_train /= 255\n",
    "x_test /= 255\n",
    "\n",
    "# convert class vectors to binary class matrices\n",
    "y_train = keras.utils.to_categorical(y_train, num_classes)\n",
    "y_test = keras.utils.to_categorical(y_test, num_classes)"
   ]
  },
  {
   "cell_type": "markdown",
   "metadata": {
    "id": "3FaOkTo5zMEC"
   },
   "source": [
    "Define the NN topology, a sequential model with 2 hidden layers"
   ]
  },
  {
   "cell_type": "code",
   "execution_count": 4,
   "metadata": {
    "colab": {
     "base_uri": "https://localhost:8080/"
    },
    "id": "PUtzEN3DrEeD",
    "outputId": "1ccf8f40-ea4d-419e-94f7-f9f8ab844196"
   },
   "outputs": [
    {
     "name": "stdout",
     "output_type": "stream",
     "text": [
      "Metal device set to: Apple M1\n",
      "Model: \"sequential\"\n",
      "_________________________________________________________________\n",
      "Layer (type)                 Output Shape              Param #   \n",
      "=================================================================\n",
      "reshape (Reshape)            (None, 784)               0         \n",
      "_________________________________________________________________\n",
      "gaussian_noise (GaussianNois (None, 784)               0         \n",
      "_________________________________________________________________\n",
      "dense (Dense)                (None, 1024)              803840    \n",
      "_________________________________________________________________\n",
      "batch_normalization (BatchNo (None, 1024)              4096      \n",
      "_________________________________________________________________\n",
      "gaussian_noise_1 (GaussianNo (None, 1024)              0         \n",
      "_________________________________________________________________\n",
      "activation (Activation)      (None, 1024)              0         \n",
      "_________________________________________________________________\n",
      "dense_1 (Dense)              (None, 1024)              1049600   \n",
      "_________________________________________________________________\n",
      "batch_normalization_1 (Batch (None, 1024)              4096      \n",
      "_________________________________________________________________\n",
      "gaussian_noise_2 (GaussianNo (None, 1024)              0         \n",
      "_________________________________________________________________\n",
      "activation_1 (Activation)    (None, 1024)              0         \n",
      "_________________________________________________________________\n",
      "dense_2 (Dense)              (None, 10)                10250     \n",
      "=================================================================\n",
      "Total params: 1,871,882\n",
      "Trainable params: 1,867,786\n",
      "Non-trainable params: 4,096\n",
      "_________________________________________________________________\n"
     ]
    },
    {
     "name": "stderr",
     "output_type": "stream",
     "text": [
      "2022-01-01 22:34:44.740390: I tensorflow/core/common_runtime/pluggable_device/pluggable_device_factory.cc:305] Could not identify NUMA node of platform GPU ID 0, defaulting to 0. Your kernel may not have been built with NUMA support.\n",
      "2022-01-01 22:34:44.740474: I tensorflow/core/common_runtime/pluggable_device/pluggable_device_factory.cc:271] Created TensorFlow device (/job:localhost/replica:0/task:0/device:GPU:0 with 0 MB memory) -> physical PluggableDevice (device: 0, name: METAL, pci bus id: <undefined>)\n"
     ]
    }
   ],
   "source": [
    "model = Sequential()\n",
    "model.add(Reshape(target_shape=(784,), input_shape=(28,28,1)))\n",
    "model.add(GN(0.2))\n",
    "\n",
    "model.add(Dense(1024))\n",
    "model.add(BN())\n",
    "model.add(GN(0.2))\n",
    "#model.add(Dropout(dropout))\n",
    "model.add(Activation('relu'))\n",
    "\n",
    "\n",
    "model.add(Dense(1024))\n",
    "model.add(BN())\n",
    "model.add(GN(0.2))\n",
    "#model.add(Dropout(dropout))\n",
    "model.add(Activation('relu'))\n",
    "\n",
    "\n",
    "model.add(Dense(num_classes, activation='softmax'))\n",
    "\n",
    "model.summary()\n"
   ]
  },
  {
   "cell_type": "markdown",
   "metadata": {
    "id": "hz2e5a71zfM0"
   },
   "source": [
    "Define an optimizer "
   ]
  },
  {
   "cell_type": "code",
   "execution_count": 5,
   "metadata": {
    "id": "dDaIrcWJrGHt"
   },
   "outputs": [],
   "source": [
    "sgd = SGD(learning_rate=0.01, decay=1e-6, momentum=0.9) # \"adam\" "
   ]
  },
  {
   "cell_type": "markdown",
   "metadata": {
    "id": "HhLdpldmziZ8"
   },
   "source": [
    "Compile the model, define loss and link the optimizer"
   ]
  },
  {
   "cell_type": "code",
   "execution_count": 6,
   "metadata": {
    "id": "_9dSQJ2orHvW"
   },
   "outputs": [],
   "source": [
    "model.compile(loss='categorical_crossentropy',\n",
    "              optimizer=sgd,\n",
    "              metrics=['accuracy'])"
   ]
  },
  {
   "cell_type": "markdown",
   "metadata": {
    "id": "tCjool2Azkyn"
   },
   "source": [
    "Finally, train the model and evaluate over the test data"
   ]
  },
  {
   "cell_type": "code",
   "execution_count": 7,
   "metadata": {
    "colab": {
     "base_uri": "https://localhost:8080/"
    },
    "id": "WooG0upBrLwq",
    "outputId": "5de9d62e-2d4c-4073-f661-6c0e9173b784",
    "scrolled": true
   },
   "outputs": [
    {
     "name": "stderr",
     "output_type": "stream",
     "text": [
      "2022-01-01 22:34:45.018922: I tensorflow/compiler/mlir/mlir_graph_optimization_pass.cc:176] None of the MLIR Optimization Passes are enabled (registered 2)\n",
      "2022-01-01 22:34:45.019045: W tensorflow/core/platform/profile_utils/cpu_utils.cc:128] Failed to get CPU frequency: 0 Hz\n",
      "2022-01-01 22:34:45.180470: I tensorflow/core/grappler/optimizers/custom_graph_optimizer_registry.cc:112] Plugin optimizer for device_type GPU is enabled.\n"
     ]
    },
    {
     "name": "stdout",
     "output_type": "stream",
     "text": [
      "Epoch 1/100\n",
      "466/469 [============================>.] - ETA: 0s - loss: 0.6110 - accuracy: 0.8262"
     ]
    },
    {
     "name": "stderr",
     "output_type": "stream",
     "text": [
      "2022-01-01 22:34:52.999262: I tensorflow/core/grappler/optimizers/custom_graph_optimizer_registry.cc:112] Plugin optimizer for device_type GPU is enabled.\n"
     ]
    },
    {
     "name": "stdout",
     "output_type": "stream",
     "text": [
      "469/469 [==============================] - 9s 19ms/step - loss: 0.6095 - accuracy: 0.8266 - val_loss: 0.1297 - val_accuracy: 0.9602\n",
      "\n",
      "Epoch 00001: val_accuracy improved from -inf to 0.96020, saving model to ./backup/model.best.hdf5\n",
      "Epoch 2/100\n",
      "469/469 [==============================] - 9s 19ms/step - loss: 0.2795 - accuracy: 0.9149 - val_loss: 0.0979 - val_accuracy: 0.9703\n",
      "\n",
      "Epoch 00002: val_accuracy improved from 0.96020 to 0.97030, saving model to ./backup/model.best.hdf5\n",
      "Epoch 3/100\n",
      "469/469 [==============================] - 9s 19ms/step - loss: 0.2154 - accuracy: 0.9328 - val_loss: 0.0747 - val_accuracy: 0.9754\n",
      "\n",
      "Epoch 00003: val_accuracy improved from 0.97030 to 0.97540, saving model to ./backup/model.best.hdf5\n",
      "Epoch 4/100\n",
      "469/469 [==============================] - 9s 19ms/step - loss: 0.1866 - accuracy: 0.9422 - val_loss: 0.0624 - val_accuracy: 0.9806\n",
      "\n",
      "Epoch 00004: val_accuracy improved from 0.97540 to 0.98060, saving model to ./backup/model.best.hdf5\n",
      "Epoch 5/100\n",
      "469/469 [==============================] - 10s 20ms/step - loss: 0.1694 - accuracy: 0.9476 - val_loss: 0.0565 - val_accuracy: 0.9814\n",
      "\n",
      "Epoch 00005: val_accuracy improved from 0.98060 to 0.98140, saving model to ./backup/model.best.hdf5\n",
      "Epoch 6/100\n",
      "469/469 [==============================] - 13s 28ms/step - loss: 0.1561 - accuracy: 0.9511 - val_loss: 0.0482 - val_accuracy: 0.9843\n",
      "\n",
      "Epoch 00006: val_accuracy improved from 0.98140 to 0.98430, saving model to ./backup/model.best.hdf5\n",
      "Epoch 7/100\n",
      "469/469 [==============================] - 17s 36ms/step - loss: 0.1465 - accuracy: 0.9549 - val_loss: 0.0452 - val_accuracy: 0.9849\n",
      "\n",
      "Epoch 00007: val_accuracy improved from 0.98430 to 0.98490, saving model to ./backup/model.best.hdf5\n",
      "Epoch 8/100\n",
      "469/469 [==============================] - 14s 31ms/step - loss: 0.1341 - accuracy: 0.9582 - val_loss: 0.0445 - val_accuracy: 0.9861\n",
      "\n",
      "Epoch 00008: val_accuracy improved from 0.98490 to 0.98610, saving model to ./backup/model.best.hdf5\n",
      "Epoch 9/100\n",
      "469/469 [==============================] - 9s 19ms/step - loss: 0.1305 - accuracy: 0.9594 - val_loss: 0.0410 - val_accuracy: 0.9866\n",
      "\n",
      "Epoch 00009: val_accuracy improved from 0.98610 to 0.98660, saving model to ./backup/model.best.hdf5\n",
      "Epoch 10/100\n",
      "469/469 [==============================] - 9s 19ms/step - loss: 0.1247 - accuracy: 0.9597 - val_loss: 0.0385 - val_accuracy: 0.9869\n",
      "\n",
      "Epoch 00010: val_accuracy improved from 0.98660 to 0.98690, saving model to ./backup/model.best.hdf5\n",
      "Epoch 11/100\n",
      "469/469 [==============================] - 9s 20ms/step - loss: 0.1195 - accuracy: 0.9617 - val_loss: 0.0374 - val_accuracy: 0.9889\n",
      "\n",
      "Epoch 00011: val_accuracy improved from 0.98690 to 0.98890, saving model to ./backup/model.best.hdf5\n",
      "Epoch 12/100\n",
      "469/469 [==============================] - 10s 21ms/step - loss: 0.1120 - accuracy: 0.9648 - val_loss: 0.0321 - val_accuracy: 0.9890\n",
      "\n",
      "Epoch 00012: val_accuracy improved from 0.98890 to 0.98900, saving model to ./backup/model.best.hdf5\n",
      "Epoch 13/100\n",
      "469/469 [==============================] - 9s 19ms/step - loss: 0.1110 - accuracy: 0.9650 - val_loss: 0.0332 - val_accuracy: 0.9892\n",
      "\n",
      "Epoch 00013: val_accuracy improved from 0.98900 to 0.98920, saving model to ./backup/model.best.hdf5\n",
      "Epoch 14/100\n",
      "469/469 [==============================] - 9s 19ms/step - loss: 0.1071 - accuracy: 0.9664 - val_loss: 0.0371 - val_accuracy: 0.9882\n",
      "\n",
      "Epoch 00014: val_accuracy did not improve from 0.98920\n",
      "Epoch 15/100\n",
      "469/469 [==============================] - 9s 19ms/step - loss: 0.1029 - accuracy: 0.9678 - val_loss: 0.0296 - val_accuracy: 0.9896\n",
      "\n",
      "Epoch 00015: val_accuracy improved from 0.98920 to 0.98960, saving model to ./backup/model.best.hdf5\n",
      "Epoch 16/100\n",
      "469/469 [==============================] - 9s 19ms/step - loss: 0.1027 - accuracy: 0.9669 - val_loss: 0.0297 - val_accuracy: 0.9892\n",
      "\n",
      "Epoch 00016: val_accuracy did not improve from 0.98960\n",
      "Epoch 17/100\n",
      "469/469 [==============================] - 9s 19ms/step - loss: 0.0998 - accuracy: 0.9688 - val_loss: 0.0317 - val_accuracy: 0.9898\n",
      "\n",
      "Epoch 00017: val_accuracy improved from 0.98960 to 0.98980, saving model to ./backup/model.best.hdf5\n",
      "Epoch 18/100\n",
      "469/469 [==============================] - 9s 19ms/step - loss: 0.0952 - accuracy: 0.9700 - val_loss: 0.0311 - val_accuracy: 0.9896\n",
      "\n",
      "Epoch 00018: val_accuracy did not improve from 0.98980\n",
      "Epoch 19/100\n",
      "469/469 [==============================] - 9s 19ms/step - loss: 0.0916 - accuracy: 0.9711 - val_loss: 0.0275 - val_accuracy: 0.9901\n",
      "\n",
      "Epoch 00019: val_accuracy improved from 0.98980 to 0.99010, saving model to ./backup/model.best.hdf5\n",
      "Epoch 20/100\n",
      "469/469 [==============================] - 9s 19ms/step - loss: 0.0947 - accuracy: 0.9702 - val_loss: 0.0269 - val_accuracy: 0.9915\n",
      "\n",
      "Epoch 00020: val_accuracy improved from 0.99010 to 0.99150, saving model to ./backup/model.best.hdf5\n",
      "Epoch 21/100\n",
      "469/469 [==============================] - 9s 19ms/step - loss: 0.0924 - accuracy: 0.9706 - val_loss: 0.0296 - val_accuracy: 0.9898\n",
      "\n",
      "Epoch 00021: val_accuracy did not improve from 0.99150\n",
      "Epoch 22/100\n",
      "469/469 [==============================] - 9s 19ms/step - loss: 0.0897 - accuracy: 0.9707 - val_loss: 0.0318 - val_accuracy: 0.9889\n",
      "\n",
      "Epoch 00022: val_accuracy did not improve from 0.99150\n",
      "Epoch 23/100\n",
      "469/469 [==============================] - 17s 36ms/step - loss: 0.0875 - accuracy: 0.9726 - val_loss: 0.0289 - val_accuracy: 0.9913\n",
      "\n",
      "Epoch 00023: val_accuracy did not improve from 0.99150\n",
      "Epoch 24/100\n",
      "469/469 [==============================] - 19s 39ms/step - loss: 0.0865 - accuracy: 0.9732 - val_loss: 0.0263 - val_accuracy: 0.9911\n",
      "\n",
      "Epoch 00024: val_accuracy did not improve from 0.99150\n",
      "Epoch 25/100\n",
      "469/469 [==============================] - 18s 39ms/step - loss: 0.0823 - accuracy: 0.9744 - val_loss: 0.0291 - val_accuracy: 0.9909\n",
      "\n",
      "Epoch 00025: val_accuracy did not improve from 0.99150\n",
      "Epoch 26/100\n",
      "469/469 [==============================] - 17s 37ms/step - loss: 0.0755 - accuracy: 0.9758 - val_loss: 0.0248 - val_accuracy: 0.9922\n",
      "\n",
      "Epoch 00026: val_accuracy improved from 0.99150 to 0.99220, saving model to ./backup/model.best.hdf5\n",
      "Epoch 27/100\n",
      "469/469 [==============================] - 20s 43ms/step - loss: 0.0710 - accuracy: 0.9777 - val_loss: 0.0240 - val_accuracy: 0.9927\n",
      "\n",
      "Epoch 00027: val_accuracy improved from 0.99220 to 0.99270, saving model to ./backup/model.best.hdf5\n",
      "Epoch 28/100\n",
      "469/469 [==============================] - 19s 41ms/step - loss: 0.0661 - accuracy: 0.9784 - val_loss: 0.0227 - val_accuracy: 0.9929\n",
      "\n",
      "Epoch 00028: val_accuracy improved from 0.99270 to 0.99290, saving model to ./backup/model.best.hdf5\n",
      "Epoch 29/100\n",
      "469/469 [==============================] - 18s 39ms/step - loss: 0.0656 - accuracy: 0.9793 - val_loss: 0.0221 - val_accuracy: 0.9928\n",
      "\n",
      "Epoch 00029: val_accuracy did not improve from 0.99290\n",
      "Epoch 30/100\n",
      "469/469 [==============================] - 17s 36ms/step - loss: 0.0640 - accuracy: 0.9798 - val_loss: 0.0220 - val_accuracy: 0.9928\n",
      "\n",
      "Epoch 00030: val_accuracy did not improve from 0.99290\n",
      "Epoch 31/100\n",
      "469/469 [==============================] - 19s 40ms/step - loss: 0.0652 - accuracy: 0.9797 - val_loss: 0.0215 - val_accuracy: 0.9930\n",
      "\n",
      "Epoch 00031: val_accuracy improved from 0.99290 to 0.99300, saving model to ./backup/model.best.hdf5\n",
      "Epoch 32/100\n",
      "469/469 [==============================] - 18s 39ms/step - loss: 0.0630 - accuracy: 0.9797 - val_loss: 0.0218 - val_accuracy: 0.9929\n",
      "\n",
      "Epoch 00032: val_accuracy did not improve from 0.99300\n",
      "Epoch 33/100\n",
      "469/469 [==============================] - 18s 39ms/step - loss: 0.0634 - accuracy: 0.9797 - val_loss: 0.0210 - val_accuracy: 0.9934\n",
      "\n",
      "Epoch 00033: val_accuracy improved from 0.99300 to 0.99340, saving model to ./backup/model.best.hdf5\n",
      "Epoch 34/100\n",
      "469/469 [==============================] - 17s 37ms/step - loss: 0.0619 - accuracy: 0.9801 - val_loss: 0.0204 - val_accuracy: 0.9931\n",
      "\n",
      "Epoch 00034: val_accuracy did not improve from 0.99340\n",
      "Epoch 35/100\n",
      "469/469 [==============================] - 18s 39ms/step - loss: 0.0623 - accuracy: 0.9802 - val_loss: 0.0203 - val_accuracy: 0.9930\n",
      "\n",
      "Epoch 00035: val_accuracy did not improve from 0.99340\n",
      "Epoch 36/100\n",
      "469/469 [==============================] - 20s 42ms/step - loss: 0.0597 - accuracy: 0.9810 - val_loss: 0.0202 - val_accuracy: 0.9933\n",
      "\n",
      "Epoch 00036: val_accuracy did not improve from 0.99340\n",
      "Epoch 37/100\n"
     ]
    },
    {
     "name": "stdout",
     "output_type": "stream",
     "text": [
      "469/469 [==============================] - 18s 39ms/step - loss: 0.0614 - accuracy: 0.9809 - val_loss: 0.0202 - val_accuracy: 0.9937\n",
      "\n",
      "Epoch 00037: val_accuracy improved from 0.99340 to 0.99370, saving model to ./backup/model.best.hdf5\n",
      "Epoch 38/100\n",
      "469/469 [==============================] - 17s 37ms/step - loss: 0.0614 - accuracy: 0.9808 - val_loss: 0.0205 - val_accuracy: 0.9934\n",
      "\n",
      "Epoch 00038: val_accuracy did not improve from 0.99370\n",
      "Epoch 39/100\n",
      "469/469 [==============================] - 19s 40ms/step - loss: 0.0593 - accuracy: 0.9810 - val_loss: 0.0203 - val_accuracy: 0.9933\n",
      "\n",
      "Epoch 00039: val_accuracy did not improve from 0.99370\n",
      "Epoch 40/100\n",
      "469/469 [==============================] - 21s 45ms/step - loss: 0.0590 - accuracy: 0.9810 - val_loss: 0.0203 - val_accuracy: 0.9933\n",
      "\n",
      "Epoch 00040: val_accuracy did not improve from 0.99370\n",
      "Epoch 41/100\n",
      "469/469 [==============================] - 17s 36ms/step - loss: 0.0599 - accuracy: 0.9807 - val_loss: 0.0204 - val_accuracy: 0.9933\n",
      "\n",
      "Epoch 00041: val_accuracy did not improve from 0.99370\n",
      "Epoch 42/100\n",
      "469/469 [==============================] - 19s 39ms/step - loss: 0.0604 - accuracy: 0.9809 - val_loss: 0.0205 - val_accuracy: 0.9934\n",
      "\n",
      "Epoch 00042: val_accuracy did not improve from 0.99370\n",
      "Epoch 43/100\n",
      "469/469 [==============================] - 19s 40ms/step - loss: 0.0598 - accuracy: 0.9807 - val_loss: 0.0205 - val_accuracy: 0.9937\n",
      "\n",
      "Epoch 00043: val_accuracy did not improve from 0.99370\n",
      "Epoch 44/100\n",
      "469/469 [==============================] - 19s 40ms/step - loss: 0.0576 - accuracy: 0.9821 - val_loss: 0.0204 - val_accuracy: 0.9935\n",
      "\n",
      "Epoch 00044: val_accuracy did not improve from 0.99370\n",
      "Epoch 45/100\n",
      "469/469 [==============================] - 18s 39ms/step - loss: 0.0578 - accuracy: 0.9809 - val_loss: 0.0199 - val_accuracy: 0.9935\n",
      "\n",
      "Epoch 00045: val_accuracy did not improve from 0.99370\n",
      "Epoch 46/100\n",
      "469/469 [==============================] - 20s 42ms/step - loss: 0.0605 - accuracy: 0.9804 - val_loss: 0.0199 - val_accuracy: 0.9935\n",
      "\n",
      "Epoch 00046: val_accuracy did not improve from 0.99370\n",
      "Epoch 47/100\n",
      "469/469 [==============================] - 23s 48ms/step - loss: 0.0575 - accuracy: 0.9821 - val_loss: 0.0194 - val_accuracy: 0.9932\n",
      "\n",
      "Epoch 00047: val_accuracy did not improve from 0.99370\n",
      "Epoch 48/100\n",
      "469/469 [==============================] - 23s 48ms/step - loss: 0.0590 - accuracy: 0.9810 - val_loss: 0.0194 - val_accuracy: 0.9937\n",
      "\n",
      "Epoch 00048: val_accuracy did not improve from 0.99370\n",
      "Epoch 49/100\n",
      "469/469 [==============================] - 22s 47ms/step - loss: 0.0560 - accuracy: 0.9823 - val_loss: 0.0195 - val_accuracy: 0.9934\n",
      "\n",
      "Epoch 00049: val_accuracy did not improve from 0.99370\n",
      "Epoch 50/100\n",
      "469/469 [==============================] - 22s 47ms/step - loss: 0.0563 - accuracy: 0.9820 - val_loss: 0.0192 - val_accuracy: 0.9936\n",
      "\n",
      "Epoch 00050: val_accuracy did not improve from 0.99370\n",
      "Epoch 51/100\n",
      "469/469 [==============================] - 23s 49ms/step - loss: 0.0577 - accuracy: 0.9816 - val_loss: 0.0194 - val_accuracy: 0.9935\n",
      "\n",
      "Epoch 00051: val_accuracy did not improve from 0.99370\n",
      "Epoch 52/100\n",
      "469/469 [==============================] - 22s 46ms/step - loss: 0.0581 - accuracy: 0.9813 - val_loss: 0.0192 - val_accuracy: 0.9935\n",
      "\n",
      "Epoch 00052: val_accuracy did not improve from 0.99370\n",
      "Epoch 53/100\n",
      "469/469 [==============================] - 23s 50ms/step - loss: 0.0579 - accuracy: 0.9813 - val_loss: 0.0191 - val_accuracy: 0.9935\n",
      "\n",
      "Epoch 00053: val_accuracy did not improve from 0.99370\n",
      "Epoch 54/100\n",
      "469/469 [==============================] - 23s 48ms/step - loss: 0.0565 - accuracy: 0.9819 - val_loss: 0.0192 - val_accuracy: 0.9934\n",
      "\n",
      "Epoch 00054: val_accuracy did not improve from 0.99370\n",
      "Epoch 55/100\n",
      "469/469 [==============================] - 23s 48ms/step - loss: 0.0568 - accuracy: 0.9820 - val_loss: 0.0192 - val_accuracy: 0.9935\n",
      "\n",
      "Epoch 00055: val_accuracy did not improve from 0.99370\n",
      "Epoch 56/100\n",
      "469/469 [==============================] - 21s 45ms/step - loss: 0.0560 - accuracy: 0.9825 - val_loss: 0.0191 - val_accuracy: 0.9934\n",
      "\n",
      "Epoch 00056: val_accuracy did not improve from 0.99370\n",
      "Epoch 57/100\n",
      "469/469 [==============================] - 23s 49ms/step - loss: 0.0571 - accuracy: 0.9820 - val_loss: 0.0192 - val_accuracy: 0.9932\n",
      "\n",
      "Epoch 00057: val_accuracy did not improve from 0.99370\n",
      "Epoch 58/100\n",
      "469/469 [==============================] - 23s 48ms/step - loss: 0.0544 - accuracy: 0.9822 - val_loss: 0.0189 - val_accuracy: 0.9936\n",
      "\n",
      "Epoch 00058: val_accuracy did not improve from 0.99370\n",
      "Epoch 59/100\n",
      "469/469 [==============================] - 22s 47ms/step - loss: 0.0566 - accuracy: 0.9819 - val_loss: 0.0191 - val_accuracy: 0.9934\n",
      "\n",
      "Epoch 00059: val_accuracy did not improve from 0.99370\n",
      "Epoch 60/100\n",
      "469/469 [==============================] - 23s 48ms/step - loss: 0.0572 - accuracy: 0.9818 - val_loss: 0.0190 - val_accuracy: 0.9934\n",
      "\n",
      "Epoch 00060: val_accuracy did not improve from 0.99370\n",
      "Epoch 61/100\n",
      "469/469 [==============================] - 23s 49ms/step - loss: 0.0568 - accuracy: 0.9817 - val_loss: 0.0189 - val_accuracy: 0.9938\n",
      "\n",
      "Epoch 00061: val_accuracy improved from 0.99370 to 0.99380, saving model to ./backup/model.best.hdf5\n",
      "Epoch 62/100\n",
      "469/469 [==============================] - 23s 49ms/step - loss: 0.0545 - accuracy: 0.9827 - val_loss: 0.0191 - val_accuracy: 0.9938\n",
      "\n",
      "Epoch 00062: val_accuracy did not improve from 0.99380\n",
      "Epoch 63/100\n",
      "469/469 [==============================] - 22s 46ms/step - loss: 0.0552 - accuracy: 0.9817 - val_loss: 0.0189 - val_accuracy: 0.9936\n",
      "\n",
      "Epoch 00063: val_accuracy did not improve from 0.99380\n",
      "Epoch 64/100\n",
      "469/469 [==============================] - 23s 49ms/step - loss: 0.0533 - accuracy: 0.9824 - val_loss: 0.0190 - val_accuracy: 0.9937\n",
      "\n",
      "Epoch 00064: val_accuracy did not improve from 0.99380\n",
      "Epoch 65/100\n",
      "469/469 [==============================] - 23s 48ms/step - loss: 0.0548 - accuracy: 0.9828 - val_loss: 0.0191 - val_accuracy: 0.9938\n",
      "\n",
      "Epoch 00065: val_accuracy did not improve from 0.99380\n",
      "Epoch 66/100\n",
      "469/469 [==============================] - 23s 48ms/step - loss: 0.0573 - accuracy: 0.9814 - val_loss: 0.0190 - val_accuracy: 0.9938\n",
      "\n",
      "Epoch 00066: val_accuracy did not improve from 0.99380\n",
      "Epoch 67/100\n",
      "469/469 [==============================] - 21s 46ms/step - loss: 0.0551 - accuracy: 0.9824 - val_loss: 0.0189 - val_accuracy: 0.9937\n",
      "\n",
      "Epoch 00067: val_accuracy did not improve from 0.99380\n",
      "Epoch 68/100\n",
      "469/469 [==============================] - 23s 49ms/step - loss: 0.0561 - accuracy: 0.9818 - val_loss: 0.0190 - val_accuracy: 0.9937\n",
      "\n",
      "Epoch 00068: val_accuracy did not improve from 0.99380\n",
      "Epoch 69/100\n",
      "469/469 [==============================] - 23s 49ms/step - loss: 0.0547 - accuracy: 0.9825 - val_loss: 0.0189 - val_accuracy: 0.9936\n",
      "\n",
      "Epoch 00069: val_accuracy did not improve from 0.99380\n",
      "Epoch 70/100\n",
      "469/469 [==============================] - 22s 46ms/step - loss: 0.0540 - accuracy: 0.9825 - val_loss: 0.0189 - val_accuracy: 0.9937\n",
      "\n",
      "Epoch 00070: val_accuracy did not improve from 0.99380\n",
      "Epoch 71/100\n",
      "469/469 [==============================] - 23s 48ms/step - loss: 0.0574 - accuracy: 0.9819 - val_loss: 0.0189 - val_accuracy: 0.9937\n",
      "\n",
      "Epoch 00071: val_accuracy did not improve from 0.99380\n",
      "Epoch 72/100\n",
      "469/469 [==============================] - 23s 50ms/step - loss: 0.0564 - accuracy: 0.9820 - val_loss: 0.0189 - val_accuracy: 0.9936\n",
      "\n",
      "Epoch 00072: val_accuracy did not improve from 0.99380\n",
      "Epoch 73/100\n",
      "469/469 [==============================] - 22s 47ms/step - loss: 0.0559 - accuracy: 0.9821 - val_loss: 0.0190 - val_accuracy: 0.9939\n",
      "\n",
      "Epoch 00073: val_accuracy improved from 0.99380 to 0.99390, saving model to ./backup/model.best.hdf5\n",
      "Epoch 74/100\n",
      "469/469 [==============================] - 21s 45ms/step - loss: 0.0552 - accuracy: 0.9827 - val_loss: 0.0190 - val_accuracy: 0.9935\n",
      "\n",
      "Epoch 00074: val_accuracy did not improve from 0.99390\n",
      "Epoch 75/100\n",
      "469/469 [==============================] - 23s 48ms/step - loss: 0.0557 - accuracy: 0.9826 - val_loss: 0.0190 - val_accuracy: 0.9936\n",
      "\n",
      "Epoch 00075: val_accuracy did not improve from 0.99390\n",
      "Epoch 76/100\n",
      "469/469 [==============================] - 22s 46ms/step - loss: 0.0561 - accuracy: 0.9823 - val_loss: 0.0189 - val_accuracy: 0.9938\n",
      "\n",
      "Epoch 00076: val_accuracy did not improve from 0.99390\n",
      "Epoch 77/100\n"
     ]
    },
    {
     "name": "stdout",
     "output_type": "stream",
     "text": [
      "469/469 [==============================] - 23s 48ms/step - loss: 0.0552 - accuracy: 0.9823 - val_loss: 0.0190 - val_accuracy: 0.9935\n",
      "\n",
      "Epoch 00077: val_accuracy did not improve from 0.99390\n",
      "Epoch 78/100\n",
      "469/469 [==============================] - 21s 45ms/step - loss: 0.0556 - accuracy: 0.9824 - val_loss: 0.0191 - val_accuracy: 0.9936\n",
      "\n",
      "Epoch 00078: val_accuracy did not improve from 0.99390\n",
      "Epoch 79/100\n",
      "469/469 [==============================] - 20s 43ms/step - loss: 0.0552 - accuracy: 0.9823 - val_loss: 0.0191 - val_accuracy: 0.9936\n",
      "\n",
      "Epoch 00079: val_accuracy did not improve from 0.99390\n",
      "Epoch 80/100\n",
      "469/469 [==============================] - 23s 49ms/step - loss: 0.0540 - accuracy: 0.9832 - val_loss: 0.0191 - val_accuracy: 0.9936\n",
      "\n",
      "Epoch 00080: val_accuracy did not improve from 0.99390\n",
      "Epoch 81/100\n",
      "469/469 [==============================] - 24s 52ms/step - loss: 0.0592 - accuracy: 0.9812 - val_loss: 0.0190 - val_accuracy: 0.9935\n",
      "\n",
      "Epoch 00081: val_accuracy did not improve from 0.99390\n",
      "Epoch 82/100\n",
      "469/469 [==============================] - 22s 47ms/step - loss: 0.0542 - accuracy: 0.9827 - val_loss: 0.0191 - val_accuracy: 0.9936\n",
      "\n",
      "Epoch 00082: val_accuracy did not improve from 0.99390\n",
      "Epoch 83/100\n",
      "469/469 [==============================] - 23s 48ms/step - loss: 0.0558 - accuracy: 0.9822 - val_loss: 0.0192 - val_accuracy: 0.9935\n",
      "\n",
      "Epoch 00083: val_accuracy did not improve from 0.99390\n",
      "Epoch 84/100\n",
      "469/469 [==============================] - 23s 48ms/step - loss: 0.0562 - accuracy: 0.9820 - val_loss: 0.0189 - val_accuracy: 0.9936\n",
      "\n",
      "Epoch 00084: val_accuracy did not improve from 0.99390\n",
      "Epoch 85/100\n",
      "469/469 [==============================] - 21s 44ms/step - loss: 0.0570 - accuracy: 0.9819 - val_loss: 0.0191 - val_accuracy: 0.9937\n",
      "\n",
      "Epoch 00085: val_accuracy did not improve from 0.99390\n",
      "Epoch 86/100\n",
      "469/469 [==============================] - 23s 49ms/step - loss: 0.0565 - accuracy: 0.9821 - val_loss: 0.0190 - val_accuracy: 0.9937\n",
      "\n",
      "Epoch 00086: val_accuracy did not improve from 0.99390\n",
      "Epoch 87/100\n",
      "469/469 [==============================] - 23s 49ms/step - loss: 0.0554 - accuracy: 0.9823 - val_loss: 0.0192 - val_accuracy: 0.9936\n",
      "\n",
      "Epoch 00087: val_accuracy did not improve from 0.99390\n",
      "Epoch 88/100\n",
      "469/469 [==============================] - 23s 49ms/step - loss: 0.0548 - accuracy: 0.9821 - val_loss: 0.0189 - val_accuracy: 0.9937\n",
      "\n",
      "Epoch 00088: val_accuracy did not improve from 0.99390\n",
      "Epoch 89/100\n",
      "469/469 [==============================] - 22s 48ms/step - loss: 0.0566 - accuracy: 0.9813 - val_loss: 0.0189 - val_accuracy: 0.9939\n",
      "\n",
      "Epoch 00089: val_accuracy did not improve from 0.99390\n",
      "Epoch 90/100\n",
      "469/469 [==============================] - 24s 50ms/step - loss: 0.0557 - accuracy: 0.9825 - val_loss: 0.0189 - val_accuracy: 0.9936\n",
      "\n",
      "Epoch 00090: val_accuracy did not improve from 0.99390\n",
      "Epoch 91/100\n",
      "469/469 [==============================] - 23s 49ms/step - loss: 0.0561 - accuracy: 0.9823 - val_loss: 0.0188 - val_accuracy: 0.9937\n",
      "\n",
      "Epoch 00091: val_accuracy did not improve from 0.99390\n",
      "Epoch 92/100\n",
      "469/469 [==============================] - 22s 47ms/step - loss: 0.0529 - accuracy: 0.9831 - val_loss: 0.0189 - val_accuracy: 0.9938\n",
      "\n",
      "Epoch 00092: val_accuracy did not improve from 0.99390\n",
      "Epoch 93/100\n",
      "469/469 [==============================] - 23s 48ms/step - loss: 0.0550 - accuracy: 0.9824 - val_loss: 0.0189 - val_accuracy: 0.9938\n",
      "\n",
      "Epoch 00093: val_accuracy did not improve from 0.99390\n",
      "Epoch 94/100\n",
      "469/469 [==============================] - 22s 47ms/step - loss: 0.0553 - accuracy: 0.9823 - val_loss: 0.0190 - val_accuracy: 0.9936\n",
      "\n",
      "Epoch 00094: val_accuracy did not improve from 0.99390\n",
      "Epoch 95/100\n",
      "469/469 [==============================] - 23s 49ms/step - loss: 0.0534 - accuracy: 0.9832 - val_loss: 0.0189 - val_accuracy: 0.9936\n",
      "\n",
      "Epoch 00095: val_accuracy did not improve from 0.99390\n",
      "Epoch 96/100\n",
      "469/469 [==============================] - 22s 47ms/step - loss: 0.0555 - accuracy: 0.9825 - val_loss: 0.0190 - val_accuracy: 0.9938\n",
      "\n",
      "Epoch 00096: val_accuracy did not improve from 0.99390\n",
      "Epoch 97/100\n",
      "469/469 [==============================] - 23s 49ms/step - loss: 0.0547 - accuracy: 0.9826 - val_loss: 0.0190 - val_accuracy: 0.9934\n",
      "\n",
      "Epoch 00097: val_accuracy did not improve from 0.99390\n",
      "Epoch 98/100\n",
      "469/469 [==============================] - 23s 49ms/step - loss: 0.0542 - accuracy: 0.9826 - val_loss: 0.0190 - val_accuracy: 0.9937\n",
      "\n",
      "Epoch 00098: val_accuracy did not improve from 0.99390\n",
      "Epoch 99/100\n",
      "469/469 [==============================] - 23s 49ms/step - loss: 0.0535 - accuracy: 0.9831 - val_loss: 0.0190 - val_accuracy: 0.9937\n",
      "\n",
      "Epoch 00099: val_accuracy did not improve from 0.99390\n",
      "Epoch 100/100\n",
      "469/469 [==============================] - 21s 46ms/step - loss: 0.0520 - accuracy: 0.9827 - val_loss: 0.0189 - val_accuracy: 0.9935\n",
      "\n",
      "Epoch 00100: val_accuracy did not improve from 0.99390\n",
      "Test loss: 0.018862737342715263\n",
      "Test accuracy: 0.9935000538825989\n",
      "Test error: 0.650%\n"
     ]
    }
   ],
   "source": [
    "datagen = ImageDataGenerator(\n",
    "    width_shift_range=0.1,\n",
    "    height_shift_range=0.1,\n",
    "    horizontal_flip=False,\n",
    "    zoom_range=0.2,\n",
    "    rotation_range = 5,\n",
    ")\n",
    "\n",
    "\n",
    "def scheduler(epoch):\n",
    "    if epoch < 25:\n",
    "        return .1\n",
    "    elif epoch < 50:\n",
    "        return 0.01\n",
    "    else:\n",
    "        return 0.001\n",
    "\n",
    "\n",
    "filepath_val_acc=\"./backup/model.best.hdf5\"\n",
    "checkpoint_val_acc = ModelCheckpoint(filepath_val_acc, monitor='val_accuracy', verbose=1, save_best_only=True, mode='max')   \n",
    "    \n",
    "history = model.fit(\n",
    "    datagen.flow(x_train, y_train,batch_size=batch_size),             \n",
    "    epochs=epochs,\n",
    "    verbose=1,\n",
    "    validation_data=(x_test, y_test),\n",
    "    callbacks=[LRS(scheduler), checkpoint_val_acc]\n",
    ")\n",
    "\n",
    "# Evaluate over test\n",
    "score = model.evaluate(x_test, y_test, verbose=0)\n",
    "\n",
    "print('Test loss:', score[0])\n",
    "print('Test accuracy:', score[1])\n",
    "print(f\"Test error: {((1-score[1]) * 100):.3f}%\")"
   ]
  },
  {
   "cell_type": "code",
   "execution_count": 8,
   "metadata": {
    "id": "88AMu759rNPC"
   },
   "outputs": [],
   "source": [
    "import matplotlib.pyplot as plt"
   ]
  },
  {
   "cell_type": "code",
   "execution_count": 9,
   "metadata": {
    "colab": {
     "base_uri": "https://localhost:8080/",
     "height": 295
    },
    "id": "maIlUZrtrPJp",
    "outputId": "96109172-3beb-4a93-faca-57e2fa3e265d"
   },
   "outputs": [
    {
     "data": {
      "image/png": "[encoded data removed]",
      "text/plain": [
       "<Figure size 432x288 with 1 Axes>"
      ]
     },
     "metadata": {
      "needs_background": "light"
     },
     "output_type": "display_data"
    }
   ],
   "source": [
    "plt.plot(history.history['accuracy'])\n",
    "plt.plot(history.history['val_accuracy'])\n",
    "plt.title('model accuracy')\n",
    "plt.ylabel('accuracy')\n",
    "plt.xlabel('epoch')\n",
    "plt.legend(['train', 'test'], loc='upper left')\n",
    "plt.show()"
   ]
  },
  {
   "cell_type": "raw",
   "metadata": {},
   "source": []
  }
 ],
 "metadata": {
  "accelerator": "GPU",
  "colab": {
   "collapsed_sections": [],
   "name": "RNA-P1.ipynb",
   "provenance": []
  },
  "kernelspec": {
   "display_name": "Python 3 (ipykernel)",
   "language": "python",
   "name": "python3"
  },
  "language_info": {
   "codemirror_mode": {
    "name": "ipython",
    "version": 3
   },
   "file_extension": ".py",
   "mimetype": "text/x-python",
   "name": "python",
   "nbconvert_exporter": "python",
   "pygments_lexer": "ipython3",
   "version": "3.9.7"
  }
 },
 "nbformat": 4,
 "nbformat_minor": 1
}
