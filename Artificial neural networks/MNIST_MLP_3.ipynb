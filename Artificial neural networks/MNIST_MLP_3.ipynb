{
 "cells": [
  {
   "cell_type": "markdown",
   "metadata": {
    "id": "pAO-QyfXy-HB"
   },
   "source": [
    "**BASIC MNIST EXAMPLE WITH MLP**"
   ]
  },
  {
   "cell_type": "markdown",
   "metadata": {
    "id": "KQbLK9xczBIT"
   },
   "source": [
    "Imports..."
   ]
  },
  {
   "cell_type": "code",
   "execution_count": 1,
   "metadata": {
    "id": "WLBeaZ9Cq1x8"
   },
   "outputs": [
    {
     "name": "stdout",
     "output_type": "stream",
     "text": [
      "Init Plugin\n",
      "Init Graph Optimizer\n",
      "Init Kernel\n"
     ]
    }
   ],
   "source": [
    "from numpy.random import seed\n",
    "seed(86148)\n",
    "\n",
    "from __future__ import print_function\n",
    "import tensorflow as tf\n",
    "from tensorflow import keras\n",
    "from tensorflow.keras.datasets import mnist\n",
    "from tensorflow.keras.layers import BatchNormalization as BN\n",
    "from tensorflow.keras.layers import GaussianNoise as GN\n",
    "from tensorflow.keras.models import Sequential\n",
    "from tensorflow.keras.layers import Dense, Activation, Flatten, Dropout, Input, Reshape\n",
    "from tensorflow.keras.optimizers import SGD\n",
    "from tensorflow.keras import utils\n",
    "from tensorflow.keras.preprocessing.image import ImageDataGenerator\n",
    "from tensorflow.keras.callbacks import LearningRateScheduler as LRS\n",
    "from tensorflow.keras.preprocessing.image import ImageDataGenerator\n",
    "from tensorflow.keras.callbacks import ModelCheckpoint\n"
   ]
  },
  {
   "cell_type": "markdown",
   "metadata": {
    "id": "eMUUIY7GzS4h"
   },
   "source": [
    "Define batch size, number of epochs and number of classes"
   ]
  },
  {
   "cell_type": "code",
   "execution_count": 2,
   "metadata": {
    "id": "PI_I4NCurALp"
   },
   "outputs": [],
   "source": [
    "batch_size = 128\n",
    "epochs = 100\n",
    "num_classes=10\n",
    "dropout = 0.3"
   ]
  },
  {
   "cell_type": "markdown",
   "metadata": {
    "id": "JXUIdKbOzENY"
   },
   "source": [
    "Load MNIST and transform\n",
    "\n"
   ]
  },
  {
   "cell_type": "code",
   "execution_count": 3,
   "metadata": {
    "colab": {
     "base_uri": "https://localhost:8080/"
    },
    "id": "rGUGaKS_rCnv",
    "outputId": "c9ee6b7d-226a-4adf-cd60-b58183ca90f6"
   },
   "outputs": [
    {
     "name": "stdout",
     "output_type": "stream",
     "text": [
      "training set (60000, 28, 28)\n",
      "test set (10000, 28, 28)\n"
     ]
    }
   ],
   "source": [
    "(x_train, y_train), (x_test, y_test) = mnist.load_data()\n",
    "\n",
    "print('training set', x_train.shape)\n",
    "print('test set', x_test.shape)\n",
    "\n",
    "x_train = x_train.reshape(60000, 28,28,1)\n",
    "x_test = x_test.reshape(10000, 28,28,1)\n",
    "x_train = x_train.astype('float32')\n",
    "x_test = x_test.astype('float32')\n",
    "\n",
    "# Normalize [0..255]-->[0..1]\n",
    "x_train /= 255\n",
    "x_test /= 255\n",
    "\n",
    "# convert class vectors to binary class matrices\n",
    "y_train = keras.utils.to_categorical(y_train, num_classes)\n",
    "y_test = keras.utils.to_categorical(y_test, num_classes)"
   ]
  },
  {
   "cell_type": "markdown",
   "metadata": {
    "id": "3FaOkTo5zMEC"
   },
   "source": [
    "Define the NN topology, a sequential model with 2 hidden layers"
   ]
  },
  {
   "cell_type": "code",
   "execution_count": 4,
   "metadata": {
    "colab": {
     "base_uri": "https://localhost:8080/"
    },
    "id": "PUtzEN3DrEeD",
    "outputId": "1ccf8f40-ea4d-419e-94f7-f9f8ab844196"
   },
   "outputs": [
    {
     "name": "stdout",
     "output_type": "stream",
     "text": [
      "Metal device set to: Apple M1\n",
      "Model: \"sequential\"\n",
      "_________________________________________________________________\n",
      "Layer (type)                 Output Shape              Param #   \n",
      "=================================================================\n",
      "reshape (Reshape)            (None, 784)               0         \n",
      "_________________________________________________________________\n",
      "gaussian_noise (GaussianNois (None, 784)               0         \n",
      "_________________________________________________________________\n",
      "dense (Dense)                (None, 1024)              803840    \n",
      "_________________________________________________________________\n",
      "batch_normalization (BatchNo (None, 1024)              4096      \n",
      "_________________________________________________________________\n",
      "gaussian_noise_1 (GaussianNo (None, 1024)              0         \n",
      "_________________________________________________________________\n",
      "activation (Activation)      (None, 1024)              0         \n",
      "_________________________________________________________________\n",
      "dense_1 (Dense)              (None, 1024)              1049600   \n",
      "_________________________________________________________________\n",
      "batch_normalization_1 (Batch (None, 1024)              4096      \n",
      "_________________________________________________________________\n",
      "gaussian_noise_2 (GaussianNo (None, 1024)              0         \n",
      "_________________________________________________________________\n",
      "activation_1 (Activation)    (None, 1024)              0         \n",
      "_________________________________________________________________\n",
      "dense_2 (Dense)              (None, 10)                10250     \n",
      "=================================================================\n",
      "Total params: 1,871,882\n",
      "Trainable params: 1,867,786\n",
      "Non-trainable params: 4,096\n",
      "_________________________________________________________________\n"
     ]
    },
    {
     "name": "stderr",
     "output_type": "stream",
     "text": [
      "2021-12-26 18:00:59.599812: I tensorflow/core/common_runtime/pluggable_device/pluggable_device_factory.cc:305] Could not identify NUMA node of platform GPU ID 0, defaulting to 0. Your kernel may not have been built with NUMA support.\n",
      "2021-12-26 18:00:59.599923: I tensorflow/core/common_runtime/pluggable_device/pluggable_device_factory.cc:271] Created TensorFlow device (/job:localhost/replica:0/task:0/device:GPU:0 with 0 MB memory) -> physical PluggableDevice (device: 0, name: METAL, pci bus id: <undefined>)\n"
     ]
    }
   ],
   "source": [
    "model = Sequential()\n",
    "model.add(Reshape(target_shape=(784,), input_shape=(28,28,1)))\n",
    "model.add(GN(0.2))\n",
    "\n",
    "model.add(Dense(1024))\n",
    "model.add(BN())\n",
    "model.add(GN(0.2))\n",
    "#model.add(Dropout(dropout))\n",
    "model.add(Activation('relu'))\n",
    "\n",
    "\n",
    "model.add(Dense(1024))\n",
    "model.add(BN())\n",
    "model.add(GN(0.2))\n",
    "#model.add(Dropout(dropout))\n",
    "model.add(Activation('relu'))\n",
    "\n",
    "\n",
    "model.add(Dense(num_classes, activation='softmax'))\n",
    "\n",
    "model.summary()\n"
   ]
  },
  {
   "cell_type": "markdown",
   "metadata": {
    "id": "hz2e5a71zfM0"
   },
   "source": [
    "Define an optimizer "
   ]
  },
  {
   "cell_type": "code",
   "execution_count": 5,
   "metadata": {
    "id": "dDaIrcWJrGHt"
   },
   "outputs": [],
   "source": [
    "sgd = SGD(learning_rate=0.01, decay=1e-6, momentum=0.9) # \"adam\" "
   ]
  },
  {
   "cell_type": "markdown",
   "metadata": {
    "id": "HhLdpldmziZ8"
   },
   "source": [
    "Compile the model, define loss and link the optimizer"
   ]
  },
  {
   "cell_type": "code",
   "execution_count": 6,
   "metadata": {
    "id": "_9dSQJ2orHvW"
   },
   "outputs": [],
   "source": [
    "model.compile(loss='categorical_crossentropy',\n",
    "              optimizer=sgd,\n",
    "              metrics=['accuracy'])"
   ]
  },
  {
   "cell_type": "markdown",
   "metadata": {
    "id": "tCjool2Azkyn"
   },
   "source": [
    "Finally, train the model and evaluate over the test data"
   ]
  },
  {
   "cell_type": "code",
   "execution_count": 7,
   "metadata": {
    "colab": {
     "base_uri": "https://localhost:8080/"
    },
    "id": "WooG0upBrLwq",
    "outputId": "5de9d62e-2d4c-4073-f661-6c0e9173b784",
    "scrolled": true
   },
   "outputs": [
    {
     "name": "stderr",
     "output_type": "stream",
     "text": [
      "2021-12-26 18:00:59.864760: I tensorflow/compiler/mlir/mlir_graph_optimization_pass.cc:176] None of the MLIR Optimization Passes are enabled (registered 2)\n",
      "2021-12-26 18:00:59.864872: W tensorflow/core/platform/profile_utils/cpu_utils.cc:128] Failed to get CPU frequency: 0 Hz\n",
      "2021-12-26 18:01:00.025207: I tensorflow/core/grappler/optimizers/custom_graph_optimizer_registry.cc:112] Plugin optimizer for device_type GPU is enabled.\n"
     ]
    },
    {
     "name": "stdout",
     "output_type": "stream",
     "text": [
      "Epoch 1/100\n",
      "469/469 [==============================] - ETA: 0s - loss: 0.6276 - accuracy: 0.8227"
     ]
    },
    {
     "name": "stderr",
     "output_type": "stream",
     "text": [
      "2021-12-26 18:01:07.868803: I tensorflow/core/grappler/optimizers/custom_graph_optimizer_registry.cc:112] Plugin optimizer for device_type GPU is enabled.\n"
     ]
    },
    {
     "name": "stdout",
     "output_type": "stream",
     "text": [
      "469/469 [==============================] - 9s 19ms/step - loss: 0.6276 - accuracy: 0.8227 - val_loss: 0.1200 - val_accuracy: 0.9626\n",
      "\n",
      "Epoch 00001: val_accuracy improved from -inf to 0.96260, saving model to ./backup/model.best.hdf5\n",
      "Epoch 2/100\n",
      "469/469 [==============================] - 9s 19ms/step - loss: 0.2810 - accuracy: 0.9160 - val_loss: 0.0764 - val_accuracy: 0.9762\n",
      "\n",
      "Epoch 00002: val_accuracy improved from 0.96260 to 0.97620, saving model to ./backup/model.best.hdf5\n",
      "Epoch 3/100\n",
      "469/469 [==============================] - 9s 19ms/step - loss: 0.2144 - accuracy: 0.9336 - val_loss: 0.0829 - val_accuracy: 0.9735\n",
      "\n",
      "Epoch 00003: val_accuracy did not improve from 0.97620\n",
      "Epoch 4/100\n",
      "469/469 [==============================] - 9s 19ms/step - loss: 0.1869 - accuracy: 0.9421 - val_loss: 0.0573 - val_accuracy: 0.9816\n",
      "\n",
      "Epoch 00004: val_accuracy improved from 0.97620 to 0.98160, saving model to ./backup/model.best.hdf5\n",
      "Epoch 5/100\n",
      "469/469 [==============================] - 9s 19ms/step - loss: 0.1701 - accuracy: 0.9477 - val_loss: 0.0496 - val_accuracy: 0.9842\n",
      "\n",
      "Epoch 00005: val_accuracy improved from 0.98160 to 0.98420, saving model to ./backup/model.best.hdf5\n",
      "Epoch 6/100\n",
      "469/469 [==============================] - 9s 19ms/step - loss: 0.1553 - accuracy: 0.9520 - val_loss: 0.0501 - val_accuracy: 0.9830\n",
      "\n",
      "Epoch 00006: val_accuracy did not improve from 0.98420\n",
      "Epoch 7/100\n",
      "469/469 [==============================] - 9s 19ms/step - loss: 0.1423 - accuracy: 0.9569 - val_loss: 0.0436 - val_accuracy: 0.9857\n",
      "\n",
      "Epoch 00007: val_accuracy improved from 0.98420 to 0.98570, saving model to ./backup/model.best.hdf5\n",
      "Epoch 8/100\n",
      "469/469 [==============================] - 9s 19ms/step - loss: 0.1370 - accuracy: 0.9577 - val_loss: 0.0393 - val_accuracy: 0.9879\n",
      "\n",
      "Epoch 00008: val_accuracy improved from 0.98570 to 0.98790, saving model to ./backup/model.best.hdf5\n",
      "Epoch 9/100\n",
      "469/469 [==============================] - 9s 19ms/step - loss: 0.1284 - accuracy: 0.9597 - val_loss: 0.0375 - val_accuracy: 0.9870\n",
      "\n",
      "Epoch 00009: val_accuracy did not improve from 0.98790\n",
      "Epoch 10/100\n",
      "469/469 [==============================] - 9s 19ms/step - loss: 0.1273 - accuracy: 0.9603 - val_loss: 0.0411 - val_accuracy: 0.9861\n",
      "\n",
      "Epoch 00010: val_accuracy did not improve from 0.98790\n",
      "Epoch 11/100\n",
      "469/469 [==============================] - 9s 19ms/step - loss: 0.1197 - accuracy: 0.9627 - val_loss: 0.0333 - val_accuracy: 0.9886\n",
      "\n",
      "Epoch 00011: val_accuracy improved from 0.98790 to 0.98860, saving model to ./backup/model.best.hdf5\n",
      "Epoch 12/100\n",
      "469/469 [==============================] - 9s 20ms/step - loss: 0.1172 - accuracy: 0.9641 - val_loss: 0.0350 - val_accuracy: 0.9884\n",
      "\n",
      "Epoch 00012: val_accuracy did not improve from 0.98860\n",
      "Epoch 13/100\n",
      "469/469 [==============================] - 9s 19ms/step - loss: 0.1086 - accuracy: 0.9662 - val_loss: 0.0349 - val_accuracy: 0.9884\n",
      "\n",
      "Epoch 00013: val_accuracy did not improve from 0.98860\n",
      "Epoch 14/100\n",
      "469/469 [==============================] - 9s 19ms/step - loss: 0.1112 - accuracy: 0.9654 - val_loss: 0.0286 - val_accuracy: 0.9911\n",
      "\n",
      "Epoch 00014: val_accuracy improved from 0.98860 to 0.99110, saving model to ./backup/model.best.hdf5\n",
      "Epoch 15/100\n",
      "469/469 [==============================] - 9s 19ms/step - loss: 0.1016 - accuracy: 0.9677 - val_loss: 0.0302 - val_accuracy: 0.9900\n",
      "\n",
      "Epoch 00015: val_accuracy did not improve from 0.99110\n",
      "Epoch 16/100\n",
      "469/469 [==============================] - 9s 19ms/step - loss: 0.1029 - accuracy: 0.9671 - val_loss: 0.0339 - val_accuracy: 0.9885\n",
      "\n",
      "Epoch 00016: val_accuracy did not improve from 0.99110\n",
      "Epoch 17/100\n",
      "469/469 [==============================] - 9s 19ms/step - loss: 0.0991 - accuracy: 0.9686 - val_loss: 0.0323 - val_accuracy: 0.9895\n",
      "\n",
      "Epoch 00017: val_accuracy did not improve from 0.99110\n",
      "Epoch 18/100\n",
      "469/469 [==============================] - 9s 19ms/step - loss: 0.0957 - accuracy: 0.9693 - val_loss: 0.0266 - val_accuracy: 0.9903\n",
      "\n",
      "Epoch 00018: val_accuracy did not improve from 0.99110\n",
      "Epoch 19/100\n",
      "469/469 [==============================] - 9s 19ms/step - loss: 0.0937 - accuracy: 0.9701 - val_loss: 0.0306 - val_accuracy: 0.9901\n",
      "\n",
      "Epoch 00019: val_accuracy did not improve from 0.99110\n",
      "Epoch 20/100\n",
      "469/469 [==============================] - 9s 19ms/step - loss: 0.0936 - accuracy: 0.9703 - val_loss: 0.0265 - val_accuracy: 0.9919\n",
      "\n",
      "Epoch 00020: val_accuracy improved from 0.99110 to 0.99190, saving model to ./backup/model.best.hdf5\n",
      "Epoch 21/100\n",
      "469/469 [==============================] - 9s 19ms/step - loss: 0.0926 - accuracy: 0.9709 - val_loss: 0.0309 - val_accuracy: 0.9903\n",
      "\n",
      "Epoch 00021: val_accuracy did not improve from 0.99190\n",
      "Epoch 22/100\n",
      "469/469 [==============================] - 9s 19ms/step - loss: 0.0895 - accuracy: 0.9715 - val_loss: 0.0293 - val_accuracy: 0.9910\n",
      "\n",
      "Epoch 00022: val_accuracy did not improve from 0.99190\n",
      "Epoch 23/100\n",
      "469/469 [==============================] - 9s 19ms/step - loss: 0.0872 - accuracy: 0.9720 - val_loss: 0.0267 - val_accuracy: 0.9905\n",
      "\n",
      "Epoch 00023: val_accuracy did not improve from 0.99190\n",
      "Epoch 24/100\n",
      "469/469 [==============================] - 9s 19ms/step - loss: 0.0857 - accuracy: 0.9724 - val_loss: 0.0280 - val_accuracy: 0.9913\n",
      "\n",
      "Epoch 00024: val_accuracy did not improve from 0.99190\n",
      "Epoch 25/100\n",
      "469/469 [==============================] - 9s 19ms/step - loss: 0.0803 - accuracy: 0.9740 - val_loss: 0.0288 - val_accuracy: 0.9898\n",
      "\n",
      "Epoch 00025: val_accuracy did not improve from 0.99190\n",
      "Epoch 26/100\n",
      "469/469 [==============================] - 9s 19ms/step - loss: 0.0774 - accuracy: 0.9760 - val_loss: 0.0249 - val_accuracy: 0.9912\n",
      "\n",
      "Epoch 00026: val_accuracy did not improve from 0.99190\n",
      "Epoch 27/100\n",
      "469/469 [==============================] - 9s 19ms/step - loss: 0.0728 - accuracy: 0.9773 - val_loss: 0.0235 - val_accuracy: 0.9918\n",
      "\n",
      "Epoch 00027: val_accuracy did not improve from 0.99190\n",
      "Epoch 28/100\n",
      "469/469 [==============================] - 9s 19ms/step - loss: 0.0703 - accuracy: 0.9776 - val_loss: 0.0224 - val_accuracy: 0.9924\n",
      "\n",
      "Epoch 00028: val_accuracy improved from 0.99190 to 0.99240, saving model to ./backup/model.best.hdf5\n",
      "Epoch 29/100\n",
      "469/469 [==============================] - 9s 19ms/step - loss: 0.0668 - accuracy: 0.9784 - val_loss: 0.0221 - val_accuracy: 0.9921\n",
      "\n",
      "Epoch 00029: val_accuracy did not improve from 0.99240\n",
      "Epoch 30/100\n",
      "469/469 [==============================] - 9s 19ms/step - loss: 0.0690 - accuracy: 0.9777 - val_loss: 0.0211 - val_accuracy: 0.9922\n",
      "\n",
      "Epoch 00030: val_accuracy did not improve from 0.99240\n",
      "Epoch 31/100\n",
      "469/469 [==============================] - 9s 19ms/step - loss: 0.0654 - accuracy: 0.9797 - val_loss: 0.0207 - val_accuracy: 0.9927\n",
      "\n",
      "Epoch 00031: val_accuracy improved from 0.99240 to 0.99270, saving model to ./backup/model.best.hdf5\n",
      "Epoch 32/100\n",
      "469/469 [==============================] - 9s 19ms/step - loss: 0.0627 - accuracy: 0.9802 - val_loss: 0.0210 - val_accuracy: 0.9925\n",
      "\n",
      "Epoch 00032: val_accuracy did not improve from 0.99270\n",
      "Epoch 33/100\n",
      "469/469 [==============================] - 9s 19ms/step - loss: 0.0676 - accuracy: 0.9787 - val_loss: 0.0209 - val_accuracy: 0.9924\n",
      "\n",
      "Epoch 00033: val_accuracy did not improve from 0.99270\n",
      "Epoch 34/100\n",
      "469/469 [==============================] - 9s 19ms/step - loss: 0.0643 - accuracy: 0.9800 - val_loss: 0.0208 - val_accuracy: 0.9932\n",
      "\n",
      "Epoch 00034: val_accuracy improved from 0.99270 to 0.99320, saving model to ./backup/model.best.hdf5\n",
      "Epoch 35/100\n",
      "469/469 [==============================] - 9s 19ms/step - loss: 0.0638 - accuracy: 0.9793 - val_loss: 0.0207 - val_accuracy: 0.9925\n",
      "\n",
      "Epoch 00035: val_accuracy did not improve from 0.99320\n",
      "Epoch 36/100\n",
      "469/469 [==============================] - 9s 19ms/step - loss: 0.0632 - accuracy: 0.9800 - val_loss: 0.0204 - val_accuracy: 0.9928\n",
      "\n",
      "Epoch 00036: val_accuracy did not improve from 0.99320\n",
      "Epoch 37/100\n",
      "469/469 [==============================] - 9s 19ms/step - loss: 0.0619 - accuracy: 0.9805 - val_loss: 0.0204 - val_accuracy: 0.9929\n",
      "\n",
      "Epoch 00037: val_accuracy did not improve from 0.99320\n",
      "Epoch 38/100\n",
      "469/469 [==============================] - 9s 19ms/step - loss: 0.0606 - accuracy: 0.9807 - val_loss: 0.0210 - val_accuracy: 0.9926\n",
      "\n",
      "Epoch 00038: val_accuracy did not improve from 0.99320\n",
      "Epoch 39/100\n"
     ]
    },
    {
     "name": "stdout",
     "output_type": "stream",
     "text": [
      "469/469 [==============================] - 9s 19ms/step - loss: 0.0616 - accuracy: 0.9804 - val_loss: 0.0205 - val_accuracy: 0.9930\n",
      "\n",
      "Epoch 00039: val_accuracy did not improve from 0.99320\n",
      "Epoch 40/100\n",
      "469/469 [==============================] - 9s 19ms/step - loss: 0.0615 - accuracy: 0.9804 - val_loss: 0.0200 - val_accuracy: 0.9928\n",
      "\n",
      "Epoch 00040: val_accuracy did not improve from 0.99320\n",
      "Epoch 41/100\n",
      "469/469 [==============================] - 9s 19ms/step - loss: 0.0604 - accuracy: 0.9800 - val_loss: 0.0201 - val_accuracy: 0.9928\n",
      "\n",
      "Epoch 00041: val_accuracy did not improve from 0.99320\n",
      "Epoch 42/100\n",
      "469/469 [==============================] - 9s 19ms/step - loss: 0.0604 - accuracy: 0.9800 - val_loss: 0.0201 - val_accuracy: 0.9933\n",
      "\n",
      "Epoch 00042: val_accuracy improved from 0.99320 to 0.99330, saving model to ./backup/model.best.hdf5\n",
      "Epoch 43/100\n",
      "469/469 [==============================] - 9s 19ms/step - loss: 0.0583 - accuracy: 0.9814 - val_loss: 0.0197 - val_accuracy: 0.9936\n",
      "\n",
      "Epoch 00043: val_accuracy improved from 0.99330 to 0.99360, saving model to ./backup/model.best.hdf5\n",
      "Epoch 44/100\n",
      "469/469 [==============================] - 9s 19ms/step - loss: 0.0604 - accuracy: 0.9811 - val_loss: 0.0198 - val_accuracy: 0.9934\n",
      "\n",
      "Epoch 00044: val_accuracy did not improve from 0.99360\n",
      "Epoch 45/100\n",
      "469/469 [==============================] - 9s 19ms/step - loss: 0.0613 - accuracy: 0.9809 - val_loss: 0.0195 - val_accuracy: 0.9934\n",
      "\n",
      "Epoch 00045: val_accuracy did not improve from 0.99360\n",
      "Epoch 46/100\n",
      "469/469 [==============================] - 9s 19ms/step - loss: 0.0584 - accuracy: 0.9817 - val_loss: 0.0195 - val_accuracy: 0.9931\n",
      "\n",
      "Epoch 00046: val_accuracy did not improve from 0.99360\n",
      "Epoch 47/100\n",
      "469/469 [==============================] - 9s 19ms/step - loss: 0.0587 - accuracy: 0.9813 - val_loss: 0.0192 - val_accuracy: 0.9935\n",
      "\n",
      "Epoch 00047: val_accuracy did not improve from 0.99360\n",
      "Epoch 48/100\n",
      "469/469 [==============================] - 9s 19ms/step - loss: 0.0577 - accuracy: 0.9819 - val_loss: 0.0188 - val_accuracy: 0.9931\n",
      "\n",
      "Epoch 00048: val_accuracy did not improve from 0.99360\n",
      "Epoch 49/100\n",
      "469/469 [==============================] - 9s 19ms/step - loss: 0.0596 - accuracy: 0.9813 - val_loss: 0.0195 - val_accuracy: 0.9930\n",
      "\n",
      "Epoch 00049: val_accuracy did not improve from 0.99360\n",
      "Epoch 50/100\n",
      "469/469 [==============================] - 9s 19ms/step - loss: 0.0586 - accuracy: 0.9817 - val_loss: 0.0189 - val_accuracy: 0.9927\n",
      "\n",
      "Epoch 00050: val_accuracy did not improve from 0.99360\n",
      "Epoch 51/100\n",
      "469/469 [==============================] - 9s 19ms/step - loss: 0.0568 - accuracy: 0.9820 - val_loss: 0.0189 - val_accuracy: 0.9929\n",
      "\n",
      "Epoch 00051: val_accuracy did not improve from 0.99360\n",
      "Epoch 52/100\n",
      "469/469 [==============================] - 9s 19ms/step - loss: 0.0597 - accuracy: 0.9814 - val_loss: 0.0190 - val_accuracy: 0.9929\n",
      "\n",
      "Epoch 00052: val_accuracy did not improve from 0.99360\n",
      "Epoch 53/100\n",
      "469/469 [==============================] - 9s 19ms/step - loss: 0.0570 - accuracy: 0.9822 - val_loss: 0.0190 - val_accuracy: 0.9929\n",
      "\n",
      "Epoch 00053: val_accuracy did not improve from 0.99360\n",
      "Epoch 54/100\n",
      "469/469 [==============================] - 9s 19ms/step - loss: 0.0553 - accuracy: 0.9822 - val_loss: 0.0190 - val_accuracy: 0.9929\n",
      "\n",
      "Epoch 00054: val_accuracy did not improve from 0.99360\n",
      "Epoch 55/100\n",
      "469/469 [==============================] - 9s 19ms/step - loss: 0.0561 - accuracy: 0.9818 - val_loss: 0.0190 - val_accuracy: 0.9931\n",
      "\n",
      "Epoch 00055: val_accuracy did not improve from 0.99360\n",
      "Epoch 56/100\n",
      "469/469 [==============================] - 9s 19ms/step - loss: 0.0544 - accuracy: 0.9829 - val_loss: 0.0192 - val_accuracy: 0.9930\n",
      "\n",
      "Epoch 00056: val_accuracy did not improve from 0.99360\n",
      "Epoch 57/100\n",
      "469/469 [==============================] - 9s 19ms/step - loss: 0.0576 - accuracy: 0.9813 - val_loss: 0.0192 - val_accuracy: 0.9928\n",
      "\n",
      "Epoch 00057: val_accuracy did not improve from 0.99360\n",
      "Epoch 58/100\n",
      "469/469 [==============================] - 9s 19ms/step - loss: 0.0561 - accuracy: 0.9816 - val_loss: 0.0191 - val_accuracy: 0.9928\n",
      "\n",
      "Epoch 00058: val_accuracy did not improve from 0.99360\n",
      "Epoch 59/100\n",
      "469/469 [==============================] - 9s 19ms/step - loss: 0.0554 - accuracy: 0.9823 - val_loss: 0.0189 - val_accuracy: 0.9929\n",
      "\n",
      "Epoch 00059: val_accuracy did not improve from 0.99360\n",
      "Epoch 60/100\n",
      "469/469 [==============================] - 9s 19ms/step - loss: 0.0550 - accuracy: 0.9823 - val_loss: 0.0188 - val_accuracy: 0.9932\n",
      "\n",
      "Epoch 00060: val_accuracy did not improve from 0.99360\n",
      "Epoch 61/100\n",
      "469/469 [==============================] - 9s 19ms/step - loss: 0.0571 - accuracy: 0.9814 - val_loss: 0.0189 - val_accuracy: 0.9932\n",
      "\n",
      "Epoch 00061: val_accuracy did not improve from 0.99360\n",
      "Epoch 62/100\n",
      "469/469 [==============================] - 9s 19ms/step - loss: 0.0576 - accuracy: 0.9817 - val_loss: 0.0190 - val_accuracy: 0.9930\n",
      "\n",
      "Epoch 00062: val_accuracy did not improve from 0.99360\n",
      "Epoch 63/100\n",
      "469/469 [==============================] - 9s 19ms/step - loss: 0.0576 - accuracy: 0.9811 - val_loss: 0.0189 - val_accuracy: 0.9932\n",
      "\n",
      "Epoch 00063: val_accuracy did not improve from 0.99360\n",
      "Epoch 64/100\n",
      "469/469 [==============================] - 9s 19ms/step - loss: 0.0573 - accuracy: 0.9821 - val_loss: 0.0190 - val_accuracy: 0.9931\n",
      "\n",
      "Epoch 00064: val_accuracy did not improve from 0.99360\n",
      "Epoch 65/100\n",
      "469/469 [==============================] - 9s 19ms/step - loss: 0.0580 - accuracy: 0.9822 - val_loss: 0.0188 - val_accuracy: 0.9932\n",
      "\n",
      "Epoch 00065: val_accuracy did not improve from 0.99360\n",
      "Epoch 66/100\n",
      "469/469 [==============================] - 9s 19ms/step - loss: 0.0578 - accuracy: 0.9813 - val_loss: 0.0188 - val_accuracy: 0.9932\n",
      "\n",
      "Epoch 00066: val_accuracy did not improve from 0.99360\n",
      "Epoch 67/100\n",
      "469/469 [==============================] - 9s 19ms/step - loss: 0.0557 - accuracy: 0.9823 - val_loss: 0.0189 - val_accuracy: 0.9934\n",
      "\n",
      "Epoch 00067: val_accuracy did not improve from 0.99360\n",
      "Epoch 68/100\n",
      "469/469 [==============================] - 9s 19ms/step - loss: 0.0564 - accuracy: 0.9824 - val_loss: 0.0189 - val_accuracy: 0.9933\n",
      "\n",
      "Epoch 00068: val_accuracy did not improve from 0.99360\n",
      "Epoch 69/100\n",
      "469/469 [==============================] - 9s 19ms/step - loss: 0.0560 - accuracy: 0.9825 - val_loss: 0.0186 - val_accuracy: 0.9934\n",
      "\n",
      "Epoch 00069: val_accuracy did not improve from 0.99360\n",
      "Epoch 70/100\n",
      "469/469 [==============================] - 9s 19ms/step - loss: 0.0554 - accuracy: 0.9822 - val_loss: 0.0187 - val_accuracy: 0.9933\n",
      "\n",
      "Epoch 00070: val_accuracy did not improve from 0.99360\n",
      "Epoch 71/100\n",
      "469/469 [==============================] - 9s 19ms/step - loss: 0.0567 - accuracy: 0.9818 - val_loss: 0.0189 - val_accuracy: 0.9929\n",
      "\n",
      "Epoch 00071: val_accuracy did not improve from 0.99360\n",
      "Epoch 72/100\n",
      "469/469 [==============================] - 9s 19ms/step - loss: 0.0526 - accuracy: 0.9833 - val_loss: 0.0188 - val_accuracy: 0.9932\n",
      "\n",
      "Epoch 00072: val_accuracy did not improve from 0.99360\n",
      "Epoch 73/100\n",
      "469/469 [==============================] - 9s 19ms/step - loss: 0.0549 - accuracy: 0.9824 - val_loss: 0.0187 - val_accuracy: 0.9930\n",
      "\n",
      "Epoch 00073: val_accuracy did not improve from 0.99360\n",
      "Epoch 74/100\n",
      "469/469 [==============================] - 9s 19ms/step - loss: 0.0567 - accuracy: 0.9814 - val_loss: 0.0186 - val_accuracy: 0.9929\n",
      "\n",
      "Epoch 00074: val_accuracy did not improve from 0.99360\n",
      "Epoch 75/100\n",
      "469/469 [==============================] - 9s 19ms/step - loss: 0.0549 - accuracy: 0.9827 - val_loss: 0.0188 - val_accuracy: 0.9932\n",
      "\n",
      "Epoch 00075: val_accuracy did not improve from 0.99360\n",
      "Epoch 76/100\n",
      "469/469 [==============================] - 9s 19ms/step - loss: 0.0535 - accuracy: 0.9831 - val_loss: 0.0188 - val_accuracy: 0.9931\n",
      "\n",
      "Epoch 00076: val_accuracy did not improve from 0.99360\n",
      "Epoch 77/100\n",
      "469/469 [==============================] - 9s 19ms/step - loss: 0.0575 - accuracy: 0.9814 - val_loss: 0.0186 - val_accuracy: 0.9933\n",
      "\n",
      "Epoch 00077: val_accuracy did not improve from 0.99360\n",
      "Epoch 78/100\n",
      "469/469 [==============================] - 9s 19ms/step - loss: 0.0541 - accuracy: 0.9826 - val_loss: 0.0188 - val_accuracy: 0.9934\n",
      "\n",
      "Epoch 00078: val_accuracy did not improve from 0.99360\n",
      "Epoch 79/100\n"
     ]
    },
    {
     "name": "stdout",
     "output_type": "stream",
     "text": [
      "469/469 [==============================] - 9s 19ms/step - loss: 0.0557 - accuracy: 0.9819 - val_loss: 0.0188 - val_accuracy: 0.9933\n",
      "\n",
      "Epoch 00079: val_accuracy did not improve from 0.99360\n",
      "Epoch 80/100\n",
      "469/469 [==============================] - 9s 19ms/step - loss: 0.0572 - accuracy: 0.9819 - val_loss: 0.0190 - val_accuracy: 0.9927\n",
      "\n",
      "Epoch 00080: val_accuracy did not improve from 0.99360\n",
      "Epoch 81/100\n",
      "469/469 [==============================] - 9s 19ms/step - loss: 0.0563 - accuracy: 0.9824 - val_loss: 0.0188 - val_accuracy: 0.9932\n",
      "\n",
      "Epoch 00081: val_accuracy did not improve from 0.99360\n",
      "Epoch 82/100\n",
      "469/469 [==============================] - 9s 19ms/step - loss: 0.0563 - accuracy: 0.9816 - val_loss: 0.0188 - val_accuracy: 0.9930\n",
      "\n",
      "Epoch 00082: val_accuracy did not improve from 0.99360\n",
      "Epoch 83/100\n",
      "469/469 [==============================] - 9s 19ms/step - loss: 0.0543 - accuracy: 0.9826 - val_loss: 0.0188 - val_accuracy: 0.9931\n",
      "\n",
      "Epoch 00083: val_accuracy did not improve from 0.99360\n",
      "Epoch 84/100\n",
      "469/469 [==============================] - 9s 19ms/step - loss: 0.0541 - accuracy: 0.9828 - val_loss: 0.0188 - val_accuracy: 0.9931\n",
      "\n",
      "Epoch 00084: val_accuracy did not improve from 0.99360\n",
      "Epoch 85/100\n",
      "469/469 [==============================] - 9s 19ms/step - loss: 0.0570 - accuracy: 0.9819 - val_loss: 0.0187 - val_accuracy: 0.9932\n",
      "\n",
      "Epoch 00085: val_accuracy did not improve from 0.99360\n",
      "Epoch 86/100\n",
      "469/469 [==============================] - 9s 19ms/step - loss: 0.0561 - accuracy: 0.9819 - val_loss: 0.0187 - val_accuracy: 0.9934\n",
      "\n",
      "Epoch 00086: val_accuracy did not improve from 0.99360\n",
      "Epoch 87/100\n",
      "469/469 [==============================] - 9s 19ms/step - loss: 0.0546 - accuracy: 0.9823 - val_loss: 0.0188 - val_accuracy: 0.9933\n",
      "\n",
      "Epoch 00087: val_accuracy did not improve from 0.99360\n",
      "Epoch 88/100\n",
      "469/469 [==============================] - 9s 19ms/step - loss: 0.0550 - accuracy: 0.9817 - val_loss: 0.0188 - val_accuracy: 0.9931\n",
      "\n",
      "Epoch 00088: val_accuracy did not improve from 0.99360\n",
      "Epoch 89/100\n",
      "469/469 [==============================] - 9s 19ms/step - loss: 0.0552 - accuracy: 0.9821 - val_loss: 0.0189 - val_accuracy: 0.9931\n",
      "\n",
      "Epoch 00089: val_accuracy did not improve from 0.99360\n",
      "Epoch 90/100\n",
      "469/469 [==============================] - 9s 19ms/step - loss: 0.0562 - accuracy: 0.9821 - val_loss: 0.0188 - val_accuracy: 0.9929\n",
      "\n",
      "Epoch 00090: val_accuracy did not improve from 0.99360\n",
      "Epoch 91/100\n",
      "469/469 [==============================] - 9s 19ms/step - loss: 0.0543 - accuracy: 0.9826 - val_loss: 0.0188 - val_accuracy: 0.9931\n",
      "\n",
      "Epoch 00091: val_accuracy did not improve from 0.99360\n",
      "Epoch 92/100\n",
      "469/469 [==============================] - 9s 19ms/step - loss: 0.0551 - accuracy: 0.9821 - val_loss: 0.0187 - val_accuracy: 0.9934\n",
      "\n",
      "Epoch 00092: val_accuracy did not improve from 0.99360\n",
      "Epoch 93/100\n",
      "469/469 [==============================] - 9s 19ms/step - loss: 0.0553 - accuracy: 0.9823 - val_loss: 0.0187 - val_accuracy: 0.9931\n",
      "\n",
      "Epoch 00093: val_accuracy did not improve from 0.99360\n",
      "Epoch 94/100\n",
      "469/469 [==============================] - 9s 19ms/step - loss: 0.0564 - accuracy: 0.9821 - val_loss: 0.0188 - val_accuracy: 0.9932\n",
      "\n",
      "Epoch 00094: val_accuracy did not improve from 0.99360\n",
      "Epoch 95/100\n",
      "469/469 [==============================] - 9s 19ms/step - loss: 0.0541 - accuracy: 0.9823 - val_loss: 0.0188 - val_accuracy: 0.9930\n",
      "\n",
      "Epoch 00095: val_accuracy did not improve from 0.99360\n",
      "Epoch 96/100\n",
      "469/469 [==============================] - 9s 19ms/step - loss: 0.0561 - accuracy: 0.9819 - val_loss: 0.0190 - val_accuracy: 0.9930\n",
      "\n",
      "Epoch 00096: val_accuracy did not improve from 0.99360\n",
      "Epoch 97/100\n",
      "469/469 [==============================] - 9s 19ms/step - loss: 0.0533 - accuracy: 0.9830 - val_loss: 0.0188 - val_accuracy: 0.9931\n",
      "\n",
      "Epoch 00097: val_accuracy did not improve from 0.99360\n",
      "Epoch 98/100\n",
      "469/469 [==============================] - 9s 19ms/step - loss: 0.0544 - accuracy: 0.9823 - val_loss: 0.0188 - val_accuracy: 0.9931\n",
      "\n",
      "Epoch 00098: val_accuracy did not improve from 0.99360\n",
      "Epoch 99/100\n",
      "469/469 [==============================] - 9s 19ms/step - loss: 0.0549 - accuracy: 0.9825 - val_loss: 0.0187 - val_accuracy: 0.9931\n",
      "\n",
      "Epoch 00099: val_accuracy did not improve from 0.99360\n",
      "Epoch 100/100\n",
      "469/469 [==============================] - 9s 19ms/step - loss: 0.0542 - accuracy: 0.9825 - val_loss: 0.0187 - val_accuracy: 0.9932\n",
      "\n",
      "Epoch 00100: val_accuracy did not improve from 0.99360\n",
      "Test loss: 0.01866161823272705\n",
      "Test accuracy: 0.9932000637054443\n",
      "Test error: 0.680%\n"
     ]
    }
   ],
   "source": [
    "datagen = ImageDataGenerator(\n",
    "    width_shift_range=0.1,\n",
    "    height_shift_range=0.1,\n",
    "    horizontal_flip=False,\n",
    "    zoom_range=0.2,\n",
    "    rotation_range = 5\n",
    ")\n",
    "\n",
    "\n",
    "def scheduler(epoch):\n",
    "    if epoch < 25:\n",
    "        return .1\n",
    "    elif epoch < 50:\n",
    "        return 0.01\n",
    "    else:\n",
    "        return 0.001\n",
    "\n",
    "\n",
    "filepath_val_acc=\"./backup/model.best.hdf5\"\n",
    "checkpoint_val_acc = ModelCheckpoint(filepath_val_acc, monitor='val_accuracy', verbose=1, save_best_only=True, mode='max')\n",
    "callbacks_list = [checkpoint_val_acc]    \n",
    "    \n",
    "history = model.fit(\n",
    "    datagen.flow(x_train, y_train,batch_size=batch_size),             \n",
    "    epochs=epochs,\n",
    "    verbose=1,\n",
    "    validation_data=(x_test, y_test),\n",
    "    callbacks=[LRS(scheduler), checkpoint_val_acc]\n",
    ")\n",
    "\n",
    "# Evaluate over test\n",
    "score = model.evaluate(x_test, y_test, verbose=0)\n",
    "\n",
    "print('Test loss:', score[0])\n",
    "print('Test accuracy:', score[1])\n",
    "print(f\"Test error: {((1-score[1]) * 100):.3f}%\")"
   ]
  },
  {
   "cell_type": "code",
   "execution_count": 8,
   "metadata": {
    "id": "88AMu759rNPC"
   },
   "outputs": [],
   "source": [
    "import matplotlib.pyplot as plt"
   ]
  },
  {
   "cell_type": "code",
   "execution_count": 9,
   "metadata": {
    "colab": {
     "base_uri": "https://localhost:8080/",
     "height": 295
    },
    "id": "maIlUZrtrPJp",
    "outputId": "96109172-3beb-4a93-faca-57e2fa3e265d"
   },
   "outputs": [
    {
     "data": {
      "image/png": "[encoded data removed]",
      "text/plain": [
       "<Figure size 432x288 with 1 Axes>"
      ]
     },
     "metadata": {
      "needs_background": "light"
     },
     "output_type": "display_data"
    }
   ],
   "source": [
    "plt.plot(history.history['accuracy'])\n",
    "plt.plot(history.history['val_accuracy'])\n",
    "plt.title('model accuracy')\n",
    "plt.ylabel('accuracy')\n",
    "plt.xlabel('epoch')\n",
    "plt.legend(['train', 'test'], loc='upper left')\n",
    "plt.show()"
   ]
  },
  {
   "cell_type": "code",
   "execution_count": null,
   "metadata": {},
   "outputs": [],
   "source": []
  },
  {
   "cell_type": "raw",
   "metadata": {},
   "source": []
  }
 ],
 "metadata": {
  "accelerator": "GPU",
  "colab": {
   "collapsed_sections": [],
   "name": "RNA-P1.ipynb",
   "provenance": []
  },
  "kernelspec": {
   "display_name": "Python 3 (ipykernel)",
   "language": "python",
   "name": "python3"
  },
  "language_info": {
   "codemirror_mode": {
    "name": "ipython",
    "version": 3
   },
   "file_extension": ".py",
   "mimetype": "text/x-python",
   "name": "python",
   "nbconvert_exporter": "python",
   "pygments_lexer": "ipython3",
   "version": "3.9.7"
  }
 },
 "nbformat": 4,
 "nbformat_minor": 1
}
