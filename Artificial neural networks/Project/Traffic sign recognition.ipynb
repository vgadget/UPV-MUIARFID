{
 "cells": [
  {
   "cell_type": "markdown",
   "id": "79b79a5b",
   "metadata": {},
   "source": [
    "# Traffic Sign Recognition"
   ]
  },
  {
   "cell_type": "markdown",
   "id": "16c8088d",
   "metadata": {},
   "source": [
    "## Dependencies"
   ]
  },
  {
   "cell_type": "code",
   "execution_count": 1,
   "id": "a8f39c5b",
   "metadata": {},
   "outputs": [],
   "source": [
    "import pandas as pd\n",
    "import numpy as np\n",
    "import os\n",
    "import cv2\n",
    "import matplotlib.pyplot as plt\n",
    "import random\n",
    "import tensorflow as tf\n",
    "from tensorflow.keras.models import Sequential\n",
    "from tensorflow.keras.layers import BatchNormalization\n",
    "from tensorflow.keras.layers import Conv2D\n",
    "from tensorflow.keras.layers import MaxPooling2D\n",
    "from tensorflow.keras.layers import Activation\n",
    "from tensorflow.keras.layers import Flatten\n",
    "from tensorflow.keras.layers import Dropout\n",
    "from tensorflow.keras.layers import Dense\n",
    "from tensorflow.keras.utils import to_categorical\n",
    "from tensorflow.keras.preprocessing.image import ImageDataGenerator\n",
    "from tensorflow.keras.optimizers import Adam\n",
    "from tensorflow.keras import models\n",
    "import matplotlib.pyplot as plt\n",
    "\n",
    "#MANAGEMENT PURPOSES ONLY\n",
    "from tqdm.notebook import tqdm"
   ]
  },
  {
   "cell_type": "code",
   "execution_count": 2,
   "id": "6e9f1dc7",
   "metadata": {},
   "outputs": [
    {
     "name": "stdout",
     "output_type": "stream",
     "text": [
      "[PhysicalDevice(name='/physical_device:CPU:0', device_type='CPU')]\n"
     ]
    },
    {
     "data": {
      "text/plain": [
       "''"
      ]
     },
     "execution_count": 2,
     "metadata": {},
     "output_type": "execute_result"
    }
   ],
   "source": [
    "print(tf.config.list_physical_devices())\n",
    "tf.test.gpu_device_name()"
   ]
  },
  {
   "cell_type": "code",
   "execution_count": 3,
   "id": "bbc7c28b",
   "metadata": {},
   "outputs": [
    {
     "name": "stdout",
     "output_type": "stream",
     "text": [
      "3.8.12\n"
     ]
    }
   ],
   "source": [
    "from platform import python_version\n",
    "\n",
    "print(python_version())"
   ]
  },
  {
   "cell_type": "markdown",
   "id": "f3bd437c",
   "metadata": {},
   "source": [
    "## Data management"
   ]
  },
  {
   "cell_type": "code",
   "execution_count": 4,
   "id": "29a521f5",
   "metadata": {},
   "outputs": [],
   "source": [
    "data_path = r\"./DATASET/\"\n",
    "img_size = 32"
   ]
  },
  {
   "cell_type": "code",
   "execution_count": 5,
   "id": "16cc3e80",
   "metadata": {},
   "outputs": [],
   "source": [
    "def load_data(dataset):\n",
    "    images = []\n",
    "    classes = []    \n",
    "    rows = pd.read_csv(dataset)\n",
    "    rows = rows.sample(frac=1).reset_index(drop=True)\n",
    "            \n",
    "    with tqdm(total=len(rows)+1) as pbar:\n",
    "    \n",
    "        for i, row in rows.iterrows():\n",
    "            img_class = row[\"ClassId\"]\n",
    "            img_path = row[\"Path\"]        \n",
    "            image = os.path.join(data_path, img_path)\n",
    "\n",
    "            image = cv2.imread(image)\n",
    "            image = cv2.cvtColor(image, cv2.COLOR_BGR2RGB)\n",
    "            image_rs = cv2.resize(image, (img_size, img_size), 3)        \n",
    "\n",
    "            R, G, B = cv2.split(image_rs)     \n",
    "\n",
    "            img_r = cv2.equalizeHist(R)\n",
    "            img_g = cv2.equalizeHist(G)\n",
    "            img_b = cv2.equalizeHist(B)        \n",
    "\n",
    "            new_image = cv2.merge((img_r, img_g, img_b))\n",
    "\n",
    "            pbar.update(1)\n",
    "\n",
    "            images.append(new_image)\n",
    "            classes.append(img_class)\n",
    "            \n",
    "        pbar.container.children[-2].style.bar_color = '#00FF00' # Set bar to green color at end\n",
    "    \n",
    "    X = np.array(images)\n",
    "    y = np.array(classes)\n",
    "    \n",
    "    return (X, y)"
   ]
  },
  {
   "cell_type": "markdown",
   "id": "8b8ac8d4",
   "metadata": {},
   "source": [
    "### Load data "
   ]
  },
  {
   "cell_type": "code",
   "execution_count": 6,
   "id": "f86392be",
   "metadata": {},
   "outputs": [
    {
     "data": {
      "application/vnd.jupyter.widget-view+json": {
       "model_id": "7963b267b59945de9e35d526d96a4384",
       "version_major": 2,
       "version_minor": 0
      },
      "text/plain": [
       "  0%|          | 0/39210 [00:00<?, ?it/s]"
      ]
     },
     "metadata": {},
     "output_type": "display_data"
    },
    {
     "data": {
      "application/vnd.jupyter.widget-view+json": {
       "model_id": "6dbf346cef12434aa3e78ae2271749c3",
       "version_major": 2,
       "version_minor": 0
      },
      "text/plain": [
       "  0%|          | 0/12631 [00:00<?, ?it/s]"
      ]
     },
     "metadata": {},
     "output_type": "display_data"
    }
   ],
   "source": [
    "train_data_path = data_path + \"Train.csv\"\n",
    "test_data_path = data_path + \"Test.csv\"\n",
    "\n",
    "\n",
    "(Xtrain, Ytrain) = load_data(train_data_path)\n",
    "(Xtest, Ytest) = load_data(test_data_path)"
   ]
  },
  {
   "cell_type": "markdown",
   "id": "e6cb8930",
   "metadata": {},
   "source": [
    "### Normalise data"
   ]
  },
  {
   "cell_type": "code",
   "execution_count": 7,
   "id": "0d62fbd3",
   "metadata": {},
   "outputs": [],
   "source": [
    "Xtrain = Xtrain.astype(\"float32\") / 255.0\n",
    "Xtest = Xtest.astype(\"float32\") / 255.0\n",
    "\n",
    "num_labels = len(np.unique(Ytrain))\n",
    "Ytrain = to_categorical(Ytrain, num_labels)\n",
    "Ytest = to_categorical(Ytest, num_labels)\n",
    "\n",
    "class_totals = Ytrain.sum(axis=0)\n",
    "class_weight = class_totals.max() / class_totals"
   ]
  },
  {
   "cell_type": "markdown",
   "id": "404a63a9",
   "metadata": {},
   "source": [
    "## Hyper parameters"
   ]
  },
  {
   "cell_type": "code",
   "execution_count": 8,
   "id": "4627929b",
   "metadata": {},
   "outputs": [],
   "source": [
    "epochs = 25\n",
    "learning_rate = 0.001\n",
    "batch_size = 64"
   ]
  },
  {
   "cell_type": "markdown",
   "id": "1a821755",
   "metadata": {},
   "source": [
    "#### Data augmentation"
   ]
  },
  {
   "cell_type": "markdown",
   "id": "11704953",
   "metadata": {},
   "source": [
    " Data augmentation creates modified versions of the images in our dataset. It allows us to add images to our dataset without us having to collect new ones"
   ]
  },
  {
   "cell_type": "code",
   "execution_count": 9,
   "id": "f782a870",
   "metadata": {},
   "outputs": [],
   "source": [
    "data_augmentation = ImageDataGenerator(\n",
    "    rotation_range = 10,\n",
    "    zoom_range = 0.15,\n",
    "    width_shift_range = 0.1,\n",
    "    height_shift_range = 0.1,\n",
    "    shear_range = 0.15,\n",
    "    horizontal_flip = False,\n",
    "    vertical_flip = False\n",
    ")"
   ]
  },
  {
   "cell_type": "markdown",
   "id": "54b300bf",
   "metadata": {},
   "source": [
    "## Training Model"
   ]
  },
  {
   "cell_type": "code",
   "execution_count": 10,
   "id": "061749ec",
   "metadata": {},
   "outputs": [],
   "source": [
    "class RoadSignClassifier:\n",
    "    \n",
    "    def createCNN(width, height, depth, classes):\n",
    "        \n",
    "        \"\"\"\n",
    "         Using the Sequential API\n",
    "         create the model layer-by-layer\n",
    "        \"\"\"\n",
    "        model = Sequential()\n",
    "        inputShape = (height, width, depth)\n",
    "        \n",
    "        \n",
    "        \"\"\"\n",
    "         First convolutional layer. Define output dim\n",
    "         Activation function “relu”\n",
    "        \"\"\"\n",
    "        model.add(Conv2D(8, (5, 5), input_shape=inputShape, activation=\"relu\"))\n",
    "        model.add(MaxPooling2D(pool_size=(2, 2)))\n",
    "        \n",
    "        \"\"\"\n",
    "        Batch normalization. It just speeds up training.\n",
    "        \"\"\"\n",
    "        model.add(Conv2D(16, (3, 3), activation=\"relu\"))\n",
    "        model.add(BatchNormalization())\n",
    "        model.add(Conv2D(16, (3, 3), activation=\"relu\"))\n",
    "        model.add(BatchNormalization())\n",
    "        model.add(MaxPooling2D(pool_size=(2, 2)))\n",
    " \n",
    "        model.add(Conv2D(32, (3, 3), padding=\"same\", activation=\"relu\"))\n",
    "        model.add(BatchNormalization())\n",
    "        model.add(Conv2D(32, (3, 3), padding=\"same\", activation=\"relu\"))\n",
    "        model.add(BatchNormalization())\n",
    "        \n",
    "        \"\"\"\n",
    "        The output in the final dense layer is equal to the number of classes that we have.\n",
    "        \"\"\"\n",
    "        \n",
    "        model.add(Flatten())\n",
    "        model.add(Dropout(0.5))\n",
    "        model.add(Dense(512, activation=\"relu\"))        \n",
    "        \n",
    "        model.add(Dense(classes, activation=\"softmax\"))\n",
    "        \n",
    "        return model"
   ]
  },
  {
   "cell_type": "code",
   "execution_count": 11,
   "id": "783c36b7",
   "metadata": {},
   "outputs": [],
   "source": [
    "model = RoadSignClassifier.createCNN(\n",
    "    width = img_size, \n",
    "    height = img_size, \n",
    "    depth = 3, \n",
    "    classes = len(class_totals)\n",
    ")\n",
    "\n",
    "optimizer = Adam(\n",
    "    lr = learning_rate, \n",
    "    decay = (learning_rate / epochs)\n",
    ")"
   ]
  },
  {
   "cell_type": "code",
   "execution_count": 12,
   "id": "196a890d",
   "metadata": {},
   "outputs": [],
   "source": [
    "model.compile(\n",
    "    optimizer = optimizer, \n",
    "    loss = \"categorical_crossentropy\", \n",
    "    metrics = [\"accuracy\"]\n",
    ")"
   ]
  },
  {
   "cell_type": "code",
   "execution_count": 13,
   "id": "f5056719",
   "metadata": {
    "scrolled": true
   },
   "outputs": [
    {
     "name": "stdout",
     "output_type": "stream",
     "text": [
      "Epoch 1/25\n",
      "613/613 [==============================] - 26s 42ms/step - loss: 4.4879 - accuracy: 0.4541 - val_loss: 0.9525 - val_accuracy: 0.6908\n",
      "Epoch 2/25\n",
      "613/613 [==============================] - 26s 42ms/step - loss: 2.0680 - accuracy: 0.6965 - val_loss: 0.6692 - val_accuracy: 0.7890\n",
      "Epoch 3/25\n",
      "613/613 [==============================] - 26s 42ms/step - loss: 1.3980 - accuracy: 0.7880 - val_loss: 0.4114 - val_accuracy: 0.8728\n",
      "Epoch 4/25\n",
      "613/613 [==============================] - 26s 43ms/step - loss: 1.0434 - accuracy: 0.8390 - val_loss: 0.5289 - val_accuracy: 0.8410\n",
      "Epoch 5/25\n",
      "613/613 [==============================] - 28s 45ms/step - loss: 0.8691 - accuracy: 0.8676 - val_loss: 0.4013 - val_accuracy: 0.8801\n",
      "Epoch 6/25\n",
      "613/613 [==============================] - 27s 44ms/step - loss: 0.7412 - accuracy: 0.8872 - val_loss: 0.2993 - val_accuracy: 0.9120\n",
      "Epoch 7/25\n",
      "613/613 [==============================] - 27s 44ms/step - loss: 0.6107 - accuracy: 0.9042 - val_loss: 0.5633 - val_accuracy: 0.8425\n",
      "Epoch 8/25\n",
      "613/613 [==============================] - 27s 44ms/step - loss: 0.5736 - accuracy: 0.9095 - val_loss: 0.5948 - val_accuracy: 0.8556\n",
      "Epoch 9/25\n",
      "613/613 [==============================] - 27s 44ms/step - loss: 0.5485 - accuracy: 0.9133 - val_loss: 0.2421 - val_accuracy: 0.9280\n",
      "Epoch 10/25\n",
      "613/613 [==============================] - 27s 44ms/step - loss: 0.4983 - accuracy: 0.9236 - val_loss: 0.2682 - val_accuracy: 0.9258\n",
      "Epoch 11/25\n",
      "613/613 [==============================] - 27s 44ms/step - loss: 0.4608 - accuracy: 0.9292 - val_loss: 0.2888 - val_accuracy: 0.9239\n",
      "Epoch 12/25\n",
      "613/613 [==============================] - 27s 44ms/step - loss: 0.4241 - accuracy: 0.9333 - val_loss: 0.2497 - val_accuracy: 0.9291\n",
      "Epoch 13/25\n",
      "613/613 [==============================] - 27s 44ms/step - loss: 0.3837 - accuracy: 0.9377 - val_loss: 0.2338 - val_accuracy: 0.9301\n",
      "Epoch 14/25\n",
      "613/613 [==============================] - 27s 44ms/step - loss: 0.3710 - accuracy: 0.9397 - val_loss: 0.3694 - val_accuracy: 0.8945\n",
      "Epoch 15/25\n",
      "613/613 [==============================] - 27s 44ms/step - loss: 0.3614 - accuracy: 0.9430 - val_loss: 0.2156 - val_accuracy: 0.9391\n",
      "Epoch 16/25\n",
      "613/613 [==============================] - 27s 44ms/step - loss: 0.3339 - accuracy: 0.9455 - val_loss: 0.2684 - val_accuracy: 0.9314\n",
      "Epoch 17/25\n",
      "613/613 [==============================] - 27s 44ms/step - loss: 0.3078 - accuracy: 0.9497 - val_loss: 0.3054 - val_accuracy: 0.9234\n",
      "Epoch 18/25\n",
      "613/613 [==============================] - 27s 44ms/step - loss: 0.3035 - accuracy: 0.9509 - val_loss: 0.1962 - val_accuracy: 0.9515\n",
      "Epoch 19/25\n",
      "613/613 [==============================] - 28s 45ms/step - loss: 0.2802 - accuracy: 0.9534 - val_loss: 0.1482 - val_accuracy: 0.9587\n",
      "Epoch 20/25\n",
      "613/613 [==============================] - 27s 44ms/step - loss: 0.2566 - accuracy: 0.9585 - val_loss: 0.3994 - val_accuracy: 0.9046\n",
      "Epoch 21/25\n",
      "613/613 [==============================] - 27s 45ms/step - loss: 0.2527 - accuracy: 0.9570 - val_loss: 0.1920 - val_accuracy: 0.9485\n",
      "Epoch 22/25\n",
      "613/613 [==============================] - 27s 44ms/step - loss: 0.2603 - accuracy: 0.9574 - val_loss: 0.2019 - val_accuracy: 0.9435\n",
      "Epoch 23/25\n",
      "613/613 [==============================] - 27s 44ms/step - loss: 0.2662 - accuracy: 0.9575 - val_loss: 0.1813 - val_accuracy: 0.9501\n",
      "Epoch 24/25\n",
      "613/613 [==============================] - 28s 46ms/step - loss: 0.2376 - accuracy: 0.9609 - val_loss: 0.2429 - val_accuracy: 0.9319\n",
      "Epoch 25/25\n",
      "613/613 [==============================] - 27s 45ms/step - loss: 0.2294 - accuracy: 0.9630 - val_loss: 0.2575 - val_accuracy: 0.9316\n"
     ]
    }
   ],
   "source": [
    "fit = model.fit(\n",
    "\n",
    "        data_augmentation.flow(\n",
    "            Xtrain, \n",
    "            Ytrain, \n",
    "            batch_size = batch_size\n",
    "        ), \n",
    "        epochs = epochs,\n",
    "\n",
    "        validation_data = (Xtest, Ytest),\n",
    "\n",
    "        class_weight = dict(enumerate(class_weight.flatten(), 0)),\n",
    "\n",
    "        verbose=1\n",
    ")"
   ]
  },
  {
   "cell_type": "code",
   "execution_count": 14,
   "id": "31d41f61",
   "metadata": {},
   "outputs": [
    {
     "name": "stdout",
     "output_type": "stream",
     "text": [
      "Test loss:  0.25752171874046326\n",
      "Test accuracy:  0.9315914511680603\n"
     ]
    }
   ],
   "source": [
    "score = model.evaluate(Xtest, Ytest, verbose=0)\n",
    "\n",
    "print(\"Test loss: \", score[0])\n",
    "print(\"Test accuracy: \", score[1])"
   ]
  },
  {
   "cell_type": "code",
   "execution_count": 15,
   "id": "c1b0d093",
   "metadata": {},
   "outputs": [
    {
     "data": {
      "image/png": "[encoded data removed]",
      "text/plain": [
       "<Figure size 432x288 with 1 Axes>"
      ]
     },
     "metadata": {
      "needs_background": "light"
     },
     "output_type": "display_data"
    }
   ],
   "source": [
    "plt.plot(fit.history['accuracy'])\n",
    "plt.plot(fit.history['val_accuracy'])\n",
    "plt.title('model accuracy')\n",
    "plt.ylabel('accuracy')\n",
    "plt.xlabel('epoch')\n",
    "plt.legend(['train', 'test'], loc='upper left')\n",
    "plt.show()"
   ]
  },
  {
   "cell_type": "code",
   "execution_count": 16,
   "id": "832753ad",
   "metadata": {},
   "outputs": [],
   "source": [
    "model_name = \"TSR_Model_96perEpoch35\""
   ]
  },
  {
   "cell_type": "code",
   "execution_count": 17,
   "id": "575a9369",
   "metadata": {},
   "outputs": [
    {
     "name": "stdout",
     "output_type": "stream",
     "text": [
      "WARNING:tensorflow:From C:\\Users\\adria\\anaconda3\\envs\\ANN\\lib\\site-packages\\tensorflow\\python\\training\\tracking\\tracking.py:111: Model.state_updates (from tensorflow.python.keras.engine.training) is deprecated and will be removed in a future version.\n",
      "Instructions for updating:\n",
      "This property should not be used in TensorFlow 2.0, as updates are applied automatically.\n",
      "WARNING:tensorflow:From C:\\Users\\adria\\anaconda3\\envs\\ANN\\lib\\site-packages\\tensorflow\\python\\training\\tracking\\tracking.py:111: Layer.updates (from tensorflow.python.keras.engine.base_layer) is deprecated and will be removed in a future version.\n",
      "Instructions for updating:\n",
      "This property should not be used in TensorFlow 2.0, as updates are applied automatically.\n",
      "INFO:tensorflow:Assets written to: ./MODELS/TSR_Model_96perEpoch35\\assets\n"
     ]
    }
   ],
   "source": [
    "model.save(f'./MODELS/{model_name}')"
   ]
  },
  {
   "cell_type": "code",
   "execution_count": 18,
   "id": "ea44eeb8",
   "metadata": {},
   "outputs": [],
   "source": [
    "model = models.load_model(f'./MODELS/{model_name}')\n",
    "model.compile(\n",
    "    optimizer = optimizer, \n",
    "    loss = \"categorical_crossentropy\", \n",
    "    metrics = [\"accuracy\"]\n",
    ")"
   ]
  },
  {
   "cell_type": "markdown",
   "id": "5f450087",
   "metadata": {},
   "source": [
    "## Prediction"
   ]
  },
  {
   "cell_type": "code",
   "execution_count": 19,
   "id": "22f023e0",
   "metadata": {},
   "outputs": [
    {
     "name": "stdout",
     "output_type": "stream",
     "text": [
      "{7: 0, 4: 1, 38: 2, 17: 3, 2: 4, 15: 5, 25: 6, 1: 9, 16: 11, 13: 12, 5: 13, 12: 15, 18: 16, 41: 18, 42: 20, 20: 27, 35: 33, 28: 34, 8: 37, 11: 38, 31: 42, 39: 45, 26: 48, 40: 51, 34: 58, 24: 60, 6: 64, 9: 69, 21: 71, 10: 75, 3: 77, 33: 83, 30: 98, 22: 99, 37: 100, 14: 105, 36: 124, 27: 186, 0: 207, 23: 245, 32: 250, 19: 329, 29: 464}\n"
     ]
    }
   ],
   "source": [
    "signDict = {}\n",
    "\n",
    "for i in range(len(Ytrain)):\n",
    "    \n",
    "    classs = np.argmax(Ytrain[i])\n",
    "    \n",
    "    if classs not in signDict.keys():\n",
    "        signDict[classs] = i\n",
    "\n",
    "print(signDict)"
   ]
  },
  {
   "cell_type": "code",
   "execution_count": 138,
   "id": "36c9ec7d",
   "metadata": {},
   "outputs": [],
   "source": [
    "imagePredictionSRC = os.path.join(data_path, \"Test/00111.png\")"
   ]
  },
  {
   "cell_type": "markdown",
   "id": "4c50c736",
   "metadata": {},
   "source": [
    "### Load image "
   ]
  },
  {
   "cell_type": "code",
   "execution_count": 139,
   "id": "42df8ae3",
   "metadata": {},
   "outputs": [],
   "source": [
    "image = cv2.imread(imagePredictionSRC)\n",
    "image = cv2.cvtColor(image, cv2.COLOR_BGR2RGB)"
   ]
  },
  {
   "cell_type": "code",
   "execution_count": 140,
   "id": "27c62287",
   "metadata": {},
   "outputs": [],
   "source": [
    "image_rs = cv2.resize(image, (img_size, img_size), 3)        \n",
    "\n",
    "R, G, B = cv2.split(image_rs)     \n",
    "\n",
    "img_r = cv2.equalizeHist(R)\n",
    "img_g = cv2.equalizeHist(G)\n",
    "img_b = cv2.equalizeHist(B)        \n",
    "\n",
    "image = cv2.merge((img_r, img_g, img_b))"
   ]
  },
  {
   "cell_type": "code",
   "execution_count": 141,
   "id": "037d718f",
   "metadata": {},
   "outputs": [
    {
     "data": {
      "text/plain": [
       "<matplotlib.image.AxesImage at 0x132b7992700>"
      ]
     },
     "execution_count": 141,
     "metadata": {},
     "output_type": "execute_result"
    },
    {
     "data": {
      "image/png": "[encoded data removed]",
      "text/plain": [
       "<Figure size 432x288 with 1 Axes>"
      ]
     },
     "metadata": {
      "needs_background": "light"
     },
     "output_type": "display_data"
    }
   ],
   "source": [
    "plt.imshow(image)"
   ]
  },
  {
   "cell_type": "code",
   "execution_count": 142,
   "id": "25d79e20",
   "metadata": {},
   "outputs": [],
   "source": [
    "input_arr = tf.keras.preprocessing.image.img_to_array(image)\n",
    "input_arr = np.array([input_arr])  # Convert single image to a batch.\n",
    "input_arr = input_arr.astype('float32') / 255. "
   ]
  },
  {
   "cell_type": "code",
   "execution_count": 143,
   "id": "63313eef",
   "metadata": {},
   "outputs": [],
   "source": [
    "predictions = model.predict(input_arr)\n",
    "predicted_class = np.argmax(predictions, axis=-1)[0]"
   ]
  },
  {
   "cell_type": "code",
   "execution_count": 144,
   "id": "8148e9aa",
   "metadata": {},
   "outputs": [
    {
     "data": {
      "text/plain": [
       "<matplotlib.image.AxesImage at 0x132b7b7e070>"
      ]
     },
     "execution_count": 144,
     "metadata": {},
     "output_type": "execute_result"
    },
    {
     "data": {
      "image/png": "[encoded data removed]",
      "text/plain": [
       "<Figure size 432x288 with 1 Axes>"
      ]
     },
     "metadata": {
      "needs_background": "light"
     },
     "output_type": "display_data"
    }
   ],
   "source": [
    "plt.imshow(Xtrain[signDict[predicted_class]])"
   ]
  },
  {
   "cell_type": "code",
   "execution_count": 151,
   "id": "2c80eee8",
   "metadata": {},
   "outputs": [
    {
     "name": "stdout",
     "output_type": "stream",
     "text": [
      "0.022714972\n"
     ]
    }
   ],
   "source": []
  },
  {
   "cell_type": "code",
   "execution_count": null,
   "id": "785f9f5a",
   "metadata": {},
   "outputs": [],
   "source": []
  }
 ],
 "metadata": {
  "kernelspec": {
   "display_name": "Python 3 (ipykernel)",
   "language": "python",
   "name": "python3"
  },
  "language_info": {
   "codemirror_mode": {
    "name": "ipython",
    "version": 3
   },
   "file_extension": ".py",
   "mimetype": "text/x-python",
   "name": "python",
   "nbconvert_exporter": "python",
   "pygments_lexer": "ipython3",
   "version": "3.8.12"
  }
 },
 "nbformat": 4,
 "nbformat_minor": 5
}
