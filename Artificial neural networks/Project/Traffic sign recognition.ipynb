{
 "cells": [
  {
   "cell_type": "markdown",
   "id": "79b79a5b",
   "metadata": {},
   "source": [
    "# Traffic Sign Recognition"
   ]
  },
  {
   "cell_type": "markdown",
   "id": "16c8088d",
   "metadata": {},
   "source": [
    "## Dependencies"
   ]
  },
  {
   "cell_type": "code",
   "execution_count": 1,
   "id": "a8f39c5b",
   "metadata": {},
   "outputs": [
    {
     "name": "stdout",
     "output_type": "stream",
     "text": [
      "Init Plugin\n",
      "Init Graph Optimizer\n",
      "Init Kernel\n"
     ]
    }
   ],
   "source": [
    "import pandas as pd\n",
    "import numpy as np\n",
    "import os\n",
    "import cv2\n",
    "import matplotlib.pyplot as plt\n",
    "import random\n",
    "import tensorflow as tf\n",
    "from tensorflow.keras.models import Sequential\n",
    "from tensorflow.keras.layers import BatchNormalization\n",
    "from tensorflow.keras.layers import Conv2D\n",
    "from tensorflow.keras.layers import MaxPooling2D\n",
    "from tensorflow.keras.layers import Activation\n",
    "from tensorflow.keras.layers import Flatten\n",
    "from tensorflow.keras.layers import Dropout\n",
    "from tensorflow.keras.layers import Dense\n",
    "from tensorflow.keras.utils import to_categorical\n",
    "from tensorflow.keras.preprocessing.image import ImageDataGenerator\n",
    "from tensorflow.keras.optimizers import Adam\n",
    "from tensorflow.keras import models\n",
    "import matplotlib.pyplot as plt\n",
    "\n",
    "#MANAGEMENT PURPOSES ONLY\n",
    "from tqdm.notebook import tqdm"
   ]
  },
  {
   "cell_type": "code",
   "execution_count": 2,
   "id": "6e9f1dc7",
   "metadata": {},
   "outputs": [
    {
     "name": "stdout",
     "output_type": "stream",
     "text": [
      "[PhysicalDevice(name='/physical_device:CPU:0', device_type='CPU'), PhysicalDevice(name='/physical_device:GPU:0', device_type='GPU')]\n"
     ]
    },
    {
     "name": "stderr",
     "output_type": "stream",
     "text": [
      "2021-12-19 20:56:47.990561: I tensorflow/core/common_runtime/pluggable_device/pluggable_device_factory.cc:305] Could not identify NUMA node of platform GPU ID 0, defaulting to 0. Your kernel may not have been built with NUMA support.\n",
      "2021-12-19 20:56:47.991121: I tensorflow/core/common_runtime/pluggable_device/pluggable_device_factory.cc:271] Created TensorFlow device (/device:GPU:0 with 0 MB memory) -> physical PluggableDevice (device: 0, name: METAL, pci bus id: <undefined>)\n"
     ]
    },
    {
     "data": {
      "text/plain": [
       "'/device:GPU:0'"
      ]
     },
     "execution_count": 2,
     "metadata": {},
     "output_type": "execute_result"
    },
    {
     "name": "stdout",
     "output_type": "stream",
     "text": [
      "Metal device set to: Apple M1\n"
     ]
    }
   ],
   "source": [
    "print(tf.config.list_physical_devices())\n",
    "tf.test.gpu_device_name()"
   ]
  },
  {
   "cell_type": "code",
   "execution_count": 3,
   "id": "bbc7c28b",
   "metadata": {},
   "outputs": [
    {
     "name": "stdout",
     "output_type": "stream",
     "text": [
      "3.9.7\n"
     ]
    }
   ],
   "source": [
    "from platform import python_version\n",
    "\n",
    "print(python_version())"
   ]
  },
  {
   "cell_type": "markdown",
   "id": "f3bd437c",
   "metadata": {},
   "source": [
    "## Data management"
   ]
  },
  {
   "cell_type": "code",
   "execution_count": 4,
   "id": "29a521f5",
   "metadata": {},
   "outputs": [],
   "source": [
    "data_path = r\"./DATASET/\"\n",
    "img_size = 32"
   ]
  },
  {
   "cell_type": "code",
   "execution_count": 5,
   "id": "16cc3e80",
   "metadata": {},
   "outputs": [],
   "source": [
    "def load_data(dataset):\n",
    "    images = []\n",
    "    classes = []    \n",
    "    rows = pd.read_csv(dataset)\n",
    "    rows = rows.sample(frac=1).reset_index(drop=True)\n",
    "            \n",
    "    with tqdm(total=len(rows)+1) as pbar:\n",
    "    \n",
    "        for i, row in rows.iterrows():\n",
    "            img_class = row[\"ClassId\"]\n",
    "            img_path = row[\"Path\"]        \n",
    "            image = os.path.join(data_path, img_path)\n",
    "\n",
    "            image = cv2.imread(image)\n",
    "            image = cv2.cvtColor(image, cv2.COLOR_BGR2RGB)\n",
    "            image_rs = cv2.resize(image, (img_size, img_size), 3)        \n",
    "\n",
    "            R, G, B = cv2.split(image_rs)     \n",
    "\n",
    "            img_r = cv2.equalizeHist(R)\n",
    "            img_g = cv2.equalizeHist(G)\n",
    "            img_b = cv2.equalizeHist(B)        \n",
    "\n",
    "            new_image = cv2.merge((img_r, img_g, img_b))\n",
    "\n",
    "            pbar.update(1)\n",
    "\n",
    "            images.append(new_image)\n",
    "            classes.append(img_class)\n",
    "            \n",
    "        pbar.container.children[-2].style.bar_color = '#00FF00' # Set bar to green color at end\n",
    "    \n",
    "    X = np.array(images)\n",
    "    y = np.array(classes)\n",
    "    \n",
    "    return (X, y)"
   ]
  },
  {
   "cell_type": "markdown",
   "id": "8b8ac8d4",
   "metadata": {},
   "source": [
    "### Load data "
   ]
  },
  {
   "cell_type": "code",
   "execution_count": 7,
   "id": "f86392be",
   "metadata": {},
   "outputs": [
    {
     "data": {
      "application/vnd.jupyter.widget-view+json": {
       "model_id": "16b3b6cee59a449e95a64329cf6b7f9f",
       "version_major": 2,
       "version_minor": 0
      },
      "text/plain": [
       "  0%|          | 0/39210 [00:00<?, ?it/s]"
      ]
     },
     "metadata": {},
     "output_type": "display_data"
    },
    {
     "data": {
      "application/vnd.jupyter.widget-view+json": {
       "model_id": "653f24d89a9648dc9acd8e99ab401723",
       "version_major": 2,
       "version_minor": 0
      },
      "text/plain": [
       "  0%|          | 0/12631 [00:00<?, ?it/s]"
      ]
     },
     "metadata": {},
     "output_type": "display_data"
    }
   ],
   "source": [
    "train_data_path = data_path + \"Train.csv\"\n",
    "test_data_path = data_path + \"Test.csv\"\n",
    "\n",
    "\n",
    "(Xtrain, Ytrain) = load_data(train_data_path)\n",
    "(Xtest, Ytest) = load_data(test_data_path)"
   ]
  },
  {
   "cell_type": "markdown",
   "id": "e6cb8930",
   "metadata": {},
   "source": [
    "### Normalise data"
   ]
  },
  {
   "cell_type": "code",
   "execution_count": 8,
   "id": "0d62fbd3",
   "metadata": {},
   "outputs": [],
   "source": [
    "Xtrain = Xtrain.astype(\"float32\") / 255.0\n",
    "Xtest = Xtest.astype(\"float32\") / 255.0\n",
    "\n",
    "num_labels = len(np.unique(Ytrain))\n",
    "Ytrain = to_categorical(Ytrain, num_labels)\n",
    "Ytest = to_categorical(Ytest, num_labels)\n",
    "\n",
    "class_totals = Ytrain.sum(axis=0)\n",
    "class_weight = class_totals.max() / class_totals"
   ]
  },
  {
   "cell_type": "markdown",
   "id": "404a63a9",
   "metadata": {},
   "source": [
    "## Hyper parameters"
   ]
  },
  {
   "cell_type": "code",
   "execution_count": 9,
   "id": "4627929b",
   "metadata": {},
   "outputs": [],
   "source": [
    "epochs = 25\n",
    "learning_rate = 0.001\n",
    "batch_size = 64"
   ]
  },
  {
   "cell_type": "markdown",
   "id": "1a821755",
   "metadata": {},
   "source": [
    "#### Data augmentation"
   ]
  },
  {
   "cell_type": "markdown",
   "id": "11704953",
   "metadata": {},
   "source": [
    " Data augmentation creates modified versions of the images in our dataset. It allows us to add images to our dataset without us having to collect new ones"
   ]
  },
  {
   "cell_type": "code",
   "execution_count": 10,
   "id": "f782a870",
   "metadata": {},
   "outputs": [],
   "source": [
    "data_augmentation = ImageDataGenerator(\n",
    "    rotation_range = 10,\n",
    "    zoom_range = 0.15,\n",
    "    width_shift_range = 0.1,\n",
    "    height_shift_range = 0.1,\n",
    "    shear_range = 0.15,\n",
    "    horizontal_flip = False,\n",
    "    vertical_flip = False\n",
    ")"
   ]
  },
  {
   "cell_type": "markdown",
   "id": "54b300bf",
   "metadata": {},
   "source": [
    "## Training Model"
   ]
  },
  {
   "cell_type": "code",
   "execution_count": 11,
   "id": "061749ec",
   "metadata": {},
   "outputs": [],
   "source": [
    "class RoadSignClassifier:\n",
    "    \n",
    "    def createCNN(width, height, depth, classes):\n",
    "        \n",
    "        \"\"\"\n",
    "         Using the Sequential API\n",
    "         create the model layer-by-layer\n",
    "        \"\"\"\n",
    "        model = Sequential()\n",
    "        inputShape = (height, width, depth)\n",
    "        \n",
    "        \n",
    "        \"\"\"\n",
    "         First convolutional layer. Define output dim\n",
    "         Activation function “relu”\n",
    "        \"\"\"\n",
    "        model.add(Conv2D(8, (5, 5), input_shape=inputShape, activation=\"relu\"))\n",
    "        model.add(MaxPooling2D(pool_size=(2, 2)))\n",
    "        \n",
    "        \"\"\"\n",
    "        Batch normalization. It just speeds up training.\n",
    "        \"\"\"\n",
    "        model.add(Conv2D(16, (3, 3), activation=\"relu\"))\n",
    "        model.add(BatchNormalization())\n",
    "        model.add(Conv2D(16, (3, 3), activation=\"relu\"))\n",
    "        model.add(BatchNormalization())\n",
    "        model.add(MaxPooling2D(pool_size=(2, 2)))\n",
    " \n",
    "        model.add(Conv2D(32, (3, 3), padding=\"same\", activation=\"relu\"))\n",
    "        model.add(BatchNormalization())\n",
    "        model.add(Conv2D(32, (3, 3), padding=\"same\", activation=\"relu\"))\n",
    "        model.add(BatchNormalization())\n",
    "        \n",
    "        \"\"\"\n",
    "        The output in the final dense layer is equal to the number of classes that we have.\n",
    "        \"\"\"\n",
    "        \n",
    "        model.add(Flatten())\n",
    "        model.add(Dropout(0.5))\n",
    "        model.add(Dense(512, activation=\"relu\"))        \n",
    "        \n",
    "        model.add(Dense(classes, activation=\"softmax\"))\n",
    "        \n",
    "        return model"
   ]
  },
  {
   "cell_type": "code",
   "execution_count": 14,
   "id": "783c36b7",
   "metadata": {},
   "outputs": [],
   "source": [
    "model = RoadSignClassifier.createCNN(\n",
    "    width = img_size, \n",
    "    height = img_size, \n",
    "    depth = 3, \n",
    "    classes = len(class_totals)\n",
    ")\n",
    "\n",
    "optimizer = Adam(\n",
    "    learning_rate = learning_rate, \n",
    "    decay = (learning_rate / epochs)\n",
    ")"
   ]
  },
  {
   "cell_type": "code",
   "execution_count": 15,
   "id": "196a890d",
   "metadata": {},
   "outputs": [],
   "source": [
    "model.compile(\n",
    "    optimizer = optimizer, \n",
    "    loss = \"categorical_crossentropy\", \n",
    "    metrics = [\"accuracy\"]\n",
    ")"
   ]
  },
  {
   "cell_type": "code",
   "execution_count": 16,
   "id": "f5056719",
   "metadata": {
    "scrolled": true
   },
   "outputs": [
    {
     "name": "stdout",
     "output_type": "stream",
     "text": [
      "WARNING:tensorflow:From /opt/homebrew/Caskroom/miniforge/base/envs/tensorflow/lib/python3.9/site-packages/tensorflow/python/ops/array_ops.py:5043: calling gather (from tensorflow.python.ops.array_ops) with validate_indices is deprecated and will be removed in a future version.\n",
      "Instructions for updating:\n",
      "The `validate_indices` argument has no effect. Indices are always validated on CPU and never validated on GPU.\n",
      "Epoch 1/25\n"
     ]
    },
    {
     "name": "stderr",
     "output_type": "stream",
     "text": [
      "2021-12-19 21:02:16.312991: I tensorflow/compiler/mlir/mlir_graph_optimization_pass.cc:176] None of the MLIR Optimization Passes are enabled (registered 2)\n",
      "2021-12-19 21:02:16.314463: W tensorflow/core/platform/profile_utils/cpu_utils.cc:128] Failed to get CPU frequency: 0 Hz\n",
      "2021-12-19 21:02:16.568570: I tensorflow/core/grappler/optimizers/custom_graph_optimizer_registry.cc:112] Plugin optimizer for device_type GPU is enabled.\n"
     ]
    },
    {
     "name": "stdout",
     "output_type": "stream",
     "text": [
      "610/613 [============================>.] - ETA: 0s - loss: 4.4484 - accuracy: 0.4814"
     ]
    },
    {
     "name": "stderr",
     "output_type": "stream",
     "text": [
      "2021-12-19 21:02:30.392913: I tensorflow/core/grappler/optimizers/custom_graph_optimizer_registry.cc:112] Plugin optimizer for device_type GPU is enabled.\n"
     ]
    },
    {
     "name": "stdout",
     "output_type": "stream",
     "text": [
      "613/613 [==============================] - 16s 19ms/step - loss: 4.4394 - accuracy: 0.4826 - val_loss: 0.8961 - val_accuracy: 0.6988\n",
      "Epoch 2/25\n",
      "613/613 [==============================] - 10s 16ms/step - loss: 1.9026 - accuracy: 0.7381 - val_loss: 0.5490 - val_accuracy: 0.8239\n",
      "Epoch 3/25\n",
      "613/613 [==============================] - 10s 16ms/step - loss: 1.2504 - accuracy: 0.8234 - val_loss: 0.4285 - val_accuracy: 0.8687\n",
      "Epoch 4/25\n",
      "613/613 [==============================] - 10s 16ms/step - loss: 0.9207 - accuracy: 0.8662 - val_loss: 0.3965 - val_accuracy: 0.8772\n",
      "Epoch 5/25\n",
      "613/613 [==============================] - 10s 16ms/step - loss: 0.7203 - accuracy: 0.8920 - val_loss: 0.2810 - val_accuracy: 0.9173\n",
      "Epoch 6/25\n",
      "613/613 [==============================] - 10s 16ms/step - loss: 0.6522 - accuracy: 0.9049 - val_loss: 0.2978 - val_accuracy: 0.9080\n",
      "Epoch 7/25\n",
      "613/613 [==============================] - 10s 16ms/step - loss: 0.5246 - accuracy: 0.9193 - val_loss: 0.2784 - val_accuracy: 0.9169\n",
      "Epoch 8/25\n",
      "613/613 [==============================] - 10s 16ms/step - loss: 0.4799 - accuracy: 0.9259 - val_loss: 0.2478 - val_accuracy: 0.9288\n",
      "Epoch 9/25\n",
      "613/613 [==============================] - 10s 16ms/step - loss: 0.4879 - accuracy: 0.9273 - val_loss: 0.4840 - val_accuracy: 0.8740\n",
      "Epoch 10/25\n",
      "613/613 [==============================] - 10s 16ms/step - loss: 0.3961 - accuracy: 0.9386 - val_loss: 0.2388 - val_accuracy: 0.9336\n",
      "Epoch 11/25\n",
      "613/613 [==============================] - 10s 16ms/step - loss: 0.3814 - accuracy: 0.9402 - val_loss: 0.2176 - val_accuracy: 0.9371\n",
      "Epoch 12/25\n",
      "613/613 [==============================] - 10s 16ms/step - loss: 0.3554 - accuracy: 0.9454 - val_loss: 0.2857 - val_accuracy: 0.9245\n",
      "Epoch 13/25\n",
      "613/613 [==============================] - 10s 16ms/step - loss: 0.3250 - accuracy: 0.9487 - val_loss: 0.2639 - val_accuracy: 0.9284\n",
      "Epoch 14/25\n",
      "613/613 [==============================] - 10s 16ms/step - loss: 0.3155 - accuracy: 0.9504 - val_loss: 0.2481 - val_accuracy: 0.9280\n",
      "Epoch 15/25\n",
      "613/613 [==============================] - 10s 16ms/step - loss: 0.2961 - accuracy: 0.9523 - val_loss: 0.2199 - val_accuracy: 0.9418\n",
      "Epoch 16/25\n",
      "613/613 [==============================] - 10s 16ms/step - loss: 0.2850 - accuracy: 0.9566 - val_loss: 0.2186 - val_accuracy: 0.9355\n",
      "Epoch 17/25\n",
      "613/613 [==============================] - 10s 16ms/step - loss: 0.2398 - accuracy: 0.9596 - val_loss: 0.1853 - val_accuracy: 0.9474\n",
      "Epoch 18/25\n",
      "613/613 [==============================] - 10s 16ms/step - loss: 0.2708 - accuracy: 0.9564 - val_loss: 0.1819 - val_accuracy: 0.9519\n",
      "Epoch 19/25\n",
      "613/613 [==============================] - 10s 16ms/step - loss: 0.2464 - accuracy: 0.9607 - val_loss: 0.2196 - val_accuracy: 0.9462\n",
      "Epoch 20/25\n",
      "613/613 [==============================] - 10s 16ms/step - loss: 0.2617 - accuracy: 0.9589 - val_loss: 0.2145 - val_accuracy: 0.9432\n",
      "Epoch 21/25\n",
      "613/613 [==============================] - 10s 16ms/step - loss: 0.2181 - accuracy: 0.9645 - val_loss: 0.1801 - val_accuracy: 0.9548\n",
      "Epoch 22/25\n",
      "613/613 [==============================] - 10s 16ms/step - loss: 0.2120 - accuracy: 0.9649 - val_loss: 0.3679 - val_accuracy: 0.9120\n",
      "Epoch 23/25\n",
      "613/613 [==============================] - 10s 17ms/step - loss: 0.2052 - accuracy: 0.9674 - val_loss: 0.1624 - val_accuracy: 0.9559\n",
      "Epoch 24/25\n",
      "613/613 [==============================] - 10s 16ms/step - loss: 0.1985 - accuracy: 0.9681 - val_loss: 0.2405 - val_accuracy: 0.9408\n",
      "Epoch 25/25\n",
      "613/613 [==============================] - 10s 16ms/step - loss: 0.1901 - accuracy: 0.9683 - val_loss: 0.1338 - val_accuracy: 0.9616\n"
     ]
    }
   ],
   "source": [
    "fit = model.fit(\n",
    "\n",
    "        data_augmentation.flow(\n",
    "            Xtrain, \n",
    "            Ytrain, \n",
    "            batch_size = batch_size\n",
    "        ), \n",
    "        epochs = epochs,\n",
    "\n",
    "        validation_data = (Xtest, Ytest),\n",
    "\n",
    "        class_weight = dict(enumerate(class_weight.flatten(), 0)),\n",
    "\n",
    "        verbose=1\n",
    ")"
   ]
  },
  {
   "cell_type": "code",
   "execution_count": 17,
   "id": "31d41f61",
   "metadata": {},
   "outputs": [
    {
     "name": "stdout",
     "output_type": "stream",
     "text": [
      "Test loss:  0.13378430902957916\n",
      "Test accuracy:  0.9615993499755859\n"
     ]
    }
   ],
   "source": [
    "score = model.evaluate(Xtest, Ytest, verbose=0)\n",
    "\n",
    "print(\"Test loss: \", score[0])\n",
    "print(\"Test accuracy: \", score[1])"
   ]
  },
  {
   "cell_type": "code",
   "execution_count": 18,
   "id": "c1b0d093",
   "metadata": {},
   "outputs": [
    {
     "data": {
      "image/png": "[encoded data removed]",
      "text/plain": [
       "<Figure size 432x288 with 1 Axes>"
      ]
     },
     "metadata": {
      "needs_background": "light"
     },
     "output_type": "display_data"
    }
   ],
   "source": [
    "plt.plot(fit.history['accuracy'])\n",
    "plt.plot(fit.history['val_accuracy'])\n",
    "plt.title('model accuracy')\n",
    "plt.ylabel('accuracy')\n",
    "plt.xlabel('epoch')\n",
    "plt.legend(['train', 'test'], loc='upper left')\n",
    "plt.show()"
   ]
  },
  {
   "cell_type": "code",
   "execution_count": 19,
   "id": "832753ad",
   "metadata": {},
   "outputs": [],
   "source": [
    "model_name = \"TSR_Model_96perEpoch35_MACM1\""
   ]
  },
  {
   "cell_type": "code",
   "execution_count": 20,
   "id": "575a9369",
   "metadata": {},
   "outputs": [
    {
     "name": "stderr",
     "output_type": "stream",
     "text": [
      "2021-12-19 21:07:21.461752: W tensorflow/python/util/util.cc:348] Sets are not currently considered sequences, but this may change in the future, so consider avoiding using them.\n"
     ]
    },
    {
     "name": "stdout",
     "output_type": "stream",
     "text": [
      "INFO:tensorflow:Assets written to: ./MODELS/TSR_Model_96perEpoch35_MACM1/assets\n"
     ]
    }
   ],
   "source": [
    "model.save(f'./MODELS/{model_name}')"
   ]
  },
  {
   "cell_type": "code",
   "execution_count": 21,
   "id": "ea44eeb8",
   "metadata": {},
   "outputs": [],
   "source": [
    "model = models.load_model(f'./MODELS/{model_name}')\n",
    "model.compile(\n",
    "    optimizer = optimizer, \n",
    "    loss = \"categorical_crossentropy\", \n",
    "    metrics = [\"accuracy\"]\n",
    ")"
   ]
  },
  {
   "cell_type": "markdown",
   "id": "5f450087",
   "metadata": {},
   "source": [
    "## Prediction"
   ]
  },
  {
   "cell_type": "code",
   "execution_count": 22,
   "id": "22f023e0",
   "metadata": {},
   "outputs": [
    {
     "name": "stdout",
     "output_type": "stream",
     "text": [
      "{7: 0, 8: 1, 10: 2, 2: 3, 38: 4, 5: 5, 1: 6, 25: 7, 3: 10, 23: 12, 13: 14, 17: 16, 26: 17, 31: 18, 14: 21, 18: 26, 4: 32, 35: 33, 29: 34, 12: 35, 16: 36, 22: 39, 20: 45, 6: 48, 11: 50, 34: 55, 15: 70, 37: 88, 9: 97, 33: 99, 41: 108, 28: 115, 40: 121, 36: 160, 27: 178, 19: 180, 39: 181, 0: 204, 30: 214, 24: 220, 42: 235, 21: 331, 32: 448}\n"
     ]
    }
   ],
   "source": [
    "signDict = {}\n",
    "\n",
    "for i in range(len(Ytrain)):\n",
    "    \n",
    "    classs = np.argmax(Ytrain[i])\n",
    "    \n",
    "    if classs not in signDict.keys():\n",
    "        signDict[classs] = i\n",
    "\n",
    "print(signDict)"
   ]
  },
  {
   "cell_type": "code",
   "execution_count": 23,
   "id": "36c9ec7d",
   "metadata": {},
   "outputs": [],
   "source": [
    "imagePredictionSRC = os.path.join(data_path, \"Test/00111.png\")"
   ]
  },
  {
   "cell_type": "markdown",
   "id": "4c50c736",
   "metadata": {},
   "source": [
    "### Load image "
   ]
  },
  {
   "cell_type": "code",
   "execution_count": 24,
   "id": "42df8ae3",
   "metadata": {},
   "outputs": [],
   "source": [
    "image = cv2.imread(imagePredictionSRC)\n",
    "image = cv2.cvtColor(image, cv2.COLOR_BGR2RGB)"
   ]
  },
  {
   "cell_type": "code",
   "execution_count": 25,
   "id": "27c62287",
   "metadata": {},
   "outputs": [],
   "source": [
    "image_rs = cv2.resize(image, (img_size, img_size), 3)        \n",
    "\n",
    "R, G, B = cv2.split(image_rs)     \n",
    "\n",
    "img_r = cv2.equalizeHist(R)\n",
    "img_g = cv2.equalizeHist(G)\n",
    "img_b = cv2.equalizeHist(B)        \n",
    "\n",
    "image = cv2.merge((img_r, img_g, img_b))"
   ]
  },
  {
   "cell_type": "code",
   "execution_count": 26,
   "id": "037d718f",
   "metadata": {},
   "outputs": [
    {
     "data": {
      "text/plain": [
       "<matplotlib.image.AxesImage at 0x16bb44f40>"
      ]
     },
     "execution_count": 26,
     "metadata": {},
     "output_type": "execute_result"
    },
    {
     "data": {
      "image/png": "[encoded data removed]",
      "text/plain": [
       "<Figure size 432x288 with 1 Axes>"
      ]
     },
     "metadata": {
      "needs_background": "light"
     },
     "output_type": "display_data"
    }
   ],
   "source": [
    "plt.imshow(image)"
   ]
  },
  {
   "cell_type": "code",
   "execution_count": 27,
   "id": "25d79e20",
   "metadata": {},
   "outputs": [],
   "source": [
    "input_arr = tf.keras.preprocessing.image.img_to_array(image)\n",
    "input_arr = np.array([input_arr])  # Convert single image to a batch.\n",
    "input_arr = input_arr.astype('float32') / 255. "
   ]
  },
  {
   "cell_type": "code",
   "execution_count": 28,
   "id": "63313eef",
   "metadata": {},
   "outputs": [
    {
     "name": "stderr",
     "output_type": "stream",
     "text": [
      "2021-12-19 21:08:05.123569: I tensorflow/core/grappler/optimizers/custom_graph_optimizer_registry.cc:112] Plugin optimizer for device_type GPU is enabled.\n"
     ]
    }
   ],
   "source": [
    "predictions = model.predict(input_arr)\n",
    "predicted_class = np.argmax(predictions, axis=-1)[0]"
   ]
  },
  {
   "cell_type": "code",
   "execution_count": 29,
   "id": "8148e9aa",
   "metadata": {},
   "outputs": [
    {
     "data": {
      "text/plain": [
       "<matplotlib.image.AxesImage at 0x16bb6d070>"
      ]
     },
     "execution_count": 29,
     "metadata": {},
     "output_type": "execute_result"
    },
    {
     "data": {
      "image/png": "[encoded data removed]",
      "text/plain": [
       "<Figure size 432x288 with 1 Axes>"
      ]
     },
     "metadata": {
      "needs_background": "light"
     },
     "output_type": "display_data"
    }
   ],
   "source": [
    "plt.imshow(Xtrain[signDict[predicted_class]])"
   ]
  },
  {
   "cell_type": "code",
   "execution_count": null,
   "id": "2c80eee8",
   "metadata": {},
   "outputs": [],
   "source": []
  },
  {
   "cell_type": "code",
   "execution_count": null,
   "id": "785f9f5a",
   "metadata": {},
   "outputs": [],
   "source": []
  }
 ],
 "metadata": {
  "kernelspec": {
   "display_name": "Python 3 (ipykernel)",
   "language": "python",
   "name": "python3"
  },
  "language_info": {
   "codemirror_mode": {
    "name": "ipython",
    "version": 3
   },
   "file_extension": ".py",
   "mimetype": "text/x-python",
   "name": "python",
   "nbconvert_exporter": "python",
   "pygments_lexer": "ipython3",
   "version": "3.9.7"
  }
 },
 "nbformat": 4,
 "nbformat_minor": 5
}
