{
 "cells": [
  {
   "cell_type": "markdown",
   "id": "79b79a5b",
   "metadata": {},
   "source": [
    "# Traffic Sign Recognition"
   ]
  },
  {
   "cell_type": "markdown",
   "id": "16c8088d",
   "metadata": {},
   "source": [
    "## Dependencies"
   ]
  },
  {
   "cell_type": "code",
   "execution_count": 1,
   "id": "a8f39c5b",
   "metadata": {},
   "outputs": [
    {
     "name": "stdout",
     "output_type": "stream",
     "text": [
      "Init Plugin\n",
      "Init Graph Optimizer\n",
      "Init Kernel\n"
     ]
    }
   ],
   "source": [
    "from numpy.random import seed\n",
    "seed(86148)\n",
    "\n",
    "import sys\n",
    "sys.path.append('./lib') # For personal extra modules\n",
    "\n",
    "import os\n",
    "import cv2\n",
    "import pandas as pd\n",
    "import numpy as np\n",
    "import matplotlib.pyplot as plt\n",
    "\n",
    "import tensorflow as tf\n",
    "from tensorflow.keras.callbacks import ModelCheckpoint\n",
    "from tensorflow.keras.callbacks import LearningRateScheduler as LRS\n",
    "from tensorflow.keras.layers import Activation, BatchNormalization, Conv2D, Dense, Dropout, Flatten, MaxPooling2D\n",
    "from tensorflow.keras import models\n",
    "from tensorflow.keras.models import Sequential\n",
    "from tensorflow.keras.optimizers import Adam, RMSprop\n",
    "from tensorflow.keras.preprocessing.image import ImageDataGenerator\n",
    "from tensorflow.keras.utils import to_categorical\n",
    "\n",
    "#EXTRAS\n",
    "from cutout import get_random_eraser # CutOut\n",
    "from mixup import MixupGenerator # Mixup\n",
    "\n",
    "#MANAGEMENT PURPOSES ONLY\n",
    "from tqdm.notebook import tqdm"
   ]
  },
  {
   "cell_type": "markdown",
   "id": "96e0ff95",
   "metadata": {},
   "source": [
    "## System checks"
   ]
  },
  {
   "cell_type": "code",
   "execution_count": 2,
   "id": "6e9f1dc7",
   "metadata": {},
   "outputs": [
    {
     "name": "stdout",
     "output_type": "stream",
     "text": [
      "[PhysicalDevice(name='/physical_device:CPU:0', device_type='CPU'), PhysicalDevice(name='/physical_device:GPU:0', device_type='GPU')]\n"
     ]
    },
    {
     "name": "stderr",
     "output_type": "stream",
     "text": [
      "2022-01-03 13:24:42.109855: I tensorflow/core/common_runtime/pluggable_device/pluggable_device_factory.cc:305] Could not identify NUMA node of platform GPU ID 0, defaulting to 0. Your kernel may not have been built with NUMA support.\n",
      "2022-01-03 13:24:42.109945: I tensorflow/core/common_runtime/pluggable_device/pluggable_device_factory.cc:271] Created TensorFlow device (/device:GPU:0 with 0 MB memory) -> physical PluggableDevice (device: 0, name: METAL, pci bus id: <undefined>)\n"
     ]
    },
    {
     "data": {
      "text/plain": [
       "'/device:GPU:0'"
      ]
     },
     "execution_count": 2,
     "metadata": {},
     "output_type": "execute_result"
    },
    {
     "name": "stdout",
     "output_type": "stream",
     "text": [
      "Metal device set to: Apple M1\n"
     ]
    }
   ],
   "source": [
    "print(tf.config.list_physical_devices())\n",
    "tf.test.gpu_device_name()"
   ]
  },
  {
   "cell_type": "code",
   "execution_count": 3,
   "id": "bbc7c28b",
   "metadata": {},
   "outputs": [
    {
     "name": "stdout",
     "output_type": "stream",
     "text": [
      "3.9.7\n"
     ]
    }
   ],
   "source": [
    "from platform import python_version\n",
    "\n",
    "print(python_version())"
   ]
  },
  {
   "cell_type": "markdown",
   "id": "f3bd437c",
   "metadata": {},
   "source": [
    "## Data management"
   ]
  },
  {
   "cell_type": "code",
   "execution_count": 4,
   "id": "29a521f5",
   "metadata": {},
   "outputs": [],
   "source": [
    "data_path = r\"./DATASET/\"\n",
    "img_size = 32"
   ]
  },
  {
   "cell_type": "code",
   "execution_count": 5,
   "id": "16cc3e80",
   "metadata": {},
   "outputs": [],
   "source": [
    "def load_data(dataset):\n",
    "    images = []\n",
    "    classes = []    \n",
    "    rows = pd.read_csv(dataset)\n",
    "    rows = rows.sample(frac=1).reset_index(drop=True)\n",
    "            \n",
    "    with tqdm(total=len(rows)+1) as pbar:\n",
    "    \n",
    "        for i, row in rows.iterrows():\n",
    "            img_class = row[\"ClassId\"]\n",
    "            img_path = row[\"Path\"]        \n",
    "            image = os.path.join(data_path, img_path)\n",
    "\n",
    "            image = cv2.imread(image)\n",
    "            image = cv2.cvtColor(image, cv2.COLOR_BGR2RGB)\n",
    "            image_rs = cv2.resize(image, (img_size, img_size), 3)        \n",
    "\n",
    "            R, G, B = cv2.split(image_rs)     \n",
    "\n",
    "            img_r = cv2.equalizeHist(R)\n",
    "            img_g = cv2.equalizeHist(G)\n",
    "            img_b = cv2.equalizeHist(B)        \n",
    "\n",
    "            new_image = cv2.merge((img_r, img_g, img_b))\n",
    "\n",
    "            pbar.update(1)\n",
    "\n",
    "            images.append(new_image)\n",
    "            classes.append(img_class)\n",
    "            \n",
    "        pbar.container.children[-2].style.bar_color = '#00FF00' # Set bar to green color at end\n",
    "    \n",
    "    X = np.array(images)\n",
    "    y = np.array(classes)\n",
    "    \n",
    "    return (X, y)"
   ]
  },
  {
   "cell_type": "markdown",
   "id": "8b8ac8d4",
   "metadata": {},
   "source": [
    "### Load data "
   ]
  },
  {
   "cell_type": "code",
   "execution_count": 6,
   "id": "f86392be",
   "metadata": {},
   "outputs": [
    {
     "data": {
      "application/vnd.jupyter.widget-view+json": {
       "model_id": "41440bc4448e4a919fd2e57ef23694de",
       "version_major": 2,
       "version_minor": 0
      },
      "text/plain": [
       "  0%|          | 0/39210 [00:00<?, ?it/s]"
      ]
     },
     "metadata": {},
     "output_type": "display_data"
    },
    {
     "data": {
      "application/vnd.jupyter.widget-view+json": {
       "model_id": "3564d901b9c0420f8de3f913ef6c7b73",
       "version_major": 2,
       "version_minor": 0
      },
      "text/plain": [
       "  0%|          | 0/12631 [00:00<?, ?it/s]"
      ]
     },
     "metadata": {},
     "output_type": "display_data"
    }
   ],
   "source": [
    "train_data_path = data_path + \"Train.csv\"\n",
    "test_data_path = data_path + \"Test.csv\"\n",
    "\n",
    "\n",
    "(Xtrain, Ytrain) = load_data(train_data_path)\n",
    "(Xtest, Ytest) = load_data(test_data_path)"
   ]
  },
  {
   "cell_type": "markdown",
   "id": "e6cb8930",
   "metadata": {},
   "source": [
    "### Normalise data"
   ]
  },
  {
   "cell_type": "code",
   "execution_count": 7,
   "id": "0d62fbd3",
   "metadata": {},
   "outputs": [],
   "source": [
    "Xtrain = Xtrain.astype(\"float32\") / 255.0\n",
    "Xtest = Xtest.astype(\"float32\") / 255.0\n",
    "\n",
    "num_labels = len(np.unique(Ytrain))\n",
    "Ytrain = to_categorical(Ytrain, num_labels)\n",
    "Ytest = to_categorical(Ytest, num_labels)\n",
    "\n",
    "class_totals = Ytrain.sum(axis=0)\n",
    "class_weight = class_totals.max() / class_totals"
   ]
  },
  {
   "cell_type": "markdown",
   "id": "404a63a9",
   "metadata": {},
   "source": [
    "## Parameters"
   ]
  },
  {
   "cell_type": "markdown",
   "id": "ad2abf98",
   "metadata": {},
   "source": [
    "#### Hyper parameters"
   ]
  },
  {
   "cell_type": "code",
   "execution_count": 8,
   "id": "4627929b",
   "metadata": {},
   "outputs": [],
   "source": [
    "epochs = 50\n",
    "learning_rate = 0.001\n",
    "batch_size = 1024"
   ]
  },
  {
   "cell_type": "markdown",
   "id": "fdf2c717",
   "metadata": {},
   "source": [
    "#### Model parameters"
   ]
  },
  {
   "cell_type": "code",
   "execution_count": 9,
   "id": "9dfc8608",
   "metadata": {},
   "outputs": [],
   "source": [
    "filepath_val_acc=\"./backup/model.best.hdf5\"\n",
    "checkpoint_val_acc = ModelCheckpoint(filepath_val_acc, monitor='val_accuracy', verbose=1, save_best_only=True, mode='max')   "
   ]
  },
  {
   "cell_type": "markdown",
   "id": "1a821755",
   "metadata": {},
   "source": [
    "#### Data augmentation"
   ]
  },
  {
   "cell_type": "code",
   "execution_count": 10,
   "id": "f782a870",
   "metadata": {},
   "outputs": [],
   "source": [
    "data_augmentation = ImageDataGenerator(\n",
    "    rotation_range = 10,\n",
    "    zoom_range = 0.15,\n",
    "    width_shift_range = 0.1,\n",
    "    height_shift_range = 0.1,\n",
    "    shear_range = 0.15,\n",
    "    horizontal_flip = False,\n",
    "    vertical_flip = False,\n",
    "    preprocessing_function=get_random_eraser(v_l=0, v_h=1)\n",
    ")"
   ]
  },
  {
   "cell_type": "code",
   "execution_count": 11,
   "id": "ec7e5e35",
   "metadata": {},
   "outputs": [],
   "source": [
    "generator = MixupGenerator(Xtrain, Ytrain, alpha=0.1, datagen=data_augmentation)()"
   ]
  },
  {
   "cell_type": "markdown",
   "id": "7124c017",
   "metadata": {},
   "source": [
    "#### Optimizer"
   ]
  },
  {
   "cell_type": "code",
   "execution_count": 12,
   "id": "1d34a01a",
   "metadata": {},
   "outputs": [],
   "source": [
    "optimizer = Adam(\n",
    "    learning_rate = learning_rate, \n",
    "    decay = (learning_rate / epochs)\n",
    ")"
   ]
  },
  {
   "cell_type": "markdown",
   "id": "4964f300",
   "metadata": {},
   "source": [
    "#### Learning Rate Annealing"
   ]
  },
  {
   "cell_type": "code",
   "execution_count": 13,
   "id": "c9dae5c7",
   "metadata": {},
   "outputs": [],
   "source": [
    "def scheduler(epoch):\n",
    "    return learning_rate * (0.5 ** (epoch // 20))"
   ]
  },
  {
   "cell_type": "markdown",
   "id": "54b300bf",
   "metadata": {},
   "source": [
    "## Training Model"
   ]
  },
  {
   "cell_type": "code",
   "execution_count": 14,
   "id": "061749ec",
   "metadata": {},
   "outputs": [],
   "source": [
    "class RoadSignClassifier:\n",
    "    \n",
    "    def createCNN(width, height, depth, classes):\n",
    "        \n",
    "        model = Sequential()\n",
    "        inputShape = (height, width, depth)\n",
    "        \n",
    "        \n",
    "        model.add(Conv2D(8, (5, 5), input_shape=inputShape, activation=\"relu\"))\n",
    "        model.add(MaxPooling2D(pool_size=(2, 2)))\n",
    "        \n",
    "        \n",
    "        model.add(Conv2D(16, (3, 3), activation=\"relu\"))\n",
    "        model.add(BatchNormalization())\n",
    "        model.add(Conv2D(16, (3, 3), activation=\"relu\"))\n",
    "        model.add(BatchNormalization())\n",
    "        model.add(MaxPooling2D(pool_size=(2, 2)))\n",
    " \n",
    "        model.add(Conv2D(32, (3, 3), padding=\"same\", activation=\"relu\"))\n",
    "        model.add(BatchNormalization())\n",
    "        model.add(Conv2D(32, (3, 3), padding=\"same\", activation=\"relu\"))\n",
    "        model.add(BatchNormalization())\n",
    "\n",
    "        \n",
    "        model.add(Flatten())\n",
    "        model.add(Dropout(0.5))\n",
    "        model.add(Dense(512, activation=\"relu\"))        \n",
    "        \n",
    "        model.add(Dense(classes, activation=\"softmax\"))\n",
    "        \n",
    "        return model"
   ]
  },
  {
   "cell_type": "code",
   "execution_count": 15,
   "id": "783c36b7",
   "metadata": {},
   "outputs": [
    {
     "name": "stderr",
     "output_type": "stream",
     "text": [
      "2022-01-03 13:24:57.458644: I tensorflow/core/common_runtime/pluggable_device/pluggable_device_factory.cc:305] Could not identify NUMA node of platform GPU ID 0, defaulting to 0. Your kernel may not have been built with NUMA support.\n",
      "2022-01-03 13:24:57.458665: I tensorflow/core/common_runtime/pluggable_device/pluggable_device_factory.cc:271] Created TensorFlow device (/job:localhost/replica:0/task:0/device:GPU:0 with 0 MB memory) -> physical PluggableDevice (device: 0, name: METAL, pci bus id: <undefined>)\n"
     ]
    }
   ],
   "source": [
    "model = RoadSignClassifier.createCNN(\n",
    "    width = img_size, \n",
    "    height = img_size, \n",
    "    depth = 3, \n",
    "    classes = len(class_totals)\n",
    ")"
   ]
  },
  {
   "cell_type": "code",
   "execution_count": 16,
   "id": "196a890d",
   "metadata": {},
   "outputs": [
    {
     "name": "stdout",
     "output_type": "stream",
     "text": [
      "Model: \"sequential\"\n",
      "_________________________________________________________________\n",
      "Layer (type)                 Output Shape              Param #   \n",
      "=================================================================\n",
      "conv2d (Conv2D)              (None, 28, 28, 8)         608       \n",
      "_________________________________________________________________\n",
      "max_pooling2d (MaxPooling2D) (None, 14, 14, 8)         0         \n",
      "_________________________________________________________________\n",
      "conv2d_1 (Conv2D)            (None, 12, 12, 16)        1168      \n",
      "_________________________________________________________________\n",
      "batch_normalization (BatchNo (None, 12, 12, 16)        64        \n",
      "_________________________________________________________________\n",
      "conv2d_2 (Conv2D)            (None, 10, 10, 16)        2320      \n",
      "_________________________________________________________________\n",
      "batch_normalization_1 (Batch (None, 10, 10, 16)        64        \n",
      "_________________________________________________________________\n",
      "max_pooling2d_1 (MaxPooling2 (None, 5, 5, 16)          0         \n",
      "_________________________________________________________________\n",
      "conv2d_3 (Conv2D)            (None, 5, 5, 32)          4640      \n",
      "_________________________________________________________________\n",
      "batch_normalization_2 (Batch (None, 5, 5, 32)          128       \n",
      "_________________________________________________________________\n",
      "conv2d_4 (Conv2D)            (None, 5, 5, 32)          9248      \n",
      "_________________________________________________________________\n",
      "batch_normalization_3 (Batch (None, 5, 5, 32)          128       \n",
      "_________________________________________________________________\n",
      "flatten (Flatten)            (None, 800)               0         \n",
      "_________________________________________________________________\n",
      "dropout (Dropout)            (None, 800)               0         \n",
      "_________________________________________________________________\n",
      "dense (Dense)                (None, 512)               410112    \n",
      "_________________________________________________________________\n",
      "dense_1 (Dense)              (None, 43)                22059     \n",
      "=================================================================\n",
      "Total params: 450,539\n",
      "Trainable params: 450,347\n",
      "Non-trainable params: 192\n",
      "_________________________________________________________________\n"
     ]
    }
   ],
   "source": [
    "model.compile(\n",
    "    optimizer = optimizer, \n",
    "    loss = \"categorical_crossentropy\", \n",
    "    metrics = [\"accuracy\"]\n",
    ")\n",
    "\n",
    "model.summary()"
   ]
  },
  {
   "cell_type": "code",
   "execution_count": null,
   "id": "f5056719",
   "metadata": {
    "scrolled": true
   },
   "outputs": [
    {
     "name": "stdout",
     "output_type": "stream",
     "text": [
      "WARNING:tensorflow:From /opt/homebrew/Caskroom/miniforge/base/envs/tensorflow/lib/python3.9/site-packages/tensorflow/python/ops/array_ops.py:5043: calling gather (from tensorflow.python.ops.array_ops) with validate_indices is deprecated and will be removed in a future version.\n",
      "Instructions for updating:\n",
      "The `validate_indices` argument has no effect. Indices are always validated on CPU and never validated on GPU.\n"
     ]
    },
    {
     "name": "stderr",
     "output_type": "stream",
     "text": [
      "2022-01-03 13:24:57.578960: I tensorflow/compiler/mlir/mlir_graph_optimization_pass.cc:176] None of the MLIR Optimization Passes are enabled (registered 2)\n",
      "2022-01-03 13:24:57.579087: W tensorflow/core/platform/profile_utils/cpu_utils.cc:128] Failed to get CPU frequency: 0 Hz\n"
     ]
    },
    {
     "name": "stdout",
     "output_type": "stream",
     "text": [
      "Epoch 1/50\n"
     ]
    },
    {
     "name": "stderr",
     "output_type": "stream",
     "text": [
      "2022-01-03 13:24:57.760638: I tensorflow/core/grappler/optimizers/custom_graph_optimizer_registry.cc:112] Plugin optimizer for device_type GPU is enabled.\n"
     ]
    },
    {
     "name": "stdout",
     "output_type": "stream",
     "text": [
      "1021/1024 [============================>.] - ETA: 0s - loss: 6.0006 - accuracy: 0.3610"
     ]
    },
    {
     "name": "stderr",
     "output_type": "stream",
     "text": [
      "2022-01-03 13:25:09.038148: I tensorflow/core/grappler/optimizers/custom_graph_optimizer_registry.cc:112] Plugin optimizer for device_type GPU is enabled.\n"
     ]
    },
    {
     "name": "stdout",
     "output_type": "stream",
     "text": [
      "1024/1024 [==============================] - 13s 13ms/step - loss: 5.9951 - accuracy: 0.3613 - val_loss: 1.0744 - val_accuracy: 0.6672\n",
      "\n",
      "Epoch 00001: val_accuracy improved from -inf to 0.66722, saving model to ./backup/model.best.hdf5\n",
      "Epoch 2/50\n",
      "1024/1024 [==============================] - 13s 13ms/step - loss: 4.0698 - accuracy: 0.5650 - val_loss: 0.7078 - val_accuracy: 0.7787\n",
      "\n",
      "Epoch 00002: val_accuracy improved from 0.66722 to 0.77870, saving model to ./backup/model.best.hdf5\n",
      "Epoch 3/50\n",
      "1024/1024 [==============================] - 13s 13ms/step - loss: 3.4712 - accuracy: 0.6403 - val_loss: 0.6122 - val_accuracy: 0.8104\n",
      "\n",
      "Epoch 00003: val_accuracy improved from 0.77870 to 0.81037, saving model to ./backup/model.best.hdf5\n",
      "Epoch 4/50\n",
      "1024/1024 [==============================] - 13s 13ms/step - loss: 3.1516 - accuracy: 0.6847 - val_loss: 0.4090 - val_accuracy: 0.8844\n",
      "\n",
      "Epoch 00004: val_accuracy improved from 0.81037 to 0.88440, saving model to ./backup/model.best.hdf5\n",
      "Epoch 5/50\n",
      "1024/1024 [==============================] - 13s 13ms/step - loss: 2.9212 - accuracy: 0.7139 - val_loss: 0.4182 - val_accuracy: 0.8923\n",
      "\n",
      "Epoch 00005: val_accuracy improved from 0.88440 to 0.89232, saving model to ./backup/model.best.hdf5\n",
      "Epoch 6/50\n",
      "1024/1024 [==============================] - 13s 13ms/step - loss: 2.7961 - accuracy: 0.7270 - val_loss: 0.4039 - val_accuracy: 0.8777\n",
      "\n",
      "Epoch 00006: val_accuracy did not improve from 0.89232\n",
      "Epoch 7/50\n",
      "1024/1024 [==============================] - 13s 13ms/step - loss: 2.6111 - accuracy: 0.7502 - val_loss: 0.3440 - val_accuracy: 0.9035\n",
      "\n",
      "Epoch 00007: val_accuracy improved from 0.89232 to 0.90348, saving model to ./backup/model.best.hdf5\n",
      "Epoch 8/50\n",
      "1024/1024 [==============================] - 13s 13ms/step - loss: 2.5044 - accuracy: 0.7632 - val_loss: 0.3122 - val_accuracy: 0.9162\n",
      "\n",
      "Epoch 00008: val_accuracy improved from 0.90348 to 0.91623, saving model to ./backup/model.best.hdf5\n",
      "Epoch 9/50\n",
      "1024/1024 [==============================] - 13s 13ms/step - loss: 2.4458 - accuracy: 0.7740 - val_loss: 0.3179 - val_accuracy: 0.9048\n",
      "\n",
      "Epoch 00009: val_accuracy did not improve from 0.91623\n",
      "Epoch 10/50\n",
      "1024/1024 [==============================] - 13s 13ms/step - loss: 2.4341 - accuracy: 0.7808 - val_loss: 0.2683 - val_accuracy: 0.9371\n",
      "\n",
      "Epoch 00010: val_accuracy improved from 0.91623 to 0.93713, saving model to ./backup/model.best.hdf5\n",
      "Epoch 11/50\n",
      "1024/1024 [==============================] - 14s 13ms/step - loss: 2.3045 - accuracy: 0.7906 - val_loss: 0.2441 - val_accuracy: 0.9398\n",
      "\n",
      "Epoch 00011: val_accuracy improved from 0.93713 to 0.93983, saving model to ./backup/model.best.hdf5\n",
      "Epoch 12/50\n",
      "1024/1024 [==============================] - 14s 13ms/step - loss: 2.3253 - accuracy: 0.7970 - val_loss: 0.2844 - val_accuracy: 0.9232\n",
      "\n",
      "Epoch 00012: val_accuracy did not improve from 0.93983\n",
      "Epoch 13/50\n",
      "1024/1024 [==============================] - 13s 13ms/step - loss: 2.2564 - accuracy: 0.8004 - val_loss: 0.4971 - val_accuracy: 0.8775\n",
      "\n",
      "Epoch 00013: val_accuracy did not improve from 0.93983\n",
      "Epoch 14/50\n",
      "1024/1024 [==============================] - 13s 13ms/step - loss: 2.1896 - accuracy: 0.8060 - val_loss: 0.3233 - val_accuracy: 0.9086\n",
      "\n",
      "Epoch 00014: val_accuracy did not improve from 0.93983\n",
      "Epoch 15/50\n",
      "1024/1024 [==============================] - 13s 13ms/step - loss: 2.1570 - accuracy: 0.8124 - val_loss: 0.2428 - val_accuracy: 0.9367\n",
      "\n",
      "Epoch 00015: val_accuracy did not improve from 0.93983\n",
      "Epoch 16/50\n",
      "1024/1024 [==============================] - 13s 13ms/step - loss: 2.0977 - accuracy: 0.8188 - val_loss: 0.2817 - val_accuracy: 0.9357\n",
      "\n",
      "Epoch 00016: val_accuracy did not improve from 0.93983\n",
      "Epoch 17/50\n",
      "1024/1024 [==============================] - 13s 13ms/step - loss: 2.1224 - accuracy: 0.8190 - val_loss: 0.2451 - val_accuracy: 0.9339\n",
      "\n",
      "Epoch 00017: val_accuracy did not improve from 0.93983\n",
      "Epoch 18/50\n",
      " 789/1024 [======================>.......] - ETA: 2s - loss: 2.0555 - accuracy: 0.8236"
     ]
    }
   ],
   "source": [
    "fit = model.fit(\n",
    "    \n",
    "        generator,\n",
    "    \n",
    "        steps_per_epoch = batch_size,\n",
    "    \n",
    "        epochs = epochs,\n",
    "\n",
    "        validation_data = (Xtest, Ytest),\n",
    "\n",
    "        class_weight = dict(enumerate(class_weight.flatten(), 0)),\n",
    "    \n",
    "        callbacks=[LRS(scheduler), checkpoint_val_acc],\n",
    "\n",
    "        verbose=1\n",
    ")"
   ]
  },
  {
   "cell_type": "markdown",
   "id": "13a45024",
   "metadata": {},
   "source": [
    "## Metrics"
   ]
  },
  {
   "cell_type": "code",
   "execution_count": null,
   "id": "31d41f61",
   "metadata": {},
   "outputs": [],
   "source": [
    "score = model.evaluate(Xtest, Ytest, verbose=0)\n",
    "\n",
    "print(\"Test loss: \", score[0])\n",
    "print(\"Test accuracy: \", score[1])\n",
    "print(f\"Test error: {((1-score[1]) * 100):.3f}%\")"
   ]
  },
  {
   "cell_type": "code",
   "execution_count": null,
   "id": "c1b0d093",
   "metadata": {},
   "outputs": [],
   "source": [
    "plt.plot(fit.history['accuracy'])\n",
    "plt.plot(fit.history['val_accuracy'])\n",
    "plt.title('model accuracy')\n",
    "plt.ylabel('accuracy')\n",
    "plt.xlabel('epoch')\n",
    "plt.legend(['train', 'test'], loc='upper left')\n",
    "plt.show()"
   ]
  },
  {
   "cell_type": "markdown",
   "id": "5d544371",
   "metadata": {},
   "source": [
    "## Save model"
   ]
  },
  {
   "cell_type": "code",
   "execution_count": null,
   "id": "832753ad",
   "metadata": {},
   "outputs": [],
   "source": [
    "model_name = \"TSR_Model_96perEpoch35_MACM1\""
   ]
  },
  {
   "cell_type": "code",
   "execution_count": null,
   "id": "575a9369",
   "metadata": {},
   "outputs": [],
   "source": [
    "model.save(f'./MODELS/{model_name}')"
   ]
  },
  {
   "cell_type": "code",
   "execution_count": null,
   "id": "ea44eeb8",
   "metadata": {},
   "outputs": [],
   "source": [
    "model = models.load_model(f'./MODELS/{model_name}')\n",
    "model.compile(\n",
    "    optimizer = optimizer, \n",
    "    loss = \"categorical_crossentropy\", \n",
    "    metrics = [\"accuracy\"]\n",
    ")"
   ]
  },
  {
   "cell_type": "markdown",
   "id": "5f450087",
   "metadata": {},
   "source": [
    "## Prediction"
   ]
  },
  {
   "cell_type": "code",
   "execution_count": null,
   "id": "22f023e0",
   "metadata": {},
   "outputs": [],
   "source": [
    "signDict = {}\n",
    "\n",
    "for i in range(len(Ytrain)):\n",
    "    \n",
    "    classs = np.argmax(Ytrain[i])\n",
    "    \n",
    "    if classs not in signDict.keys():\n",
    "        signDict[classs] = i\n",
    "\n",
    "print(signDict)"
   ]
  },
  {
   "cell_type": "code",
   "execution_count": null,
   "id": "36c9ec7d",
   "metadata": {},
   "outputs": [],
   "source": [
    "imagePredictionSRC = os.path.join(data_path, \"Test/00064.png\")"
   ]
  },
  {
   "cell_type": "markdown",
   "id": "4c50c736",
   "metadata": {},
   "source": [
    "### Load image "
   ]
  },
  {
   "cell_type": "code",
   "execution_count": null,
   "id": "42df8ae3",
   "metadata": {},
   "outputs": [],
   "source": [
    "image = cv2.imread(imagePredictionSRC)\n",
    "image = cv2.cvtColor(image, cv2.COLOR_BGR2RGB)"
   ]
  },
  {
   "cell_type": "code",
   "execution_count": null,
   "id": "27c62287",
   "metadata": {},
   "outputs": [],
   "source": [
    "image_rs = cv2.resize(image, (img_size, img_size), 3)        \n",
    "\n",
    "R, G, B = cv2.split(image_rs)     \n",
    "\n",
    "img_r = cv2.equalizeHist(R)\n",
    "img_g = cv2.equalizeHist(G)\n",
    "img_b = cv2.equalizeHist(B)        \n",
    "\n",
    "image = cv2.merge((img_r, img_g, img_b))"
   ]
  },
  {
   "cell_type": "code",
   "execution_count": null,
   "id": "037d718f",
   "metadata": {},
   "outputs": [],
   "source": [
    "plt.imshow(image)"
   ]
  },
  {
   "cell_type": "markdown",
   "id": "2c9ecf36",
   "metadata": {},
   "source": [
    "### Predict image"
   ]
  },
  {
   "cell_type": "code",
   "execution_count": null,
   "id": "25d79e20",
   "metadata": {},
   "outputs": [],
   "source": [
    "input_arr = tf.keras.preprocessing.image.img_to_array(image)\n",
    "input_arr = np.array([input_arr])  # Convert single image to a batch.\n",
    "input_arr = input_arr.astype('float32') / 255. "
   ]
  },
  {
   "cell_type": "code",
   "execution_count": null,
   "id": "63313eef",
   "metadata": {},
   "outputs": [],
   "source": [
    "predictions = model.predict(input_arr)\n",
    "predicted_class = np.argmax(predictions, axis=-1)[0]"
   ]
  },
  {
   "cell_type": "code",
   "execution_count": null,
   "id": "8148e9aa",
   "metadata": {},
   "outputs": [],
   "source": [
    "plt.imshow(Xtrain[signDict[predicted_class]])"
   ]
  }
 ],
 "metadata": {
  "kernelspec": {
   "display_name": "Python 3 (ipykernel)",
   "language": "python",
   "name": "python3"
  },
  "language_info": {
   "codemirror_mode": {
    "name": "ipython",
    "version": 3
   },
   "file_extension": ".py",
   "mimetype": "text/x-python",
   "name": "python",
   "nbconvert_exporter": "python",
   "pygments_lexer": "ipython3",
   "version": "3.9.7"
  }
 },
 "nbformat": 4,
 "nbformat_minor": 5
}
