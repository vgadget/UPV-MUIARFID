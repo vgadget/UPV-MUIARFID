{
 "cells": [
  {
   "cell_type": "markdown",
   "id": "79b79a5b",
   "metadata": {},
   "source": [
    "# Traffic Sign Recognition"
   ]
  },
  {
   "cell_type": "markdown",
   "id": "16c8088d",
   "metadata": {},
   "source": [
    "## Dependencies"
   ]
  },
  {
   "cell_type": "code",
   "execution_count": 1,
   "id": "a8f39c5b",
   "metadata": {},
   "outputs": [
    {
     "name": "stdout",
     "output_type": "stream",
     "text": [
      "Init Plugin\n",
      "Init Graph Optimizer\n",
      "Init Kernel\n"
     ]
    }
   ],
   "source": [
    "from numpy.random import seed\n",
    "seed(86148)\n",
    "\n",
    "import sys\n",
    "sys.path.append('./lib') # For personal extra modules\n",
    "\n",
    "import os\n",
    "import cv2\n",
    "import pandas as pd\n",
    "import numpy as np\n",
    "import matplotlib.pyplot as plt\n",
    "\n",
    "import tensorflow as tf\n",
    "from tensorflow.keras.callbacks import ModelCheckpoint\n",
    "from tensorflow.keras.callbacks import LearningRateScheduler as LRS\n",
    "from tensorflow.keras.layers import Activation, BatchNormalization, Conv2D, Dense, Dropout, Flatten, MaxPooling2D\n",
    "from tensorflow.keras import models\n",
    "from tensorflow.keras.models import Sequential\n",
    "from tensorflow.keras.optimizers import Adam, RMSprop\n",
    "from tensorflow.keras.preprocessing.image import ImageDataGenerator\n",
    "from tensorflow.keras.utils import to_categorical\n",
    "\n",
    "#EXTRAS\n",
    "from cutout import get_random_eraser # CutOut\n",
    "from mixup import MixupGenerator # Mixup\n",
    "\n",
    "#MANAGEMENT PURPOSES ONLY\n",
    "from tqdm.notebook import tqdm"
   ]
  },
  {
   "cell_type": "markdown",
   "id": "96e0ff95",
   "metadata": {},
   "source": [
    "## System checks"
   ]
  },
  {
   "cell_type": "code",
   "execution_count": 2,
   "id": "6e9f1dc7",
   "metadata": {},
   "outputs": [
    {
     "name": "stdout",
     "output_type": "stream",
     "text": [
      "[PhysicalDevice(name='/physical_device:CPU:0', device_type='CPU'), PhysicalDevice(name='/physical_device:GPU:0', device_type='GPU')]\n"
     ]
    },
    {
     "name": "stderr",
     "output_type": "stream",
     "text": [
      "2022-01-21 17:58:36.951113: I tensorflow/core/common_runtime/pluggable_device/pluggable_device_factory.cc:305] Could not identify NUMA node of platform GPU ID 0, defaulting to 0. Your kernel may not have been built with NUMA support.\n",
      "2022-01-21 17:58:36.951386: I tensorflow/core/common_runtime/pluggable_device/pluggable_device_factory.cc:271] Created TensorFlow device (/device:GPU:0 with 0 MB memory) -> physical PluggableDevice (device: 0, name: METAL, pci bus id: <undefined>)\n"
     ]
    },
    {
     "data": {
      "text/plain": [
       "'/device:GPU:0'"
      ]
     },
     "execution_count": 2,
     "metadata": {},
     "output_type": "execute_result"
    },
    {
     "name": "stdout",
     "output_type": "stream",
     "text": [
      "Metal device set to: Apple M1\n"
     ]
    }
   ],
   "source": [
    "print(tf.config.list_physical_devices())\n",
    "tf.test.gpu_device_name()"
   ]
  },
  {
   "cell_type": "code",
   "execution_count": 3,
   "id": "bbc7c28b",
   "metadata": {},
   "outputs": [
    {
     "name": "stdout",
     "output_type": "stream",
     "text": [
      "3.9.7\n"
     ]
    }
   ],
   "source": [
    "from platform import python_version\n",
    "\n",
    "print(python_version())"
   ]
  },
  {
   "cell_type": "markdown",
   "id": "f3bd437c",
   "metadata": {},
   "source": [
    "## Data management"
   ]
  },
  {
   "cell_type": "code",
   "execution_count": 4,
   "id": "29a521f5",
   "metadata": {},
   "outputs": [],
   "source": [
    "data_path = r\"./DATASET/\"\n",
    "img_size = 32"
   ]
  },
  {
   "cell_type": "code",
   "execution_count": 5,
   "id": "16cc3e80",
   "metadata": {},
   "outputs": [],
   "source": [
    "def load_data(dataset):\n",
    "    images = []\n",
    "    classes = []    \n",
    "    rows = pd.read_csv(dataset)\n",
    "    rows = rows.sample(frac=1).reset_index(drop=True)\n",
    "            \n",
    "    with tqdm(total=len(rows)+1) as pbar:\n",
    "    \n",
    "        for i, row in rows.iterrows():\n",
    "            img_class = row[\"ClassId\"]\n",
    "            img_path = row[\"Path\"]        \n",
    "            image = os.path.join(data_path, img_path)\n",
    "\n",
    "            image = cv2.imread(image)\n",
    "            image = cv2.cvtColor(image, cv2.COLOR_BGR2RGB)\n",
    "            image_rs = cv2.resize(image, (img_size, img_size), 3)        \n",
    "\n",
    "            R, G, B = cv2.split(image_rs)     \n",
    "\n",
    "            img_r = cv2.equalizeHist(R)\n",
    "            img_g = cv2.equalizeHist(G)\n",
    "            img_b = cv2.equalizeHist(B)        \n",
    "\n",
    "            new_image = cv2.merge((img_r, img_g, img_b))\n",
    "\n",
    "            pbar.update(1)\n",
    "\n",
    "            images.append(new_image)\n",
    "            classes.append(img_class)\n",
    "            \n",
    "        pbar.container.children[-2].style.bar_color = '#00FF00' # Set bar to green color at end\n",
    "    \n",
    "    X = np.array(images)\n",
    "    y = np.array(classes)\n",
    "    \n",
    "    return (X, y)"
   ]
  },
  {
   "cell_type": "markdown",
   "id": "8b8ac8d4",
   "metadata": {},
   "source": [
    "### Load data "
   ]
  },
  {
   "cell_type": "code",
   "execution_count": 6,
   "id": "f86392be",
   "metadata": {},
   "outputs": [
    {
     "data": {
      "application/vnd.jupyter.widget-view+json": {
       "model_id": "0e484089b85e43409d2e5f5e2b92d11e",
       "version_major": 2,
       "version_minor": 0
      },
      "text/plain": [
       "  0%|          | 0/39210 [00:00<?, ?it/s]"
      ]
     },
     "metadata": {},
     "output_type": "display_data"
    },
    {
     "data": {
      "application/vnd.jupyter.widget-view+json": {
       "model_id": "be8d060517f449f5b31df12e13ab6d61",
       "version_major": 2,
       "version_minor": 0
      },
      "text/plain": [
       "  0%|          | 0/12631 [00:00<?, ?it/s]"
      ]
     },
     "metadata": {},
     "output_type": "display_data"
    }
   ],
   "source": [
    "train_data_path = data_path + \"Train.csv\"\n",
    "test_data_path = data_path + \"Test.csv\"\n",
    "\n",
    "\n",
    "(Xtrain, Ytrain) = load_data(train_data_path)\n",
    "(Xtest, Ytest) = load_data(test_data_path)"
   ]
  },
  {
   "cell_type": "markdown",
   "id": "e6cb8930",
   "metadata": {},
   "source": [
    "### Normalise data"
   ]
  },
  {
   "cell_type": "code",
   "execution_count": 7,
   "id": "0d62fbd3",
   "metadata": {},
   "outputs": [],
   "source": [
    "Xtrain = Xtrain.astype(\"float32\") / 255.0\n",
    "Xtest = Xtest.astype(\"float32\") / 255.0\n",
    "\n",
    "num_labels = len(np.unique(Ytrain))\n",
    "Ytrain = to_categorical(Ytrain, num_labels)\n",
    "Ytest = to_categorical(Ytest, num_labels)\n",
    "\n",
    "class_totals = Ytrain.sum(axis=0)\n",
    "class_weight = class_totals.max() / class_totals"
   ]
  },
  {
   "cell_type": "markdown",
   "id": "404a63a9",
   "metadata": {},
   "source": [
    "## Parameters"
   ]
  },
  {
   "cell_type": "markdown",
   "id": "ad2abf98",
   "metadata": {},
   "source": [
    "#### Hyper parameters"
   ]
  },
  {
   "cell_type": "code",
   "execution_count": 8,
   "id": "4627929b",
   "metadata": {},
   "outputs": [],
   "source": [
    "epochs = 50\n",
    "learning_rate = 0.001\n",
    "batch_size = 1024"
   ]
  },
  {
   "cell_type": "markdown",
   "id": "fdf2c717",
   "metadata": {},
   "source": [
    "#### Model parameters"
   ]
  },
  {
   "cell_type": "code",
   "execution_count": 9,
   "id": "9dfc8608",
   "metadata": {},
   "outputs": [],
   "source": [
    "filepath_val_acc=\"./backup/model.best.hdf5\"\n",
    "checkpoint_val_acc = ModelCheckpoint(filepath_val_acc, monitor='val_accuracy', verbose=1, save_best_only=True, mode='max')   "
   ]
  },
  {
   "cell_type": "markdown",
   "id": "1a821755",
   "metadata": {},
   "source": [
    "#### Data augmentation"
   ]
  },
  {
   "cell_type": "code",
   "execution_count": 10,
   "id": "f782a870",
   "metadata": {},
   "outputs": [],
   "source": [
    "data_augmentation = ImageDataGenerator(\n",
    "    rotation_range = 10,\n",
    "    zoom_range = 0.15,\n",
    "    width_shift_range = 0.1,\n",
    "    height_shift_range = 0.1,\n",
    "    shear_range = 0.15,\n",
    "    horizontal_flip = False,\n",
    "    vertical_flip = False,\n",
    "    preprocessing_function=get_random_eraser(v_l=0, v_h=1)\n",
    ")"
   ]
  },
  {
   "cell_type": "code",
   "execution_count": 11,
   "id": "ec7e5e35",
   "metadata": {},
   "outputs": [],
   "source": [
    "generator = MixupGenerator(Xtrain, Ytrain, alpha=0.1, datagen=data_augmentation)()"
   ]
  },
  {
   "cell_type": "markdown",
   "id": "7124c017",
   "metadata": {},
   "source": [
    "#### Optimizer"
   ]
  },
  {
   "cell_type": "code",
   "execution_count": 12,
   "id": "1d34a01a",
   "metadata": {},
   "outputs": [],
   "source": [
    "optimizer = Adam(\n",
    "    learning_rate = learning_rate, \n",
    "    decay = (learning_rate / epochs)\n",
    ")"
   ]
  },
  {
   "cell_type": "markdown",
   "id": "4964f300",
   "metadata": {},
   "source": [
    "#### Learning Rate Annealing"
   ]
  },
  {
   "cell_type": "code",
   "execution_count": 13,
   "id": "c9dae5c7",
   "metadata": {},
   "outputs": [],
   "source": [
    "def scheduler(epoch):\n",
    "    return learning_rate * (0.5 ** (epoch // 20))"
   ]
  },
  {
   "cell_type": "markdown",
   "id": "54b300bf",
   "metadata": {},
   "source": [
    "## Training Model"
   ]
  },
  {
   "cell_type": "code",
   "execution_count": 14,
   "id": "061749ec",
   "metadata": {},
   "outputs": [],
   "source": [
    "class RoadSignClassifier:\n",
    "    \n",
    "    def createCNN(width, height, depth, classes):\n",
    "        \n",
    "        model = Sequential()\n",
    "        inputShape = (height, width, depth)\n",
    "        \n",
    "        \n",
    "        model.add(Conv2D(8, (5, 5), input_shape=inputShape, activation=\"relu\"))\n",
    "        model.add(MaxPooling2D(pool_size=(2, 2)))\n",
    "        \n",
    "        \n",
    "        model.add(Conv2D(16, (3, 3), activation=\"relu\"))\n",
    "        model.add(BatchNormalization())\n",
    "        model.add(Conv2D(16, (3, 3), activation=\"relu\"))\n",
    "        model.add(BatchNormalization())\n",
    "        model.add(MaxPooling2D(pool_size=(2, 2)))\n",
    " \n",
    "        model.add(Conv2D(32, (3, 3), padding=\"same\", activation=\"relu\"))\n",
    "        model.add(BatchNormalization())\n",
    "        model.add(Conv2D(32, (3, 3), padding=\"same\", activation=\"relu\"))\n",
    "        model.add(BatchNormalization())\n",
    "\n",
    "        \n",
    "        model.add(Flatten())\n",
    "        model.add(Dropout(0.5))\n",
    "        model.add(Dense(512, activation=\"relu\"))        \n",
    "        \n",
    "        model.add(Dense(classes, activation=\"softmax\"))\n",
    "        \n",
    "        return model"
   ]
  },
  {
   "cell_type": "code",
   "execution_count": 15,
   "id": "783c36b7",
   "metadata": {},
   "outputs": [
    {
     "name": "stderr",
     "output_type": "stream",
     "text": [
      "2022-01-21 17:58:54.256252: I tensorflow/core/common_runtime/pluggable_device/pluggable_device_factory.cc:305] Could not identify NUMA node of platform GPU ID 0, defaulting to 0. Your kernel may not have been built with NUMA support.\n",
      "2022-01-21 17:58:54.256600: I tensorflow/core/common_runtime/pluggable_device/pluggable_device_factory.cc:271] Created TensorFlow device (/job:localhost/replica:0/task:0/device:GPU:0 with 0 MB memory) -> physical PluggableDevice (device: 0, name: METAL, pci bus id: <undefined>)\n"
     ]
    }
   ],
   "source": [
    "model = RoadSignClassifier.createCNN(\n",
    "    width = img_size, \n",
    "    height = img_size, \n",
    "    depth = 3, \n",
    "    classes = len(class_totals)\n",
    ")"
   ]
  },
  {
   "cell_type": "code",
   "execution_count": 16,
   "id": "196a890d",
   "metadata": {},
   "outputs": [
    {
     "name": "stdout",
     "output_type": "stream",
     "text": [
      "Model: \"sequential\"\n",
      "_________________________________________________________________\n",
      "Layer (type)                 Output Shape              Param #   \n",
      "=================================================================\n",
      "conv2d (Conv2D)              (None, 28, 28, 8)         608       \n",
      "_________________________________________________________________\n",
      "max_pooling2d (MaxPooling2D) (None, 14, 14, 8)         0         \n",
      "_________________________________________________________________\n",
      "conv2d_1 (Conv2D)            (None, 12, 12, 16)        1168      \n",
      "_________________________________________________________________\n",
      "batch_normalization (BatchNo (None, 12, 12, 16)        64        \n",
      "_________________________________________________________________\n",
      "conv2d_2 (Conv2D)            (None, 10, 10, 16)        2320      \n",
      "_________________________________________________________________\n",
      "batch_normalization_1 (Batch (None, 10, 10, 16)        64        \n",
      "_________________________________________________________________\n",
      "max_pooling2d_1 (MaxPooling2 (None, 5, 5, 16)          0         \n",
      "_________________________________________________________________\n",
      "conv2d_3 (Conv2D)            (None, 5, 5, 32)          4640      \n",
      "_________________________________________________________________\n",
      "batch_normalization_2 (Batch (None, 5, 5, 32)          128       \n",
      "_________________________________________________________________\n",
      "conv2d_4 (Conv2D)            (None, 5, 5, 32)          9248      \n",
      "_________________________________________________________________\n",
      "batch_normalization_3 (Batch (None, 5, 5, 32)          128       \n",
      "_________________________________________________________________\n",
      "flatten (Flatten)            (None, 800)               0         \n",
      "_________________________________________________________________\n",
      "dropout (Dropout)            (None, 800)               0         \n",
      "_________________________________________________________________\n",
      "dense (Dense)                (None, 512)               410112    \n",
      "_________________________________________________________________\n",
      "dense_1 (Dense)              (None, 43)                22059     \n",
      "=================================================================\n",
      "Total params: 450,539\n",
      "Trainable params: 450,347\n",
      "Non-trainable params: 192\n",
      "_________________________________________________________________\n"
     ]
    }
   ],
   "source": [
    "model.compile(\n",
    "    optimizer = optimizer, \n",
    "    loss = \"categorical_crossentropy\", \n",
    "    metrics = [\"accuracy\"]\n",
    ")\n",
    "\n",
    "model.summary()"
   ]
  },
  {
   "cell_type": "code",
   "execution_count": 17,
   "id": "f5056719",
   "metadata": {
    "scrolled": true
   },
   "outputs": [
    {
     "name": "stdout",
     "output_type": "stream",
     "text": [
      "WARNING:tensorflow:From /opt/homebrew/Caskroom/miniforge/base/envs/tensorflow/lib/python3.9/site-packages/tensorflow/python/ops/array_ops.py:5043: calling gather (from tensorflow.python.ops.array_ops) with validate_indices is deprecated and will be removed in a future version.\n",
      "Instructions for updating:\n",
      "The `validate_indices` argument has no effect. Indices are always validated on CPU and never validated on GPU.\n",
      "Epoch 1/50\n"
     ]
    },
    {
     "name": "stderr",
     "output_type": "stream",
     "text": [
      "2022-01-21 17:58:54.545874: I tensorflow/compiler/mlir/mlir_graph_optimization_pass.cc:176] None of the MLIR Optimization Passes are enabled (registered 2)\n",
      "2022-01-21 17:58:54.547772: W tensorflow/core/platform/profile_utils/cpu_utils.cc:128] Failed to get CPU frequency: 0 Hz\n",
      "2022-01-21 17:58:54.795886: I tensorflow/core/grappler/optimizers/custom_graph_optimizer_registry.cc:112] Plugin optimizer for device_type GPU is enabled.\n"
     ]
    },
    {
     "name": "stdout",
     "output_type": "stream",
     "text": [
      "1023/1024 [============================>.] - ETA: 0s - loss: 6.1275 - accuracy: 0.3539"
     ]
    },
    {
     "name": "stderr",
     "output_type": "stream",
     "text": [
      "2022-01-21 17:59:06.093950: I tensorflow/core/grappler/optimizers/custom_graph_optimizer_registry.cc:112] Plugin optimizer for device_type GPU is enabled.\n"
     ]
    },
    {
     "name": "stdout",
     "output_type": "stream",
     "text": [
      "1024/1024 [==============================] - 13s 13ms/step - loss: 6.1255 - accuracy: 0.3539 - val_loss: 1.1294 - val_accuracy: 0.6267\n",
      "\n",
      "Epoch 00001: val_accuracy improved from -inf to 0.62668, saving model to ./backup/model.best.hdf5\n",
      "Epoch 2/50\n",
      "1024/1024 [==============================] - 13s 13ms/step - loss: 4.1700 - accuracy: 0.5544 - val_loss: 0.8204 - val_accuracy: 0.7355\n",
      "\n",
      "Epoch 00002: val_accuracy improved from 0.62668 to 0.73547, saving model to ./backup/model.best.hdf5\n",
      "Epoch 3/50\n",
      "1024/1024 [==============================] - 13s 13ms/step - loss: 3.5308 - accuracy: 0.6325 - val_loss: 0.5301 - val_accuracy: 0.8352\n",
      "\n",
      "Epoch 00003: val_accuracy improved from 0.73547 to 0.83523, saving model to ./backup/model.best.hdf5\n",
      "Epoch 4/50\n",
      "1024/1024 [==============================] - 13s 13ms/step - loss: 3.1723 - accuracy: 0.6771 - val_loss: 0.4705 - val_accuracy: 0.8515\n",
      "\n",
      "Epoch 00004: val_accuracy improved from 0.83523 to 0.85146, saving model to ./backup/model.best.hdf5\n",
      "Epoch 5/50\n",
      "1024/1024 [==============================] - 13s 13ms/step - loss: 2.9662 - accuracy: 0.7067 - val_loss: 0.4244 - val_accuracy: 0.8756\n",
      "\n",
      "Epoch 00005: val_accuracy improved from 0.85146 to 0.87561, saving model to ./backup/model.best.hdf5\n",
      "Epoch 6/50\n",
      "1024/1024 [==============================] - 13s 13ms/step - loss: 2.7869 - accuracy: 0.7312 - val_loss: 0.5487 - val_accuracy: 0.8350\n",
      "\n",
      "Epoch 00006: val_accuracy did not improve from 0.87561\n",
      "Epoch 7/50\n",
      "1024/1024 [==============================] - 13s 13ms/step - loss: 2.6335 - accuracy: 0.7485 - val_loss: 0.3165 - val_accuracy: 0.9124\n",
      "\n",
      "Epoch 00007: val_accuracy improved from 0.87561 to 0.91235, saving model to ./backup/model.best.hdf5\n",
      "Epoch 8/50\n",
      "1024/1024 [==============================] - 13s 13ms/step - loss: 2.5258 - accuracy: 0.7617 - val_loss: 0.2863 - val_accuracy: 0.9193\n",
      "\n",
      "Epoch 00008: val_accuracy improved from 0.91235 to 0.91932, saving model to ./backup/model.best.hdf5\n",
      "Epoch 9/50\n",
      "1024/1024 [==============================] - 13s 13ms/step - loss: 2.4597 - accuracy: 0.7725 - val_loss: 0.3692 - val_accuracy: 0.8989\n",
      "\n",
      "Epoch 00009: val_accuracy did not improve from 0.91932\n",
      "Epoch 10/50\n",
      "1024/1024 [==============================] - 13s 13ms/step - loss: 2.4305 - accuracy: 0.7800 - val_loss: 0.2570 - val_accuracy: 0.9280\n",
      "\n",
      "Epoch 00010: val_accuracy improved from 0.91932 to 0.92803, saving model to ./backup/model.best.hdf5\n",
      "Epoch 11/50\n",
      "1024/1024 [==============================] - 13s 13ms/step - loss: 2.3351 - accuracy: 0.7852 - val_loss: 0.2584 - val_accuracy: 0.9238\n",
      "\n",
      "Epoch 00011: val_accuracy did not improve from 0.92803\n",
      "Epoch 12/50\n",
      "1024/1024 [==============================] - 13s 13ms/step - loss: 2.3107 - accuracy: 0.7961 - val_loss: 0.2864 - val_accuracy: 0.9210\n",
      "\n",
      "Epoch 00012: val_accuracy did not improve from 0.92803\n",
      "Epoch 13/50\n",
      "1024/1024 [==============================] - 13s 13ms/step - loss: 2.2913 - accuracy: 0.7997 - val_loss: 0.2302 - val_accuracy: 0.9391\n",
      "\n",
      "Epoch 00013: val_accuracy improved from 0.92803 to 0.93911, saving model to ./backup/model.best.hdf5\n",
      "Epoch 14/50\n",
      "1024/1024 [==============================] - 13s 12ms/step - loss: 2.2211 - accuracy: 0.8048 - val_loss: 0.2744 - val_accuracy: 0.9301\n",
      "\n",
      "Epoch 00014: val_accuracy did not improve from 0.93911\n",
      "Epoch 15/50\n",
      "1024/1024 [==============================] - 13s 13ms/step - loss: 2.1531 - accuracy: 0.8070 - val_loss: 0.2691 - val_accuracy: 0.9249\n",
      "\n",
      "Epoch 00015: val_accuracy did not improve from 0.93911\n",
      "Epoch 16/50\n",
      "1024/1024 [==============================] - 13s 13ms/step - loss: 2.0965 - accuracy: 0.8154 - val_loss: 0.2160 - val_accuracy: 0.9421\n",
      "\n",
      "Epoch 00016: val_accuracy improved from 0.93911 to 0.94212, saving model to ./backup/model.best.hdf5\n",
      "Epoch 17/50\n",
      "1024/1024 [==============================] - 14s 14ms/step - loss: 2.1506 - accuracy: 0.8138 - val_loss: 0.2162 - val_accuracy: 0.9420\n",
      "\n",
      "Epoch 00017: val_accuracy did not improve from 0.94212\n",
      "Epoch 18/50\n",
      "1024/1024 [==============================] - 14s 14ms/step - loss: 2.0674 - accuracy: 0.8195 - val_loss: 0.2326 - val_accuracy: 0.9357\n",
      "\n",
      "Epoch 00018: val_accuracy did not improve from 0.94212\n",
      "Epoch 19/50\n",
      "1024/1024 [==============================] - 14s 13ms/step - loss: 2.0755 - accuracy: 0.8232 - val_loss: 0.2292 - val_accuracy: 0.9356\n",
      "\n",
      "Epoch 00019: val_accuracy did not improve from 0.94212\n",
      "Epoch 20/50\n",
      "1024/1024 [==============================] - 14s 13ms/step - loss: 2.0321 - accuracy: 0.8214 - val_loss: 0.2373 - val_accuracy: 0.9325\n",
      "\n",
      "Epoch 00020: val_accuracy did not improve from 0.94212\n",
      "Epoch 21/50\n",
      "1024/1024 [==============================] - 14s 14ms/step - loss: 1.9698 - accuracy: 0.8349 - val_loss: 0.1895 - val_accuracy: 0.9465\n",
      "\n",
      "Epoch 00021: val_accuracy improved from 0.94212 to 0.94648, saving model to ./backup/model.best.hdf5\n",
      "Epoch 22/50\n",
      "1024/1024 [==============================] - 13s 13ms/step - loss: 1.9034 - accuracy: 0.8403 - val_loss: 0.1771 - val_accuracy: 0.9509\n",
      "\n",
      "Epoch 00022: val_accuracy improved from 0.94648 to 0.95091, saving model to ./backup/model.best.hdf5\n",
      "Epoch 23/50\n",
      "1024/1024 [==============================] - 14s 14ms/step - loss: 1.9111 - accuracy: 0.8432 - val_loss: 0.2019 - val_accuracy: 0.9447\n",
      "\n",
      "Epoch 00023: val_accuracy did not improve from 0.95091\n",
      "Epoch 24/50\n",
      "1024/1024 [==============================] - 13s 13ms/step - loss: 1.8452 - accuracy: 0.8454 - val_loss: 0.1847 - val_accuracy: 0.9486\n",
      "\n",
      "Epoch 00024: val_accuracy did not improve from 0.95091\n",
      "Epoch 25/50\n",
      "1024/1024 [==============================] - 14s 14ms/step - loss: 1.8074 - accuracy: 0.8466 - val_loss: 0.1805 - val_accuracy: 0.9500\n",
      "\n",
      "Epoch 00025: val_accuracy did not improve from 0.95091\n",
      "Epoch 26/50\n",
      "1024/1024 [==============================] - 13s 13ms/step - loss: 1.8494 - accuracy: 0.8468 - val_loss: 0.1655 - val_accuracy: 0.9565\n",
      "\n",
      "Epoch 00026: val_accuracy improved from 0.95091 to 0.95645, saving model to ./backup/model.best.hdf5\n",
      "Epoch 27/50\n",
      "1024/1024 [==============================] - 13s 13ms/step - loss: 1.8298 - accuracy: 0.8463 - val_loss: 0.2013 - val_accuracy: 0.9484\n",
      "\n",
      "Epoch 00027: val_accuracy did not improve from 0.95645\n",
      "Epoch 28/50\n",
      "1024/1024 [==============================] - 13s 13ms/step - loss: 1.8082 - accuracy: 0.8482 - val_loss: 0.1585 - val_accuracy: 0.9577\n",
      "\n",
      "Epoch 00028: val_accuracy improved from 0.95645 to 0.95772, saving model to ./backup/model.best.hdf5\n",
      "Epoch 29/50\n",
      "1024/1024 [==============================] - 13s 13ms/step - loss: 1.8766 - accuracy: 0.8458 - val_loss: 0.1631 - val_accuracy: 0.9540\n",
      "\n",
      "Epoch 00029: val_accuracy did not improve from 0.95772\n",
      "Epoch 30/50\n",
      "1024/1024 [==============================] - 13s 13ms/step - loss: 1.7825 - accuracy: 0.8520 - val_loss: 0.1714 - val_accuracy: 0.9543\n",
      "\n",
      "Epoch 00030: val_accuracy did not improve from 0.95772\n",
      "Epoch 31/50\n",
      "1024/1024 [==============================] - 13s 13ms/step - loss: 1.8106 - accuracy: 0.8497 - val_loss: 0.1657 - val_accuracy: 0.9568\n",
      "\n",
      "Epoch 00031: val_accuracy did not improve from 0.95772\n",
      "Epoch 32/50\n",
      "1024/1024 [==============================] - 13s 13ms/step - loss: 1.8228 - accuracy: 0.8510 - val_loss: 0.2417 - val_accuracy: 0.9290\n",
      "\n",
      "Epoch 00032: val_accuracy did not improve from 0.95772\n",
      "Epoch 33/50\n",
      "1024/1024 [==============================] - 13s 13ms/step - loss: 1.7810 - accuracy: 0.8528 - val_loss: 0.1701 - val_accuracy: 0.9546\n",
      "\n",
      "Epoch 00033: val_accuracy did not improve from 0.95772\n",
      "Epoch 34/50\n",
      "1024/1024 [==============================] - 13s 13ms/step - loss: 1.7814 - accuracy: 0.8559 - val_loss: 0.1621 - val_accuracy: 0.9589\n",
      "\n",
      "Epoch 00034: val_accuracy improved from 0.95772 to 0.95891, saving model to ./backup/model.best.hdf5\n",
      "Epoch 35/50\n",
      "1024/1024 [==============================] - 13s 13ms/step - loss: 1.7864 - accuracy: 0.8544 - val_loss: 0.1552 - val_accuracy: 0.9589\n",
      "\n",
      "Epoch 00035: val_accuracy did not improve from 0.95891\n",
      "Epoch 36/50\n",
      "1024/1024 [==============================] - 14s 13ms/step - loss: 1.8192 - accuracy: 0.8521 - val_loss: 0.1726 - val_accuracy: 0.9584\n",
      "\n",
      "Epoch 00036: val_accuracy did not improve from 0.95891\n",
      "Epoch 37/50\n",
      "1024/1024 [==============================] - 13s 13ms/step - loss: 1.7815 - accuracy: 0.8548 - val_loss: 0.1613 - val_accuracy: 0.9580\n",
      "\n",
      "Epoch 00037: val_accuracy did not improve from 0.95891\n",
      "Epoch 38/50\n"
     ]
    },
    {
     "name": "stdout",
     "output_type": "stream",
     "text": [
      "1024/1024 [==============================] - 13s 13ms/step - loss: 1.7349 - accuracy: 0.8596 - val_loss: 0.1665 - val_accuracy: 0.9579\n",
      "\n",
      "Epoch 00038: val_accuracy did not improve from 0.95891\n",
      "Epoch 39/50\n",
      "1024/1024 [==============================] - 13s 13ms/step - loss: 1.7315 - accuracy: 0.8581 - val_loss: 0.1459 - val_accuracy: 0.9628\n",
      "\n",
      "Epoch 00039: val_accuracy improved from 0.95891 to 0.96279, saving model to ./backup/model.best.hdf5\n",
      "Epoch 40/50\n",
      "1024/1024 [==============================] - 13s 13ms/step - loss: 1.7424 - accuracy: 0.8561 - val_loss: 0.1625 - val_accuracy: 0.9606\n",
      "\n",
      "Epoch 00040: val_accuracy did not improve from 0.96279\n",
      "Epoch 41/50\n",
      "1024/1024 [==============================] - 13s 13ms/step - loss: 1.7503 - accuracy: 0.8592 - val_loss: 0.1478 - val_accuracy: 0.9610\n",
      "\n",
      "Epoch 00041: val_accuracy did not improve from 0.96279\n",
      "Epoch 42/50\n",
      "1024/1024 [==============================] - 13s 13ms/step - loss: 1.7363 - accuracy: 0.8602 - val_loss: 0.1524 - val_accuracy: 0.9613\n",
      "\n",
      "Epoch 00042: val_accuracy did not improve from 0.96279\n",
      "Epoch 43/50\n",
      "1024/1024 [==============================] - 13s 13ms/step - loss: 1.6887 - accuracy: 0.8642 - val_loss: 0.1433 - val_accuracy: 0.9622\n",
      "\n",
      "Epoch 00043: val_accuracy did not improve from 0.96279\n",
      "Epoch 44/50\n",
      "1024/1024 [==============================] - 13s 13ms/step - loss: 1.7454 - accuracy: 0.8585 - val_loss: 0.1410 - val_accuracy: 0.9632\n",
      "\n",
      "Epoch 00044: val_accuracy improved from 0.96279 to 0.96318, saving model to ./backup/model.best.hdf5\n",
      "Epoch 45/50\n",
      "1024/1024 [==============================] - 13s 13ms/step - loss: 1.7007 - accuracy: 0.8629 - val_loss: 0.1598 - val_accuracy: 0.9584\n",
      "\n",
      "Epoch 00045: val_accuracy did not improve from 0.96318\n",
      "Epoch 46/50\n",
      "1024/1024 [==============================] - 13s 13ms/step - loss: 1.6312 - accuracy: 0.8678 - val_loss: 0.1546 - val_accuracy: 0.9581\n",
      "\n",
      "Epoch 00046: val_accuracy did not improve from 0.96318\n",
      "Epoch 47/50\n",
      "1024/1024 [==============================] - 14s 13ms/step - loss: 1.6818 - accuracy: 0.8654 - val_loss: 0.1516 - val_accuracy: 0.9625\n",
      "\n",
      "Epoch 00047: val_accuracy did not improve from 0.96318\n",
      "Epoch 48/50\n",
      "1024/1024 [==============================] - 13s 13ms/step - loss: 1.6730 - accuracy: 0.8662 - val_loss: 0.1577 - val_accuracy: 0.9603\n",
      "\n",
      "Epoch 00048: val_accuracy did not improve from 0.96318\n",
      "Epoch 49/50\n",
      "1024/1024 [==============================] - 13s 13ms/step - loss: 1.6907 - accuracy: 0.8661 - val_loss: 0.1434 - val_accuracy: 0.9629\n",
      "\n",
      "Epoch 00049: val_accuracy did not improve from 0.96318\n",
      "Epoch 50/50\n",
      "1024/1024 [==============================] - 13s 13ms/step - loss: 1.7023 - accuracy: 0.8655 - val_loss: 0.1413 - val_accuracy: 0.9627\n",
      "\n",
      "Epoch 00050: val_accuracy did not improve from 0.96318\n"
     ]
    }
   ],
   "source": [
    "fit = model.fit(\n",
    "    \n",
    "        generator,\n",
    "    \n",
    "        steps_per_epoch = batch_size,\n",
    "    \n",
    "        epochs = epochs,\n",
    "\n",
    "        validation_data = (Xtest, Ytest),\n",
    "\n",
    "        class_weight = dict(enumerate(class_weight.flatten(), 0)),\n",
    "    \n",
    "        callbacks=[LRS(scheduler), checkpoint_val_acc],\n",
    "\n",
    "        verbose=1\n",
    ")"
   ]
  },
  {
   "cell_type": "markdown",
   "id": "13a45024",
   "metadata": {},
   "source": [
    "## Metrics"
   ]
  },
  {
   "cell_type": "code",
   "execution_count": 18,
   "id": "31d41f61",
   "metadata": {},
   "outputs": [
    {
     "name": "stdout",
     "output_type": "stream",
     "text": [
      "Test loss:  0.14128950238227844\n",
      "Test accuracy:  0.9627078175544739\n",
      "Test error: 3.729%\n"
     ]
    }
   ],
   "source": [
    "score = model.evaluate(Xtest, Ytest, verbose=0)\n",
    "\n",
    "print(\"Test loss: \", score[0])\n",
    "print(\"Test accuracy: \", score[1])\n",
    "print(f\"Test error: {((1-score[1]) * 100):.3f}%\")"
   ]
  },
  {
   "cell_type": "code",
   "execution_count": 19,
   "id": "c1b0d093",
   "metadata": {},
   "outputs": [
    {
     "data": {
      "image/png": "[encoded data removed]",
      "text/plain": [
       "<Figure size 432x288 with 1 Axes>"
      ]
     },
     "metadata": {
      "needs_background": "light"
     },
     "output_type": "display_data"
    }
   ],
   "source": [
    "plt.plot(fit.history['accuracy'])\n",
    "plt.plot(fit.history['val_accuracy'])\n",
    "plt.title('model accuracy')\n",
    "plt.ylabel('accuracy')\n",
    "plt.xlabel('epoch')\n",
    "plt.legend(['train', 'test'], loc='upper left')\n",
    "plt.show()"
   ]
  },
  {
   "cell_type": "markdown",
   "id": "5d544371",
   "metadata": {},
   "source": [
    "## Save model"
   ]
  },
  {
   "cell_type": "code",
   "execution_count": 20,
   "id": "832753ad",
   "metadata": {},
   "outputs": [],
   "source": [
    "model_name = \"TSR_Model_96perEpoch35_MACM1\""
   ]
  },
  {
   "cell_type": "code",
   "execution_count": 21,
   "id": "575a9369",
   "metadata": {},
   "outputs": [
    {
     "name": "stderr",
     "output_type": "stream",
     "text": [
      "2022-01-21 18:09:58.941201: W tensorflow/python/util/util.cc:348] Sets are not currently considered sequences, but this may change in the future, so consider avoiding using them.\n"
     ]
    },
    {
     "name": "stdout",
     "output_type": "stream",
     "text": [
      "INFO:tensorflow:Assets written to: ./MODELS/TSR_Model_96perEpoch35_MACM1/assets\n"
     ]
    }
   ],
   "source": [
    "model.save(f'./MODELS/{model_name}')"
   ]
  },
  {
   "cell_type": "code",
   "execution_count": 22,
   "id": "ea44eeb8",
   "metadata": {},
   "outputs": [],
   "source": [
    "model = models.load_model(f'./MODELS/{model_name}')\n",
    "model.compile(\n",
    "    optimizer = optimizer, \n",
    "    loss = \"categorical_crossentropy\", \n",
    "    metrics = [\"accuracy\"]\n",
    ")"
   ]
  },
  {
   "cell_type": "markdown",
   "id": "5f450087",
   "metadata": {},
   "source": [
    "## Prediction"
   ]
  },
  {
   "cell_type": "code",
   "execution_count": 23,
   "id": "22f023e0",
   "metadata": {},
   "outputs": [
    {
     "name": "stdout",
     "output_type": "stream",
     "text": [
      "{2: 0, 31: 1, 5: 2, 11: 3, 4: 4, 13: 5, 18: 7, 10: 8, 25: 11, 24: 13, 8: 16, 16: 17, 9: 18, 35: 20, 38: 21, 12: 22, 19: 25, 37: 28, 1: 29, 7: 31, 34: 35, 14: 38, 39: 39, 33: 41, 3: 42, 6: 43, 36: 46, 17: 58, 15: 69, 29: 74, 22: 103, 28: 112, 27: 123, 20: 131, 23: 155, 0: 169, 41: 191, 30: 195, 26: 215, 32: 286, 21: 335, 42: 399, 40: 544}\n"
     ]
    }
   ],
   "source": [
    "signDict = {}\n",
    "\n",
    "for i in range(len(Ytrain)):\n",
    "    \n",
    "    classs = np.argmax(Ytrain[i])\n",
    "    \n",
    "    if classs not in signDict.keys():\n",
    "        signDict[classs] = i\n",
    "\n",
    "print(signDict)"
   ]
  },
  {
   "cell_type": "code",
   "execution_count": 24,
   "id": "36c9ec7d",
   "metadata": {},
   "outputs": [],
   "source": [
    "imagePredictionSRC = os.path.join(data_path, \"Test/00064.png\")"
   ]
  },
  {
   "cell_type": "markdown",
   "id": "4c50c736",
   "metadata": {},
   "source": [
    "### Load image "
   ]
  },
  {
   "cell_type": "code",
   "execution_count": 25,
   "id": "42df8ae3",
   "metadata": {},
   "outputs": [],
   "source": [
    "image = cv2.imread(imagePredictionSRC)\n",
    "image = cv2.cvtColor(image, cv2.COLOR_BGR2RGB)"
   ]
  },
  {
   "cell_type": "code",
   "execution_count": 26,
   "id": "27c62287",
   "metadata": {},
   "outputs": [],
   "source": [
    "image_rs = cv2.resize(image, (img_size, img_size), 3)        \n",
    "\n",
    "R, G, B = cv2.split(image_rs)     \n",
    "\n",
    "img_r = cv2.equalizeHist(R)\n",
    "img_g = cv2.equalizeHist(G)\n",
    "img_b = cv2.equalizeHist(B)        \n",
    "\n",
    "image = cv2.merge((img_r, img_g, img_b))"
   ]
  },
  {
   "cell_type": "code",
   "execution_count": 27,
   "id": "037d718f",
   "metadata": {},
   "outputs": [
    {
     "data": {
      "text/plain": [
       "<matplotlib.image.AxesImage at 0x16bd85c40>"
      ]
     },
     "execution_count": 27,
     "metadata": {},
     "output_type": "execute_result"
    },
    {
     "data": {
      "image/png": "[encoded data removed]",
      "text/plain": [
       "<Figure size 432x288 with 1 Axes>"
      ]
     },
     "metadata": {
      "needs_background": "light"
     },
     "output_type": "display_data"
    }
   ],
   "source": [
    "plt.imshow(image)"
   ]
  },
  {
   "cell_type": "markdown",
   "id": "2c9ecf36",
   "metadata": {},
   "source": [
    "### Predict image"
   ]
  },
  {
   "cell_type": "code",
   "execution_count": 28,
   "id": "25d79e20",
   "metadata": {},
   "outputs": [],
   "source": [
    "input_arr = tf.keras.preprocessing.image.img_to_array(image)\n",
    "input_arr = np.array([input_arr])  # Convert single image to a batch.\n",
    "input_arr = input_arr.astype('float32') / 255. "
   ]
  },
  {
   "cell_type": "code",
   "execution_count": 29,
   "id": "63313eef",
   "metadata": {},
   "outputs": [
    {
     "name": "stderr",
     "output_type": "stream",
     "text": [
      "2022-01-21 18:09:59.884346: I tensorflow/core/grappler/optimizers/custom_graph_optimizer_registry.cc:112] Plugin optimizer for device_type GPU is enabled.\n"
     ]
    }
   ],
   "source": [
    "predictions = model.predict(input_arr)\n",
    "predicted_class = np.argmax(predictions, axis=-1)[0]"
   ]
  },
  {
   "cell_type": "code",
   "execution_count": 30,
   "id": "8148e9aa",
   "metadata": {},
   "outputs": [
    {
     "data": {
      "text/plain": [
       "<matplotlib.image.AxesImage at 0x16c0f3460>"
      ]
     },
     "execution_count": 30,
     "metadata": {},
     "output_type": "execute_result"
    },
    {
     "data": {
      "image/png": "[encoded data removed]",
      "text/plain": [
       "<Figure size 432x288 with 1 Axes>"
      ]
     },
     "metadata": {
      "needs_background": "light"
     },
     "output_type": "display_data"
    }
   ],
   "source": [
    "plt.imshow(Xtrain[signDict[predicted_class]])"
   ]
  }
 ],
 "metadata": {
  "kernelspec": {
   "display_name": "Python 3 (ipykernel)",
   "language": "python",
   "name": "python3"
  },
  "language_info": {
   "codemirror_mode": {
    "name": "ipython",
    "version": 3
   },
   "file_extension": ".py",
   "mimetype": "text/x-python",
   "name": "python",
   "nbconvert_exporter": "python",
   "pygments_lexer": "ipython3",
   "version": "3.9.7"
  }
 },
 "nbformat": 4,
 "nbformat_minor": 5
}
