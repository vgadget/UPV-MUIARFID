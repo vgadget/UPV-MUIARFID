{
 "cells": [
  {
   "cell_type": "markdown",
   "metadata": {
    "id": "pAO-QyfXy-HB"
   },
   "source": [
    "**BASIC MNIST EXAMPLE WITH MLP**"
   ]
  },
  {
   "cell_type": "markdown",
   "metadata": {
    "id": "KQbLK9xczBIT"
   },
   "source": [
    "Imports..."
   ]
  },
  {
   "cell_type": "code",
   "execution_count": 14,
   "metadata": {
    "id": "WLBeaZ9Cq1x8"
   },
   "outputs": [],
   "source": [
    "from __future__ import print_function\n",
    "\n",
    "import tensorflow as tf\n",
    "from tensorflow import keras\n",
    "from tensorflow.keras.datasets import mnist\n",
    "from tensorflow.keras.layers import BatchNormalization as BN\n",
    "from keras.layers import GaussianNoise as GN\n",
    "from tensorflow.keras.models import Sequential\n",
    "from tensorflow.keras.layers import Dense, Activation, Conv2D, MaxPooling2D, Flatten, Dropout, Input, Reshape\n",
    "from tensorflow.keras.optimizers import SGD\n",
    "from tensorflow.keras import utils\n",
    "from tensorflow.keras.preprocessing.image import ImageDataGenerator\n",
    "from keras.callbacks import LearningRateScheduler as LRS\n"
   ]
  },
  {
   "cell_type": "markdown",
   "metadata": {
    "id": "eMUUIY7GzS4h"
   },
   "source": [
    "Define batch size, number of epochs and number of classes"
   ]
  },
  {
   "cell_type": "code",
   "execution_count": 2,
   "metadata": {
    "id": "PI_I4NCurALp"
   },
   "outputs": [],
   "source": [
    "batch_size = 100\n",
    "epochs = 75\n",
    "num_classes=10"
   ]
  },
  {
   "cell_type": "markdown",
   "metadata": {
    "id": "JXUIdKbOzENY"
   },
   "source": [
    "Load MNIST and transform\n",
    "\n"
   ]
  },
  {
   "cell_type": "code",
   "execution_count": 3,
   "metadata": {
    "colab": {
     "base_uri": "https://localhost:8080/"
    },
    "id": "rGUGaKS_rCnv",
    "outputId": "c9ee6b7d-226a-4adf-cd60-b58183ca90f6"
   },
   "outputs": [
    {
     "name": "stdout",
     "output_type": "stream",
     "text": [
      "training set (60000, 28, 28)\n",
      "test set (10000, 28, 28)\n"
     ]
    }
   ],
   "source": [
    "(x_train, y_train), (x_test, y_test) = mnist.load_data()\n",
    "\n",
    "print('training set', x_train.shape)\n",
    "print('test set', x_test.shape)\n",
    "\n",
    "x_train = x_train.reshape(60000, 784)\n",
    "x_test = x_test.reshape(10000, 784)\n",
    "x_train = x_train.astype('float32')\n",
    "x_test = x_test.astype('float32')\n",
    "\n",
    "# Normalize [0..255]-->[0..1]\n",
    "x_train /= 255\n",
    "x_test /= 255\n",
    "\n",
    "# convert class vectors to binary class matrices\n",
    "y_train = keras.utils.to_categorical(y_train, num_classes)\n",
    "y_test = keras.utils.to_categorical(y_test, num_classes)"
   ]
  },
  {
   "cell_type": "markdown",
   "metadata": {
    "id": "3FaOkTo5zMEC"
   },
   "source": [
    "Define the NN topology, a sequential model with 2 hidden layers"
   ]
  },
  {
   "cell_type": "code",
   "execution_count": 4,
   "metadata": {
    "colab": {
     "base_uri": "https://localhost:8080/"
    },
    "id": "PUtzEN3DrEeD",
    "outputId": "1ccf8f40-ea4d-419e-94f7-f9f8ab844196"
   },
   "outputs": [
    {
     "name": "stdout",
     "output_type": "stream",
     "text": [
      "Metal device set to: Apple M1\n",
      "Model: \"sequential\"\n",
      "_________________________________________________________________\n",
      "Layer (type)                 Output Shape              Param #   \n",
      "=================================================================\n",
      "reshape (Reshape)            (None, 784)               0         \n",
      "_________________________________________________________________\n",
      "module_wrapper (ModuleWrappe (None, 784)               0         \n",
      "_________________________________________________________________\n",
      "dense (Dense)                (None, 1024)              803840    \n",
      "_________________________________________________________________\n",
      "batch_normalization (BatchNo (None, 1024)              4096      \n",
      "_________________________________________________________________\n",
      "module_wrapper_1 (ModuleWrap (None, 1024)              0         \n",
      "_________________________________________________________________\n",
      "activation (Activation)      (None, 1024)              0         \n",
      "_________________________________________________________________\n",
      "dense_1 (Dense)              (None, 1024)              1049600   \n",
      "_________________________________________________________________\n",
      "batch_normalization_1 (Batch (None, 1024)              4096      \n",
      "_________________________________________________________________\n",
      "module_wrapper_2 (ModuleWrap (None, 1024)              0         \n",
      "_________________________________________________________________\n",
      "activation_1 (Activation)    (None, 1024)              0         \n",
      "_________________________________________________________________\n",
      "dense_2 (Dense)              (None, 1024)              1049600   \n",
      "_________________________________________________________________\n",
      "batch_normalization_2 (Batch (None, 1024)              4096      \n",
      "_________________________________________________________________\n",
      "module_wrapper_3 (ModuleWrap (None, 1024)              0         \n",
      "_________________________________________________________________\n",
      "activation_2 (Activation)    (None, 1024)              0         \n",
      "_________________________________________________________________\n",
      "dense_3 (Dense)              (None, 10)                10250     \n",
      "=================================================================\n",
      "Total params: 2,925,578\n",
      "Trainable params: 2,919,434\n",
      "Non-trainable params: 6,144\n",
      "_________________________________________________________________\n"
     ]
    },
    {
     "name": "stderr",
     "output_type": "stream",
     "text": [
      "2021-12-20 16:46:30.815047: I tensorflow/core/common_runtime/pluggable_device/pluggable_device_factory.cc:305] Could not identify NUMA node of platform GPU ID 0, defaulting to 0. Your kernel may not have been built with NUMA support.\n",
      "2021-12-20 16:46:30.815161: I tensorflow/core/common_runtime/pluggable_device/pluggable_device_factory.cc:271] Created TensorFlow device (/job:localhost/replica:0/task:0/device:GPU:0 with 0 MB memory) -> physical PluggableDevice (device: 0, name: METAL, pci bus id: <undefined>)\n"
     ]
    }
   ],
   "source": [
    "model = Sequential()\n",
    "model.add(Reshape(target_shape=(784,), input_shape=(784,)))\n",
    "model.add(GN(0.3))\n",
    "\n",
    "model.add(Dense(1024))\n",
    "model.add(BN())\n",
    "model.add(GN(0.3))\n",
    "model.add(Activation('relu'))\n",
    "\n",
    "model.add(Dense(1024))\n",
    "model.add(BN())\n",
    "model.add(GN(0.3))\n",
    "model.add(Activation('relu'))\n",
    "\n",
    "model.add(Dense(1024))\n",
    "model.add(BN())\n",
    "model.add(GN(0.3))\n",
    "model.add(Activation('relu'))\n",
    "\n",
    "model.add(Dense(num_classes, activation='softmax'))\n",
    "\n",
    "model.summary()\n"
   ]
  },
  {
   "cell_type": "markdown",
   "metadata": {
    "id": "hz2e5a71zfM0"
   },
   "source": [
    "Define an optimizer "
   ]
  },
  {
   "cell_type": "code",
   "execution_count": 5,
   "metadata": {
    "id": "dDaIrcWJrGHt"
   },
   "outputs": [],
   "source": [
    "sgd=SGD(learning_rate=0.01, decay=1e-6, momentum=0.9)"
   ]
  },
  {
   "cell_type": "markdown",
   "metadata": {
    "id": "HhLdpldmziZ8"
   },
   "source": [
    "Compile the model, define loss and link the optimizer"
   ]
  },
  {
   "cell_type": "code",
   "execution_count": 6,
   "metadata": {
    "id": "_9dSQJ2orHvW"
   },
   "outputs": [],
   "source": [
    "model.compile(loss='categorical_crossentropy',\n",
    "              optimizer=sgd,\n",
    "              metrics=['accuracy'])"
   ]
  },
  {
   "cell_type": "markdown",
   "metadata": {
    "id": "tCjool2Azkyn"
   },
   "source": [
    "Finally, train the model and evaluate over the test data"
   ]
  },
  {
   "cell_type": "code",
   "execution_count": 15,
   "metadata": {
    "colab": {
     "base_uri": "https://localhost:8080/"
    },
    "id": "WooG0upBrLwq",
    "outputId": "5de9d62e-2d4c-4073-f661-6c0e9173b784",
    "scrolled": true
   },
   "outputs": [
    {
     "name": "stdout",
     "output_type": "stream",
     "text": [
      "Epoch 1/75\n",
      "600/600 [==============================] - 8s 13ms/step - loss: 0.2712 - accuracy: 0.9307 - val_loss: 0.1104 - val_accuracy: 0.9710\n",
      "Epoch 2/75\n",
      "600/600 [==============================] - 8s 13ms/step - loss: 0.1446 - accuracy: 0.9581 - val_loss: 0.0728 - val_accuracy: 0.9792\n",
      "Epoch 3/75\n",
      "600/600 [==============================] - 8s 13ms/step - loss: 0.1138 - accuracy: 0.9654 - val_loss: 0.0614 - val_accuracy: 0.9811\n",
      "Epoch 4/75\n",
      "600/600 [==============================] - 8s 13ms/step - loss: 0.0999 - accuracy: 0.9696 - val_loss: 0.0644 - val_accuracy: 0.9819\n",
      "Epoch 5/75\n",
      "600/600 [==============================] - 8s 13ms/step - loss: 0.0902 - accuracy: 0.9722 - val_loss: 0.0566 - val_accuracy: 0.9835\n",
      "Epoch 6/75\n",
      "600/600 [==============================] - 8s 13ms/step - loss: 0.0787 - accuracy: 0.9745 - val_loss: 0.0589 - val_accuracy: 0.9834\n",
      "Epoch 7/75\n",
      "600/600 [==============================] - 8s 13ms/step - loss: 0.0721 - accuracy: 0.9771 - val_loss: 0.0519 - val_accuracy: 0.9836\n",
      "Epoch 8/75\n",
      "600/600 [==============================] - 8s 13ms/step - loss: 0.0628 - accuracy: 0.9797 - val_loss: 0.0489 - val_accuracy: 0.9870\n",
      "Epoch 9/75\n",
      "600/600 [==============================] - 8s 13ms/step - loss: 0.0605 - accuracy: 0.9806 - val_loss: 0.0548 - val_accuracy: 0.9854\n",
      "Epoch 10/75\n",
      "600/600 [==============================] - 8s 13ms/step - loss: 0.0565 - accuracy: 0.9815 - val_loss: 0.0562 - val_accuracy: 0.9843\n",
      "Epoch 11/75\n",
      "600/600 [==============================] - 8s 13ms/step - loss: 0.0560 - accuracy: 0.9820 - val_loss: 0.0469 - val_accuracy: 0.9859\n",
      "Epoch 12/75\n",
      "600/600 [==============================] - 8s 13ms/step - loss: 0.0507 - accuracy: 0.9835 - val_loss: 0.0513 - val_accuracy: 0.9862\n",
      "Epoch 13/75\n",
      "600/600 [==============================] - 8s 13ms/step - loss: 0.0506 - accuracy: 0.9835 - val_loss: 0.0442 - val_accuracy: 0.9884\n",
      "Epoch 14/75\n",
      "600/600 [==============================] - 8s 13ms/step - loss: 0.0462 - accuracy: 0.9846 - val_loss: 0.0491 - val_accuracy: 0.9868\n",
      "Epoch 15/75\n",
      "600/600 [==============================] - 8s 13ms/step - loss: 0.0424 - accuracy: 0.9860 - val_loss: 0.0414 - val_accuracy: 0.9890\n",
      "Epoch 16/75\n",
      "600/600 [==============================] - 8s 13ms/step - loss: 0.0429 - accuracy: 0.9861 - val_loss: 0.0478 - val_accuracy: 0.9876\n",
      "Epoch 17/75\n",
      "600/600 [==============================] - 8s 13ms/step - loss: 0.0413 - accuracy: 0.9863 - val_loss: 0.0538 - val_accuracy: 0.9860\n",
      "Epoch 18/75\n",
      "600/600 [==============================] - 8s 13ms/step - loss: 0.0396 - accuracy: 0.9872 - val_loss: 0.0453 - val_accuracy: 0.9879\n",
      "Epoch 19/75\n",
      "600/600 [==============================] - 8s 13ms/step - loss: 0.0402 - accuracy: 0.9869 - val_loss: 0.0476 - val_accuracy: 0.9877\n",
      "Epoch 20/75\n",
      "600/600 [==============================] - 8s 13ms/step - loss: 0.0395 - accuracy: 0.9875 - val_loss: 0.0478 - val_accuracy: 0.9872\n",
      "Epoch 21/75\n",
      "600/600 [==============================] - 8s 13ms/step - loss: 0.0368 - accuracy: 0.9879 - val_loss: 0.0455 - val_accuracy: 0.9879\n",
      "Epoch 22/75\n",
      "600/600 [==============================] - 8s 13ms/step - loss: 0.0354 - accuracy: 0.9877 - val_loss: 0.0461 - val_accuracy: 0.9877\n",
      "Epoch 23/75\n",
      "600/600 [==============================] - 8s 13ms/step - loss: 0.0331 - accuracy: 0.9888 - val_loss: 0.0458 - val_accuracy: 0.9872\n",
      "Epoch 24/75\n",
      "600/600 [==============================] - 8s 13ms/step - loss: 0.0352 - accuracy: 0.9884 - val_loss: 0.0459 - val_accuracy: 0.9887\n",
      "Epoch 25/75\n",
      "600/600 [==============================] - 8s 13ms/step - loss: 0.0334 - accuracy: 0.9886 - val_loss: 0.0461 - val_accuracy: 0.9886\n",
      "Epoch 26/75\n",
      "600/600 [==============================] - 8s 13ms/step - loss: 0.0252 - accuracy: 0.9915 - val_loss: 0.0403 - val_accuracy: 0.9900\n",
      "Epoch 27/75\n",
      "600/600 [==============================] - 8s 13ms/step - loss: 0.0224 - accuracy: 0.9926 - val_loss: 0.0398 - val_accuracy: 0.9901\n",
      "Epoch 28/75\n",
      "600/600 [==============================] - 8s 13ms/step - loss: 0.0215 - accuracy: 0.9928 - val_loss: 0.0399 - val_accuracy: 0.9907\n",
      "Epoch 29/75\n",
      "600/600 [==============================] - 8s 13ms/step - loss: 0.0194 - accuracy: 0.9937 - val_loss: 0.0386 - val_accuracy: 0.9908\n",
      "Epoch 30/75\n",
      "600/600 [==============================] - 8s 13ms/step - loss: 0.0191 - accuracy: 0.9937 - val_loss: 0.0380 - val_accuracy: 0.9908\n",
      "Epoch 31/75\n",
      "600/600 [==============================] - 8s 14ms/step - loss: 0.0203 - accuracy: 0.9929 - val_loss: 0.0380 - val_accuracy: 0.9906\n",
      "Epoch 32/75\n",
      "600/600 [==============================] - 8s 13ms/step - loss: 0.0184 - accuracy: 0.9939 - val_loss: 0.0369 - val_accuracy: 0.9906\n",
      "Epoch 33/75\n",
      "600/600 [==============================] - 8s 14ms/step - loss: 0.0182 - accuracy: 0.9938 - val_loss: 0.0372 - val_accuracy: 0.9904\n",
      "Epoch 34/75\n",
      "600/600 [==============================] - 8s 14ms/step - loss: 0.0180 - accuracy: 0.9941 - val_loss: 0.0376 - val_accuracy: 0.9909\n",
      "Epoch 35/75\n",
      "600/600 [==============================] - 8s 13ms/step - loss: 0.0189 - accuracy: 0.9936 - val_loss: 0.0378 - val_accuracy: 0.9910\n",
      "Epoch 36/75\n",
      "600/600 [==============================] - 8s 13ms/step - loss: 0.0173 - accuracy: 0.9941 - val_loss: 0.0383 - val_accuracy: 0.9903\n",
      "Epoch 37/75\n",
      "600/600 [==============================] - 8s 13ms/step - loss: 0.0170 - accuracy: 0.9940 - val_loss: 0.0377 - val_accuracy: 0.9904\n",
      "Epoch 38/75\n",
      "600/600 [==============================] - 8s 13ms/step - loss: 0.0179 - accuracy: 0.9937 - val_loss: 0.0375 - val_accuracy: 0.9907\n",
      "Epoch 39/75\n",
      "600/600 [==============================] - 8s 13ms/step - loss: 0.0170 - accuracy: 0.9941 - val_loss: 0.0376 - val_accuracy: 0.9901\n",
      "Epoch 40/75\n",
      "600/600 [==============================] - 8s 13ms/step - loss: 0.0169 - accuracy: 0.9943 - val_loss: 0.0383 - val_accuracy: 0.9900\n",
      "Epoch 41/75\n",
      "600/600 [==============================] - 8s 14ms/step - loss: 0.0174 - accuracy: 0.9940 - val_loss: 0.0390 - val_accuracy: 0.9904\n",
      "Epoch 42/75\n",
      "600/600 [==============================] - 8s 13ms/step - loss: 0.0174 - accuracy: 0.9939 - val_loss: 0.0389 - val_accuracy: 0.9905\n",
      "Epoch 43/75\n",
      "600/600 [==============================] - 8s 13ms/step - loss: 0.0168 - accuracy: 0.9941 - val_loss: 0.0386 - val_accuracy: 0.9904\n",
      "Epoch 44/75\n",
      "600/600 [==============================] - 8s 13ms/step - loss: 0.0170 - accuracy: 0.9940 - val_loss: 0.0375 - val_accuracy: 0.9904\n",
      "Epoch 45/75\n",
      "600/600 [==============================] - 8s 13ms/step - loss: 0.0157 - accuracy: 0.9946 - val_loss: 0.0383 - val_accuracy: 0.9900\n",
      "Epoch 46/75\n",
      "600/600 [==============================] - 8s 13ms/step - loss: 0.0179 - accuracy: 0.9939 - val_loss: 0.0386 - val_accuracy: 0.9905\n",
      "Epoch 47/75\n",
      "600/600 [==============================] - 8s 13ms/step - loss: 0.0162 - accuracy: 0.9945 - val_loss: 0.0377 - val_accuracy: 0.9904\n",
      "Epoch 48/75\n",
      "600/600 [==============================] - 8s 13ms/step - loss: 0.0160 - accuracy: 0.9945 - val_loss: 0.0376 - val_accuracy: 0.9905\n",
      "Epoch 49/75\n",
      "600/600 [==============================] - 8s 13ms/step - loss: 0.0161 - accuracy: 0.9943 - val_loss: 0.0378 - val_accuracy: 0.9903\n",
      "Epoch 50/75\n",
      "600/600 [==============================] - 8s 13ms/step - loss: 0.0144 - accuracy: 0.9948 - val_loss: 0.0369 - val_accuracy: 0.9903\n",
      "Epoch 51/75\n",
      "600/600 [==============================] - 8s 13ms/step - loss: 0.0143 - accuracy: 0.9951 - val_loss: 0.0367 - val_accuracy: 0.9905\n",
      "Epoch 52/75\n",
      "600/600 [==============================] - 8s 13ms/step - loss: 0.0152 - accuracy: 0.9945 - val_loss: 0.0368 - val_accuracy: 0.9903\n",
      "Epoch 53/75\n",
      "600/600 [==============================] - 8s 13ms/step - loss: 0.0150 - accuracy: 0.9946 - val_loss: 0.0367 - val_accuracy: 0.9903\n",
      "Epoch 54/75\n",
      "600/600 [==============================] - 8s 14ms/step - loss: 0.0156 - accuracy: 0.9947 - val_loss: 0.0367 - val_accuracy: 0.9904\n",
      "Epoch 55/75\n",
      "600/600 [==============================] - 8s 13ms/step - loss: 0.0148 - accuracy: 0.9950 - val_loss: 0.0368 - val_accuracy: 0.9902\n",
      "Epoch 56/75\n",
      "600/600 [==============================] - 8s 14ms/step - loss: 0.0153 - accuracy: 0.9948 - val_loss: 0.0367 - val_accuracy: 0.9903\n",
      "Epoch 57/75\n",
      "600/600 [==============================] - 8s 13ms/step - loss: 0.0151 - accuracy: 0.9948 - val_loss: 0.0371 - val_accuracy: 0.9903\n"
     ]
    },
    {
     "name": "stdout",
     "output_type": "stream",
     "text": [
      "Epoch 58/75\n",
      "600/600 [==============================] - 8s 13ms/step - loss: 0.0149 - accuracy: 0.9952 - val_loss: 0.0369 - val_accuracy: 0.9903\n",
      "Epoch 59/75\n",
      "600/600 [==============================] - 8s 13ms/step - loss: 0.0146 - accuracy: 0.9950 - val_loss: 0.0369 - val_accuracy: 0.9900\n",
      "Epoch 60/75\n",
      "600/600 [==============================] - 8s 13ms/step - loss: 0.0155 - accuracy: 0.9948 - val_loss: 0.0369 - val_accuracy: 0.9906\n",
      "Epoch 61/75\n",
      "600/600 [==============================] - 8s 13ms/step - loss: 0.0154 - accuracy: 0.9951 - val_loss: 0.0371 - val_accuracy: 0.9902\n",
      "Epoch 62/75\n",
      "600/600 [==============================] - 8s 13ms/step - loss: 0.0152 - accuracy: 0.9945 - val_loss: 0.0370 - val_accuracy: 0.9902\n",
      "Epoch 63/75\n",
      "600/600 [==============================] - 8s 13ms/step - loss: 0.0160 - accuracy: 0.9944 - val_loss: 0.0370 - val_accuracy: 0.9902\n",
      "Epoch 64/75\n",
      "600/600 [==============================] - 8s 13ms/step - loss: 0.0138 - accuracy: 0.9952 - val_loss: 0.0375 - val_accuracy: 0.9904\n",
      "Epoch 65/75\n",
      "600/600 [==============================] - 8s 13ms/step - loss: 0.0159 - accuracy: 0.9946 - val_loss: 0.0377 - val_accuracy: 0.9904\n",
      "Epoch 66/75\n",
      "600/600 [==============================] - 8s 13ms/step - loss: 0.0156 - accuracy: 0.9943 - val_loss: 0.0372 - val_accuracy: 0.9902\n",
      "Epoch 67/75\n",
      "600/600 [==============================] - 8s 13ms/step - loss: 0.0147 - accuracy: 0.9949 - val_loss: 0.0374 - val_accuracy: 0.9903\n",
      "Epoch 68/75\n",
      "600/600 [==============================] - 8s 13ms/step - loss: 0.0147 - accuracy: 0.9949 - val_loss: 0.0371 - val_accuracy: 0.9903\n",
      "Epoch 69/75\n",
      "600/600 [==============================] - 8s 13ms/step - loss: 0.0151 - accuracy: 0.9948 - val_loss: 0.0370 - val_accuracy: 0.9904\n",
      "Epoch 70/75\n",
      "600/600 [==============================] - 8s 13ms/step - loss: 0.0146 - accuracy: 0.9951 - val_loss: 0.0371 - val_accuracy: 0.9904\n",
      "Epoch 71/75\n",
      "600/600 [==============================] - 8s 13ms/step - loss: 0.0141 - accuracy: 0.9951 - val_loss: 0.0374 - val_accuracy: 0.9902\n",
      "Epoch 72/75\n",
      "600/600 [==============================] - 8s 13ms/step - loss: 0.0153 - accuracy: 0.9949 - val_loss: 0.0375 - val_accuracy: 0.9902\n",
      "Epoch 73/75\n",
      "600/600 [==============================] - 8s 13ms/step - loss: 0.0140 - accuracy: 0.9950 - val_loss: 0.0374 - val_accuracy: 0.9902\n",
      "Epoch 74/75\n",
      "600/600 [==============================] - 8s 13ms/step - loss: 0.0144 - accuracy: 0.9950 - val_loss: 0.0375 - val_accuracy: 0.9901\n",
      "Epoch 75/75\n",
      "600/600 [==============================] - 8s 13ms/step - loss: 0.0144 - accuracy: 0.9950 - val_loss: 0.0373 - val_accuracy: 0.9904\n"
     ]
    },
    {
     "name": "stderr",
     "output_type": "stream",
     "text": [
      "2021-12-20 17:06:29.163887: I tensorflow/core/grappler/optimizers/custom_graph_optimizer_registry.cc:112] Plugin optimizer for device_type GPU is enabled.\n"
     ]
    },
    {
     "name": "stdout",
     "output_type": "stream",
     "text": [
      "Test loss: 0.037313785403966904\n",
      "Test accuracy: 0.9904000759124756\n",
      "Test error: 0.960%\n"
     ]
    }
   ],
   "source": [
    "def scheduler(epoch):\n",
    "    if epoch < 25:\n",
    "        return .1\n",
    "    elif epoch < 50:\n",
    "        return 0.01\n",
    "    else:\n",
    "        return 0.001\n",
    "\n",
    "history = model.fit(\n",
    "    x_train, \n",
    "    y_train,                \n",
    "    batch_size=batch_size,\n",
    "    epochs=epochs,\n",
    "    verbose=1,\n",
    "    validation_data=(x_test, y_test),\n",
    "    callbacks=[LRS(scheduler)]\n",
    ")\n",
    "\n",
    "# Evaluate over test\n",
    "score = model.evaluate(x_test, y_test, verbose=0)\n",
    "\n",
    "print('Test loss:', score[0])\n",
    "print('Test accuracy:', score[1])\n",
    "print(f\"Test error: {((1-score[1]) * 100):.3f}%\")"
   ]
  },
  {
   "cell_type": "code",
   "execution_count": null,
   "metadata": {
    "id": "88AMu759rNPC"
   },
   "outputs": [],
   "source": [
    "import matplotlib.pyplot as plt"
   ]
  },
  {
   "cell_type": "code",
   "execution_count": null,
   "metadata": {
    "colab": {
     "base_uri": "https://localhost:8080/",
     "height": 295
    },
    "id": "maIlUZrtrPJp",
    "outputId": "96109172-3beb-4a93-faca-57e2fa3e265d"
   },
   "outputs": [],
   "source": [
    "plt.plot(history.history['accuracy'])\n",
    "plt.plot(history.history['val_accuracy'])\n",
    "plt.title('model accuracy')\n",
    "plt.ylabel('accuracy')\n",
    "plt.xlabel('epoch')\n",
    "plt.legend(['train', 'test'], loc='upper left')\n",
    "plt.show()"
   ]
  }
 ],
 "metadata": {
  "accelerator": "GPU",
  "colab": {
   "collapsed_sections": [],
   "name": "RNA-P1.ipynb",
   "provenance": []
  },
  "kernelspec": {
   "display_name": "Python 3 (ipykernel)",
   "language": "python",
   "name": "python3"
  },
  "language_info": {
   "codemirror_mode": {
    "name": "ipython",
    "version": 3
   },
   "file_extension": ".py",
   "mimetype": "text/x-python",
   "name": "python",
   "nbconvert_exporter": "python",
   "pygments_lexer": "ipython3",
   "version": "3.9.7"
  }
 },
 "nbformat": 4,
 "nbformat_minor": 1
}
