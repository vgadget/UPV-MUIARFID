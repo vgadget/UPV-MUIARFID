{
 "cells": [
  {
   "cell_type": "markdown",
   "metadata": {
    "id": "pAO-QyfXy-HB"
   },
   "source": [
    "**BASIC MNIST EXAMPLE WITH MLP**"
   ]
  },
  {
   "cell_type": "markdown",
   "metadata": {
    "id": "KQbLK9xczBIT"
   },
   "source": [
    "Imports..."
   ]
  },
  {
   "cell_type": "code",
   "execution_count": 1,
   "metadata": {
    "id": "WLBeaZ9Cq1x8"
   },
   "outputs": [
    {
     "name": "stdout",
     "output_type": "stream",
     "text": [
      "Init Plugin\n",
      "Init Graph Optimizer\n",
      "Init Kernel\n"
     ]
    }
   ],
   "source": [
    "from __future__ import print_function\n",
    "\n",
    "import tensorflow as tf\n",
    "from tensorflow import keras\n",
    "from tensorflow.keras.datasets import mnist\n",
    "from tensorflow.keras.layers import BatchNormalization as BN\n",
    "from keras.layers import GaussianNoise as GN\n",
    "from tensorflow.keras.models import Sequential\n",
    "from tensorflow.keras.layers import Dense, Activation, Conv2D, MaxPooling2D, Flatten, Dropout, Input, Reshape\n",
    "from tensorflow.keras.optimizers import SGD\n",
    "from tensorflow.keras import utils\n",
    "from tensorflow.keras.preprocessing.image import ImageDataGenerator\n",
    "from keras.callbacks import LearningRateScheduler as LRS\n",
    "from keras.preprocessing.image import ImageDataGenerator\n"
   ]
  },
  {
   "cell_type": "markdown",
   "metadata": {
    "id": "eMUUIY7GzS4h"
   },
   "source": [
    "Define batch size, number of epochs and number of classes"
   ]
  },
  {
   "cell_type": "code",
   "execution_count": 2,
   "metadata": {
    "id": "PI_I4NCurALp"
   },
   "outputs": [],
   "source": [
    "batch_size = 100\n",
    "epochs = 75\n",
    "num_classes=10"
   ]
  },
  {
   "cell_type": "markdown",
   "metadata": {
    "id": "JXUIdKbOzENY"
   },
   "source": [
    "Load MNIST and transform\n",
    "\n"
   ]
  },
  {
   "cell_type": "code",
   "execution_count": 3,
   "metadata": {
    "colab": {
     "base_uri": "https://localhost:8080/"
    },
    "id": "rGUGaKS_rCnv",
    "outputId": "c9ee6b7d-226a-4adf-cd60-b58183ca90f6"
   },
   "outputs": [
    {
     "name": "stdout",
     "output_type": "stream",
     "text": [
      "training set (60000, 28, 28)\n",
      "test set (10000, 28, 28)\n"
     ]
    }
   ],
   "source": [
    "(x_train, y_train), (x_test, y_test) = mnist.load_data()\n",
    "\n",
    "print('training set', x_train.shape)\n",
    "print('test set', x_test.shape)\n",
    "\n",
    "x_train = x_train.reshape(60000, 28,28,1)\n",
    "x_test = x_test.reshape(10000, 28,28,1)\n",
    "x_train = x_train.astype('float32')\n",
    "x_test = x_test.astype('float32')\n",
    "\n",
    "# Normalize [0..255]-->[0..1]\n",
    "x_train /= 255\n",
    "x_test /= 255\n",
    "\n",
    "# convert class vectors to binary class matrices\n",
    "y_train = keras.utils.to_categorical(y_train, num_classes)\n",
    "y_test = keras.utils.to_categorical(y_test, num_classes)"
   ]
  },
  {
   "cell_type": "markdown",
   "metadata": {
    "id": "3FaOkTo5zMEC"
   },
   "source": [
    "Define the NN topology, a sequential model with 2 hidden layers"
   ]
  },
  {
   "cell_type": "code",
   "execution_count": 4,
   "metadata": {
    "colab": {
     "base_uri": "https://localhost:8080/"
    },
    "id": "PUtzEN3DrEeD",
    "outputId": "1ccf8f40-ea4d-419e-94f7-f9f8ab844196"
   },
   "outputs": [
    {
     "name": "stdout",
     "output_type": "stream",
     "text": [
      "Metal device set to: Apple M1\n",
      "Model: \"sequential\"\n",
      "_________________________________________________________________\n",
      "Layer (type)                 Output Shape              Param #   \n",
      "=================================================================\n",
      "reshape (Reshape)            (None, 784)               0         \n",
      "_________________________________________________________________\n",
      "module_wrapper (ModuleWrappe (None, 784)               0         \n",
      "_________________________________________________________________\n",
      "dense (Dense)                (None, 1024)              803840    \n",
      "_________________________________________________________________\n",
      "batch_normalization (BatchNo (None, 1024)              4096      \n",
      "_________________________________________________________________\n",
      "module_wrapper_1 (ModuleWrap (None, 1024)              0         \n",
      "_________________________________________________________________\n",
      "activation (Activation)      (None, 1024)              0         \n",
      "_________________________________________________________________\n",
      "dense_1 (Dense)              (None, 1024)              1049600   \n",
      "_________________________________________________________________\n",
      "batch_normalization_1 (Batch (None, 1024)              4096      \n",
      "_________________________________________________________________\n",
      "module_wrapper_2 (ModuleWrap (None, 1024)              0         \n",
      "_________________________________________________________________\n",
      "activation_1 (Activation)    (None, 1024)              0         \n",
      "_________________________________________________________________\n",
      "dense_2 (Dense)              (None, 1024)              1049600   \n",
      "_________________________________________________________________\n",
      "batch_normalization_2 (Batch (None, 1024)              4096      \n",
      "_________________________________________________________________\n",
      "module_wrapper_3 (ModuleWrap (None, 1024)              0         \n",
      "_________________________________________________________________\n",
      "activation_2 (Activation)    (None, 1024)              0         \n",
      "_________________________________________________________________\n",
      "dense_3 (Dense)              (None, 10)                10250     \n",
      "=================================================================\n",
      "Total params: 2,925,578\n",
      "Trainable params: 2,919,434\n",
      "Non-trainable params: 6,144\n",
      "_________________________________________________________________\n"
     ]
    },
    {
     "name": "stderr",
     "output_type": "stream",
     "text": [
      "2022-01-21 17:39:36.245297: I tensorflow/core/common_runtime/pluggable_device/pluggable_device_factory.cc:305] Could not identify NUMA node of platform GPU ID 0, defaulting to 0. Your kernel may not have been built with NUMA support.\n",
      "2022-01-21 17:39:36.245566: I tensorflow/core/common_runtime/pluggable_device/pluggable_device_factory.cc:271] Created TensorFlow device (/job:localhost/replica:0/task:0/device:GPU:0 with 0 MB memory) -> physical PluggableDevice (device: 0, name: METAL, pci bus id: <undefined>)\n"
     ]
    }
   ],
   "source": [
    "model = Sequential()\n",
    "model.add(Reshape(target_shape=(784,), input_shape=(28,28,1)))\n",
    "model.add(GN(0.3))\n",
    "\n",
    "model.add(Dense(1024))\n",
    "model.add(BN())\n",
    "model.add(GN(0.3))\n",
    "model.add(Activation('relu'))\n",
    "\n",
    "model.add(Dense(1024))\n",
    "model.add(BN())\n",
    "model.add(GN(0.3))\n",
    "model.add(Activation('relu'))\n",
    "\n",
    "model.add(Dense(1024))\n",
    "model.add(BN())\n",
    "model.add(GN(0.3))\n",
    "model.add(Activation('relu'))\n",
    "\n",
    "model.add(Dense(num_classes, activation='softmax'))\n",
    "\n",
    "model.summary()\n"
   ]
  },
  {
   "cell_type": "markdown",
   "metadata": {
    "id": "hz2e5a71zfM0"
   },
   "source": [
    "Define an optimizer "
   ]
  },
  {
   "cell_type": "code",
   "execution_count": 5,
   "metadata": {
    "id": "dDaIrcWJrGHt"
   },
   "outputs": [],
   "source": [
    "sgd=SGD(learning_rate=0.01, decay=1e-6, momentum=0.9)"
   ]
  },
  {
   "cell_type": "markdown",
   "metadata": {
    "id": "HhLdpldmziZ8"
   },
   "source": [
    "Compile the model, define loss and link the optimizer"
   ]
  },
  {
   "cell_type": "code",
   "execution_count": 6,
   "metadata": {
    "id": "_9dSQJ2orHvW"
   },
   "outputs": [],
   "source": [
    "model.compile(loss='categorical_crossentropy',\n",
    "              optimizer=sgd,\n",
    "              metrics=['accuracy'])"
   ]
  },
  {
   "cell_type": "markdown",
   "metadata": {
    "id": "tCjool2Azkyn"
   },
   "source": [
    "Finally, train the model and evaluate over the test data"
   ]
  },
  {
   "cell_type": "code",
   "execution_count": 7,
   "metadata": {
    "colab": {
     "base_uri": "https://localhost:8080/"
    },
    "id": "WooG0upBrLwq",
    "outputId": "5de9d62e-2d4c-4073-f661-6c0e9173b784",
    "scrolled": true
   },
   "outputs": [
    {
     "name": "stderr",
     "output_type": "stream",
     "text": [
      "2022-01-21 17:39:36.960631: I tensorflow/compiler/mlir/mlir_graph_optimization_pass.cc:176] None of the MLIR Optimization Passes are enabled (registered 2)\n",
      "2022-01-21 17:39:36.961884: W tensorflow/core/platform/profile_utils/cpu_utils.cc:128] Failed to get CPU frequency: 0 Hz\n"
     ]
    },
    {
     "name": "stdout",
     "output_type": "stream",
     "text": [
      "Epoch 1/75\n"
     ]
    },
    {
     "name": "stderr",
     "output_type": "stream",
     "text": [
      "2022-01-21 17:39:37.172068: I tensorflow/core/grappler/optimizers/custom_graph_optimizer_registry.cc:112] Plugin optimizer for device_type GPU is enabled.\n"
     ]
    },
    {
     "name": "stdout",
     "output_type": "stream",
     "text": [
      "598/600 [============================>.] - ETA: 0s - loss: 0.7268 - accuracy: 0.8028"
     ]
    },
    {
     "name": "stderr",
     "output_type": "stream",
     "text": [
      "2022-01-21 17:39:48.557334: I tensorflow/core/grappler/optimizers/custom_graph_optimizer_registry.cc:112] Plugin optimizer for device_type GPU is enabled.\n"
     ]
    },
    {
     "name": "stdout",
     "output_type": "stream",
     "text": [
      "600/600 [==============================] - 13s 21ms/step - loss: 0.7259 - accuracy: 0.8031 - val_loss: 0.1765 - val_accuracy: 0.9476\n",
      "Epoch 2/75\n",
      "600/600 [==============================] - 13s 21ms/step - loss: 0.3375 - accuracy: 0.8966 - val_loss: 0.1039 - val_accuracy: 0.9687\n",
      "Epoch 3/75\n",
      "600/600 [==============================] - 13s 21ms/step - loss: 0.2676 - accuracy: 0.9159 - val_loss: 0.0805 - val_accuracy: 0.9726\n",
      "Epoch 4/75\n",
      "600/600 [==============================] - 13s 22ms/step - loss: 0.2321 - accuracy: 0.9275 - val_loss: 0.0724 - val_accuracy: 0.9760\n",
      "Epoch 5/75\n",
      "600/600 [==============================] - 13s 22ms/step - loss: 0.2140 - accuracy: 0.9324 - val_loss: 0.0714 - val_accuracy: 0.9768\n",
      "Epoch 6/75\n",
      "600/600 [==============================] - 13s 22ms/step - loss: 0.1952 - accuracy: 0.9393 - val_loss: 0.0552 - val_accuracy: 0.9823\n",
      "Epoch 7/75\n",
      "600/600 [==============================] - 13s 21ms/step - loss: 0.1852 - accuracy: 0.9407 - val_loss: 0.0473 - val_accuracy: 0.9839\n",
      "Epoch 8/75\n",
      "600/600 [==============================] - 13s 21ms/step - loss: 0.1753 - accuracy: 0.9445 - val_loss: 0.0554 - val_accuracy: 0.9823\n",
      "Epoch 9/75\n",
      "600/600 [==============================] - 13s 22ms/step - loss: 0.1676 - accuracy: 0.9465 - val_loss: 0.0513 - val_accuracy: 0.9828\n",
      "Epoch 10/75\n",
      "600/600 [==============================] - 13s 21ms/step - loss: 0.1588 - accuracy: 0.9488 - val_loss: 0.0397 - val_accuracy: 0.9865\n",
      "Epoch 11/75\n",
      "600/600 [==============================] - 13s 21ms/step - loss: 0.1534 - accuracy: 0.9512 - val_loss: 0.0490 - val_accuracy: 0.9829\n",
      "Epoch 12/75\n",
      "600/600 [==============================] - 13s 21ms/step - loss: 0.1508 - accuracy: 0.9513 - val_loss: 0.0407 - val_accuracy: 0.9862\n",
      "Epoch 13/75\n",
      "600/600 [==============================] - 13s 21ms/step - loss: 0.1432 - accuracy: 0.9538 - val_loss: 0.0429 - val_accuracy: 0.9876\n",
      "Epoch 14/75\n",
      "600/600 [==============================] - 13s 21ms/step - loss: 0.1359 - accuracy: 0.9568 - val_loss: 0.0367 - val_accuracy: 0.9868\n",
      "Epoch 15/75\n",
      "600/600 [==============================] - 13s 21ms/step - loss: 0.1355 - accuracy: 0.9566 - val_loss: 0.0436 - val_accuracy: 0.9865\n",
      "Epoch 16/75\n",
      "600/600 [==============================] - 13s 22ms/step - loss: 0.1328 - accuracy: 0.9572 - val_loss: 0.0394 - val_accuracy: 0.9863\n",
      "Epoch 17/75\n",
      "600/600 [==============================] - 13s 22ms/step - loss: 0.1263 - accuracy: 0.9605 - val_loss: 0.0352 - val_accuracy: 0.9879\n",
      "Epoch 18/75\n",
      "600/600 [==============================] - 13s 22ms/step - loss: 0.1260 - accuracy: 0.9595 - val_loss: 0.0342 - val_accuracy: 0.9898\n",
      "Epoch 19/75\n",
      "600/600 [==============================] - 15s 24ms/step - loss: 0.1205 - accuracy: 0.9613 - val_loss: 0.0355 - val_accuracy: 0.9884\n",
      "Epoch 20/75\n",
      "600/600 [==============================] - 13s 22ms/step - loss: 0.1188 - accuracy: 0.9627 - val_loss: 0.0329 - val_accuracy: 0.9896\n",
      "Epoch 21/75\n",
      "600/600 [==============================] - 13s 21ms/step - loss: 0.1168 - accuracy: 0.9627 - val_loss: 0.0377 - val_accuracy: 0.9864\n",
      "Epoch 22/75\n",
      "600/600 [==============================] - 13s 21ms/step - loss: 0.1118 - accuracy: 0.9636 - val_loss: 0.0320 - val_accuracy: 0.9885\n",
      "Epoch 23/75\n",
      "600/600 [==============================] - 13s 22ms/step - loss: 0.1136 - accuracy: 0.9638 - val_loss: 0.0345 - val_accuracy: 0.9877\n",
      "Epoch 24/75\n",
      "600/600 [==============================] - 13s 22ms/step - loss: 0.1134 - accuracy: 0.9634 - val_loss: 0.0299 - val_accuracy: 0.9903\n",
      "Epoch 25/75\n",
      "600/600 [==============================] - 13s 22ms/step - loss: 0.1053 - accuracy: 0.9658 - val_loss: 0.0297 - val_accuracy: 0.9905\n",
      "Epoch 26/75\n",
      "600/600 [==============================] - 13s 21ms/step - loss: 0.0977 - accuracy: 0.9687 - val_loss: 0.0275 - val_accuracy: 0.9918\n",
      "Epoch 27/75\n",
      "600/600 [==============================] - 13s 22ms/step - loss: 0.0915 - accuracy: 0.9703 - val_loss: 0.0269 - val_accuracy: 0.9915\n",
      "Epoch 28/75\n",
      "600/600 [==============================] - 13s 21ms/step - loss: 0.0879 - accuracy: 0.9714 - val_loss: 0.0258 - val_accuracy: 0.9915\n",
      "Epoch 29/75\n",
      "600/600 [==============================] - 13s 21ms/step - loss: 0.0875 - accuracy: 0.9715 - val_loss: 0.0267 - val_accuracy: 0.9917\n",
      "Epoch 30/75\n",
      "600/600 [==============================] - 13s 22ms/step - loss: 0.0871 - accuracy: 0.9719 - val_loss: 0.0255 - val_accuracy: 0.9914\n",
      "Epoch 31/75\n",
      "600/600 [==============================] - 13s 22ms/step - loss: 0.0857 - accuracy: 0.9721 - val_loss: 0.0257 - val_accuracy: 0.9918\n",
      "Epoch 32/75\n",
      "600/600 [==============================] - 13s 22ms/step - loss: 0.0826 - accuracy: 0.9732 - val_loss: 0.0260 - val_accuracy: 0.9914\n",
      "Epoch 33/75\n",
      "600/600 [==============================] - 13s 21ms/step - loss: 0.0846 - accuracy: 0.9730 - val_loss: 0.0249 - val_accuracy: 0.9916\n",
      "Epoch 34/75\n",
      "600/600 [==============================] - 13s 22ms/step - loss: 0.0825 - accuracy: 0.9728 - val_loss: 0.0248 - val_accuracy: 0.9916\n",
      "Epoch 35/75\n",
      "600/600 [==============================] - 13s 22ms/step - loss: 0.0839 - accuracy: 0.9736 - val_loss: 0.0248 - val_accuracy: 0.9918\n",
      "Epoch 36/75\n",
      "600/600 [==============================] - 13s 21ms/step - loss: 0.0785 - accuracy: 0.9750 - val_loss: 0.0245 - val_accuracy: 0.9921\n",
      "Epoch 37/75\n",
      "600/600 [==============================] - 13s 22ms/step - loss: 0.0793 - accuracy: 0.9743 - val_loss: 0.0241 - val_accuracy: 0.9922\n",
      "Epoch 38/75\n",
      "600/600 [==============================] - 13s 21ms/step - loss: 0.0796 - accuracy: 0.9743 - val_loss: 0.0238 - val_accuracy: 0.9922\n",
      "Epoch 39/75\n",
      "600/600 [==============================] - 13s 21ms/step - loss: 0.0807 - accuracy: 0.9737 - val_loss: 0.0240 - val_accuracy: 0.9923\n",
      "Epoch 40/75\n",
      "600/600 [==============================] - 13s 21ms/step - loss: 0.0788 - accuracy: 0.9743 - val_loss: 0.0244 - val_accuracy: 0.9918\n",
      "Epoch 41/75\n",
      "600/600 [==============================] - 13s 21ms/step - loss: 0.0780 - accuracy: 0.9752 - val_loss: 0.0245 - val_accuracy: 0.9918\n",
      "Epoch 42/75\n",
      "600/600 [==============================] - 13s 21ms/step - loss: 0.0792 - accuracy: 0.9748 - val_loss: 0.0242 - val_accuracy: 0.9915\n",
      "Epoch 43/75\n",
      "600/600 [==============================] - 13s 21ms/step - loss: 0.0792 - accuracy: 0.9745 - val_loss: 0.0234 - val_accuracy: 0.9924\n",
      "Epoch 44/75\n",
      "600/600 [==============================] - 13s 21ms/step - loss: 0.0779 - accuracy: 0.9758 - val_loss: 0.0236 - val_accuracy: 0.9920\n",
      "Epoch 45/75\n",
      "600/600 [==============================] - 13s 21ms/step - loss: 0.0779 - accuracy: 0.9746 - val_loss: 0.0232 - val_accuracy: 0.9925\n",
      "Epoch 46/75\n",
      "600/600 [==============================] - 13s 21ms/step - loss: 0.0765 - accuracy: 0.9748 - val_loss: 0.0236 - val_accuracy: 0.9924\n",
      "Epoch 47/75\n",
      "600/600 [==============================] - 13s 21ms/step - loss: 0.0747 - accuracy: 0.9760 - val_loss: 0.0234 - val_accuracy: 0.9918\n",
      "Epoch 48/75\n",
      "600/600 [==============================] - 13s 21ms/step - loss: 0.0753 - accuracy: 0.9749 - val_loss: 0.0234 - val_accuracy: 0.9920\n",
      "Epoch 49/75\n",
      "600/600 [==============================] - 13s 21ms/step - loss: 0.0777 - accuracy: 0.9745 - val_loss: 0.0234 - val_accuracy: 0.9918\n",
      "Epoch 50/75\n",
      "600/600 [==============================] - 13s 21ms/step - loss: 0.0766 - accuracy: 0.9753 - val_loss: 0.0236 - val_accuracy: 0.9921\n",
      "Epoch 51/75\n",
      "600/600 [==============================] - 13s 21ms/step - loss: 0.0739 - accuracy: 0.9757 - val_loss: 0.0235 - val_accuracy: 0.9921\n",
      "Epoch 52/75\n",
      "600/600 [==============================] - 13s 21ms/step - loss: 0.0749 - accuracy: 0.9759 - val_loss: 0.0238 - val_accuracy: 0.9919\n",
      "Epoch 53/75\n",
      "600/600 [==============================] - 13s 21ms/step - loss: 0.0734 - accuracy: 0.9764 - val_loss: 0.0237 - val_accuracy: 0.9917\n",
      "Epoch 54/75\n",
      "600/600 [==============================] - 13s 21ms/step - loss: 0.0750 - accuracy: 0.9765 - val_loss: 0.0233 - val_accuracy: 0.9923\n",
      "Epoch 55/75\n",
      "600/600 [==============================] - 13s 21ms/step - loss: 0.0716 - accuracy: 0.9764 - val_loss: 0.0234 - val_accuracy: 0.9919\n",
      "Epoch 56/75\n",
      "600/600 [==============================] - 13s 21ms/step - loss: 0.0739 - accuracy: 0.9753 - val_loss: 0.0235 - val_accuracy: 0.9922\n",
      "Epoch 57/75\n"
     ]
    },
    {
     "name": "stdout",
     "output_type": "stream",
     "text": [
      "600/600 [==============================] - 13s 21ms/step - loss: 0.0744 - accuracy: 0.9766 - val_loss: 0.0233 - val_accuracy: 0.9920\n",
      "Epoch 58/75\n",
      "600/600 [==============================] - 13s 21ms/step - loss: 0.0755 - accuracy: 0.9751 - val_loss: 0.0235 - val_accuracy: 0.9919\n",
      "Epoch 59/75\n",
      "600/600 [==============================] - 13s 21ms/step - loss: 0.0738 - accuracy: 0.9757 - val_loss: 0.0232 - val_accuracy: 0.9920\n",
      "Epoch 60/75\n",
      "600/600 [==============================] - 13s 21ms/step - loss: 0.0746 - accuracy: 0.9758 - val_loss: 0.0232 - val_accuracy: 0.9921\n",
      "Epoch 61/75\n",
      "600/600 [==============================] - 13s 22ms/step - loss: 0.0736 - accuracy: 0.9762 - val_loss: 0.0234 - val_accuracy: 0.9920\n",
      "Epoch 62/75\n",
      "600/600 [==============================] - 16s 26ms/step - loss: 0.0737 - accuracy: 0.9762 - val_loss: 0.0231 - val_accuracy: 0.9921\n",
      "Epoch 63/75\n",
      "600/600 [==============================] - 14s 24ms/step - loss: 0.0746 - accuracy: 0.9759 - val_loss: 0.0230 - val_accuracy: 0.9922\n",
      "Epoch 64/75\n",
      "600/600 [==============================] - 13s 21ms/step - loss: 0.0704 - accuracy: 0.9769 - val_loss: 0.0230 - val_accuracy: 0.9922\n",
      "Epoch 65/75\n",
      "600/600 [==============================] - 13s 21ms/step - loss: 0.0758 - accuracy: 0.9756 - val_loss: 0.0229 - val_accuracy: 0.9921\n",
      "Epoch 66/75\n",
      "600/600 [==============================] - 13s 21ms/step - loss: 0.0745 - accuracy: 0.9753 - val_loss: 0.0230 - val_accuracy: 0.9925\n",
      "Epoch 67/75\n",
      "600/600 [==============================] - 13s 21ms/step - loss: 0.0736 - accuracy: 0.9754 - val_loss: 0.0230 - val_accuracy: 0.9921\n",
      "Epoch 68/75\n",
      "600/600 [==============================] - 13s 21ms/step - loss: 0.0726 - accuracy: 0.9766 - val_loss: 0.0230 - val_accuracy: 0.9924\n",
      "Epoch 69/75\n",
      "600/600 [==============================] - 13s 21ms/step - loss: 0.0737 - accuracy: 0.9755 - val_loss: 0.0227 - val_accuracy: 0.9924\n",
      "Epoch 70/75\n",
      "600/600 [==============================] - 13s 21ms/step - loss: 0.0728 - accuracy: 0.9770 - val_loss: 0.0229 - val_accuracy: 0.9926\n",
      "Epoch 71/75\n",
      "600/600 [==============================] - 13s 21ms/step - loss: 0.0709 - accuracy: 0.9774 - val_loss: 0.0228 - val_accuracy: 0.9923\n",
      "Epoch 72/75\n",
      "600/600 [==============================] - 13s 21ms/step - loss: 0.0708 - accuracy: 0.9773 - val_loss: 0.0229 - val_accuracy: 0.9923\n",
      "Epoch 73/75\n",
      "600/600 [==============================] - 13s 21ms/step - loss: 0.0709 - accuracy: 0.9767 - val_loss: 0.0230 - val_accuracy: 0.9924\n",
      "Epoch 74/75\n",
      "600/600 [==============================] - 13s 21ms/step - loss: 0.0727 - accuracy: 0.9764 - val_loss: 0.0230 - val_accuracy: 0.9925\n",
      "Epoch 75/75\n",
      "600/600 [==============================] - 13s 21ms/step - loss: 0.0723 - accuracy: 0.9768 - val_loss: 0.0229 - val_accuracy: 0.9925\n",
      "Test loss: 0.022917965427041054\n",
      "Test accuracy: 0.9925000667572021\n",
      "Test error: 0.750%\n"
     ]
    }
   ],
   "source": [
    "datagen = ImageDataGenerator(\n",
    "    width_shift_range=0.1,\n",
    "    height_shift_range=0.1,\n",
    "    horizontal_flip=False\n",
    ")\n",
    "\n",
    "def scheduler(epoch):\n",
    "    if epoch < 25:\n",
    "        return .1\n",
    "    elif epoch < 50:\n",
    "        return 0.01\n",
    "    else:\n",
    "        return 0.001\n",
    "\n",
    "history = model.fit(\n",
    "    datagen.flow(x_train, y_train,batch_size=batch_size),             \n",
    "    epochs=epochs,\n",
    "    verbose=1,\n",
    "    validation_data=(x_test, y_test),\n",
    "    callbacks=[LRS(scheduler)]\n",
    ")\n",
    "\n",
    "# Evaluate over test\n",
    "score = model.evaluate(x_test, y_test, verbose=0)\n",
    "\n",
    "print('Test loss:', score[0])\n",
    "print('Test accuracy:', score[1])\n",
    "print(f\"Test error: {((1-score[1]) * 100):.3f}%\")"
   ]
  },
  {
   "cell_type": "code",
   "execution_count": 8,
   "metadata": {
    "id": "88AMu759rNPC"
   },
   "outputs": [],
   "source": [
    "import matplotlib.pyplot as plt"
   ]
  },
  {
   "cell_type": "code",
   "execution_count": 9,
   "metadata": {
    "colab": {
     "base_uri": "https://localhost:8080/",
     "height": 295
    },
    "id": "maIlUZrtrPJp",
    "outputId": "96109172-3beb-4a93-faca-57e2fa3e265d"
   },
   "outputs": [
    {
     "data": {
      "image/png": "[encoded data removed]",
      "text/plain": [
       "<Figure size 432x288 with 1 Axes>"
      ]
     },
     "metadata": {
      "needs_background": "light"
     },
     "output_type": "display_data"
    }
   ],
   "source": [
    "plt.plot(history.history['accuracy'])\n",
    "plt.plot(history.history['val_accuracy'])\n",
    "plt.title('model accuracy')\n",
    "plt.ylabel('accuracy')\n",
    "plt.xlabel('epoch')\n",
    "plt.legend(['train', 'test'], loc='upper left')\n",
    "plt.show()"
   ]
  }
 ],
 "metadata": {
  "accelerator": "GPU",
  "colab": {
   "collapsed_sections": [],
   "name": "RNA-P1.ipynb",
   "provenance": []
  },
  "kernelspec": {
   "display_name": "Python 3 (ipykernel)",
   "language": "python",
   "name": "python3"
  },
  "language_info": {
   "codemirror_mode": {
    "name": "ipython",
    "version": 3
   },
   "file_extension": ".py",
   "mimetype": "text/x-python",
   "name": "python",
   "nbconvert_exporter": "python",
   "pygments_lexer": "ipython3",
   "version": "3.9.7"
  }
 },
 "nbformat": 4,
 "nbformat_minor": 1
}
