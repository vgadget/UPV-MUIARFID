{
 "cells": [
  {
   "cell_type": "markdown",
   "id": "3d3710d4",
   "metadata": {},
   "source": [
    "### Importamos las dependencias necesarias para el proyecto"
   ]
  },
  {
   "cell_type": "code",
   "execution_count": 1,
   "id": "55430678",
   "metadata": {},
   "outputs": [],
   "source": [
    "from os import error\n",
    "import nltk\n",
    "from nltk.util import pr\n",
    "# nltk.download()\n",
    "# nltk.download('punkt')\n",
    "from nltk.corpus import cess_esp\n",
    "from nltk.tag import hmm\n",
    "from nltk.tag import tnt\n",
    "from random import shuffle\n",
    "import matplotlib.pyplot as plt\n",
    "from matplotlib.pyplot import figure\n",
    "import itertools\n",
    "from numpy import sqrt"
   ]
  },
  {
   "cell_type": "markdown",
   "id": "a03bea6f",
   "metadata": {},
   "source": [
    "#### Función auxiliar que, dada una lista 'a' y un número 'n', devuelve una lista de listas con el contenido de 'a' en 'n' trozos"
   ]
  },
  {
   "cell_type": "code",
   "execution_count": 2,
   "id": "cf5ebbdf",
   "metadata": {},
   "outputs": [],
   "source": [
    "def split(a, n):\n",
    "    k, m = divmod(len(a), n)\n",
    "    return (a[i*k+min(i, m):(i+1)*k+min(i+1, m)] for i in range(n))"
   ]
  },
  {
   "cell_type": "markdown",
   "id": "a59c0ec7",
   "metadata": {},
   "source": [
    "## EJERCICIO 1"
   ]
  },
  {
   "cell_type": "code",
   "execution_count": 3,
   "id": "4d871920",
   "metadata": {},
   "outputs": [
    {
     "name": "stdout",
     "output_type": "stream",
     "text": [
      "Dataset preview: [('El', 'da'), ('grupo', 'nc'), ('estatal', 'aq'), ('Electricité_de_France', 'np'), ('-Fpa-', 'Fpa'), ('EDF', 'np'), ('-Fpt-', 'Fpt'), ('anunció', 'vmi'), ('hoy', 'rg'), (',', 'Fc')]\n",
      "\n",
      "Original dataset size: 6030\n",
      "Train dataset size: 5427\n",
      "Test dataset size: 603\n"
     ]
    }
   ],
   "source": [
    "corpus_sentences = cess_esp.tagged_sents()\n",
    "\n",
    "procesed_sentences = []\n",
    "\n",
    "for sentence in corpus_sentences:\n",
    "\n",
    "    words = []\n",
    "\n",
    "    for word in sentence:\n",
    "\n",
    "        if (\"*0*\" not in word[0]):\n",
    "\n",
    "            lenght = 2\n",
    "\n",
    "            if (word[1][0].lower() == \"v\" or word[1][0].lower() == \"f\"):\n",
    "                lenght = 3\n",
    "\n",
    "            lenght = min(lenght, len(word[1]))\n",
    "\n",
    "            words.append((word[0], word[1][0:lenght]))\n",
    "\n",
    "    procesed_sentences.append(words)\n",
    "\n",
    "train_size = int(len(procesed_sentences)*0.9)\n",
    "\n",
    "train = procesed_sentences[0:train_size]\n",
    "test = procesed_sentences[train_size:len(procesed_sentences)]\n",
    "\n",
    "print(\"Dataset preview: \" + str(procesed_sentences[0][0:10]))\n",
    "\n",
    "print(f\"\\nOriginal dataset size: {len(procesed_sentences)}\")\n",
    "print(f\"Train dataset size: {len(train)}\")\n",
    "print(f\"Test dataset size: {len(test)}\")"
   ]
  },
  {
   "cell_type": "markdown",
   "id": "6c269746",
   "metadata": {},
   "source": [
    "## EJERCICIO 2"
   ]
  },
  {
   "cell_type": "code",
   "execution_count": 4,
   "id": "bcef1676",
   "metadata": {},
   "outputs": [
    {
     "name": "stdout",
     "output_type": "stream",
     "text": [
      "HMM - Acc: 0.8784427571832664 \n",
      "[('Al', 'sp'), ('pasar', 'vmn'), ('la', 'da'), ('barca', 'np'), (',', 'Fc'), ('me', 'pp'), ('dijo', 'vmi'), ('el', 'da'), ('barquero', 'nc')]\n",
      "\n",
      "TnT - Acc: 0.8255173440524044 \n",
      "[('Al', 'sp'), ('pasar', 'vmn'), ('la', 'da'), ('barca', 'Unk'), (',', 'Fc'), ('me', 'pp'), ('dijo', 'vmi'), ('el', 'da'), ('barquero', 'Unk')]\n"
     ]
    }
   ],
   "source": [
    "hmm_tagger = hmm.HiddenMarkovModelTagger.train(train)\n",
    "tnt_tagger = tnt.TnT()\n",
    "tnt_tagger.train(train)\n",
    "\n",
    "hmm_eval = hmm_tagger.evaluate(test)\n",
    "tnt_eval = tnt_tagger.evaluate(test)\n",
    "\n",
    "phrase = \"Al pasar la barca, me dijo el barquero\"\n",
    "tokens=nltk.word_tokenize(phrase,language='spanish')\n",
    "\n",
    "print(f\"HMM - Acc: {hmm_eval} \")\n",
    "print(hmm_tagger.tag(tokens))\n",
    "print(f\"\\nTnT - Acc: {tnt_eval} \")\n",
    "print(tnt_tagger.tag(tokens))\n"
   ]
  },
  {
   "cell_type": "markdown",
   "id": "a6df6a2e",
   "metadata": {},
   "source": [
    "## EJERCICIO 3 - SIN SHUFFLING"
   ]
  },
  {
   "cell_type": "code",
   "execution_count": 5,
   "id": "0b913c4f",
   "metadata": {},
   "outputs": [
    {
     "name": "stdout",
     "output_type": "stream",
     "text": [
      "Cross-validation w/o shuffling\n",
      "\n"
     ]
    }
   ],
   "source": [
    "partitions = 10\n",
    "\n",
    "crossValData = list(split(procesed_sentences, partitions))\n",
    "\n",
    "accs_hmm = []\n",
    "accs_tnt = []\n",
    "ic_hmm = []\n",
    "ic_tnt = []\n",
    "\n",
    "\n",
    "print(\"Cross-validation w/o shuffling\\n\")\n",
    "\n",
    "for i in range(partitions):\n",
    "    \n",
    "    cross_test = crossValData[i]\n",
    "    cross_train = list(itertools.chain.from_iterable([crossValData[j] for j in range(partitions) if i is not j]))\n",
    "\n",
    "    numWordsTrain = 0\n",
    "    \n",
    "    for sentence in cross_train:\n",
    "        for word in sentence:\n",
    "            numWordsTrain += 1\n",
    "\n",
    "    hmm_tagger = hmm.HiddenMarkovModelTagger.train(cross_train)\n",
    "    tnt_tagger = tnt.TnT()\n",
    "    tnt_tagger.train(cross_train)\n",
    "\n",
    "    hmm_eval = hmm_tagger.evaluate(cross_test)\n",
    "    tnt_eval = tnt_tagger.evaluate(cross_test)\n",
    "    \n",
    "    accs_hmm.append(hmm_eval)\n",
    "    accs_tnt.append(tnt_eval)\n",
    "\n",
    "    ic_hmm.append(1.96 *(sqrt((hmm_eval * (1-hmm_eval)) / numWordsTrain)))\n",
    "    ic_tnt.append(1.96*(sqrt((tnt_eval * (1-tnt_eval)) / numWordsTrain)))\n",
    "    "
   ]
  },
  {
   "cell_type": "code",
   "execution_count": 6,
   "id": "9f323273",
   "metadata": {},
   "outputs": [
    {
     "name": "stdout",
     "output_type": "stream",
     "text": [
      "\t HMM mean Acc: 0.9049859134368964\n",
      "\t TnT mean Acc: 0.9049859134368964\n"
     ]
    }
   ],
   "source": [
    "mean_hmm = sum(accs_hmm)/len(accs_hmm)\n",
    "mean_tnt = sum(accs_hmm)/len(accs_hmm)\n",
    "print(f\"\\t HMM mean Acc: {mean_hmm}\")\n",
    "print(f\"\\t TnT mean Acc: {mean_tnt}\")\n"
   ]
  },
  {
   "cell_type": "markdown",
   "id": "7fc7d670",
   "metadata": {},
   "source": [
    "#### Hidden Markov Model"
   ]
  },
  {
   "cell_type": "code",
   "execution_count": 7,
   "id": "6bf940a1",
   "metadata": {},
   "outputs": [
    {
     "data": {
      "image/png": "[encoded data removed]",
      "text/plain": [
       "<Figure size 640x480 with 1 Axes>"
      ]
     },
     "metadata": {
      "needs_background": "light"
     },
     "output_type": "display_data"
    }
   ],
   "source": [
    "figure(figsize=(8, 6), dpi=80)\n",
    "x=[i for i in range(partitions)]\n",
    "y=accs_hmm\n",
    "plt.axis([-1, 10, 0.875, 0.932])\n",
    "plt.ylabel('Accuracy')\n",
    "plt.xlabel('Fold')\n",
    "plt.title(f\"{partitions}-fold cross validation\")\n",
    "plt.plot(x,y,'ro')\n",
    "plt.errorbar(x, y, yerr=ic_hmm, linestyle='None')\n",
    "plt.show()"
   ]
  },
  {
   "cell_type": "markdown",
   "id": "8d518b9e",
   "metadata": {},
   "source": [
    "#### Trigrams’n’Tags"
   ]
  },
  {
   "cell_type": "code",
   "execution_count": 8,
   "id": "ded4e598",
   "metadata": {},
   "outputs": [
    {
     "data": {
      "image/png": "[encoded data removed]",
      "text/plain": [
       "<Figure size 640x480 with 1 Axes>"
      ]
     },
     "metadata": {
      "needs_background": "light"
     },
     "output_type": "display_data"
    }
   ],
   "source": [
    "figure(figsize=(8, 6), dpi=80)\n",
    "y=accs_tnt\n",
    "plt.axis([-1, 10, 0.82, 0.90])\n",
    "plt.ylabel('Accuracy')\n",
    "plt.xlabel('Fold')\n",
    "plt.title(f\"{partitions}-fold cross validation\")\n",
    "plt.plot(x,y,'ro')\n",
    "plt.errorbar(x, y, yerr=ic_tnt, linestyle='None')\n",
    "plt.show()"
   ]
  },
  {
   "cell_type": "markdown",
   "id": "9636e510",
   "metadata": {},
   "source": [
    "## EJERCICIO 3 - CON SHUFFLING"
   ]
  },
  {
   "cell_type": "code",
   "execution_count": 9,
   "id": "7298b60d",
   "metadata": {},
   "outputs": [
    {
     "name": "stdout",
     "output_type": "stream",
     "text": [
      "Cross-validation with shuffling\n",
      "\n"
     ]
    }
   ],
   "source": [
    "partitions = 10\n",
    "\n",
    "shuffle(procesed_sentences)\n",
    "\n",
    "crossValData = list(split(procesed_sentences, partitions))\n",
    "\n",
    "accs_hmm = []\n",
    "accs_tnt = []\n",
    "ic_hmm = []\n",
    "ic_tnt = []\n",
    "\n",
    "\n",
    "print(\"Cross-validation with shuffling\\n\")\n",
    "\n",
    "for i in range(partitions):\n",
    "    \n",
    "    cross_test = crossValData[i]\n",
    "    cross_train = list(itertools.chain.from_iterable([crossValData[j] for j in range(partitions) if i is not j]))\n",
    "\n",
    "    numWordsTrain = 0\n",
    "    \n",
    "    for sentence in cross_train:\n",
    "        for word in sentence:\n",
    "            numWordsTrain += 1\n",
    "\n",
    "    hmm_tagger = hmm.HiddenMarkovModelTagger.train(cross_train)\n",
    "    tnt_tagger = tnt.TnT()\n",
    "    tnt_tagger.train(cross_train)\n",
    "\n",
    "    hmm_eval = hmm_tagger.evaluate(cross_test)\n",
    "    tnt_eval = tnt_tagger.evaluate(cross_test)\n",
    "    \n",
    "    accs_hmm.append(hmm_eval)\n",
    "    accs_tnt.append(tnt_eval)\n",
    "\n",
    "    ic_hmm.append(1.96 *(sqrt((hmm_eval * (1-hmm_eval)) / numWordsTrain)))\n",
    "    ic_tnt.append(1.96*(sqrt((tnt_eval * (1-tnt_eval)) / numWordsTrain)))\n",
    "    "
   ]
  },
  {
   "cell_type": "code",
   "execution_count": 10,
   "id": "83630d8a",
   "metadata": {},
   "outputs": [
    {
     "name": "stdout",
     "output_type": "stream",
     "text": [
      "\t HMM mean Acc: 0.9262157166990741\n",
      "\t TnT mean Acc: 0.9262157166990741\n"
     ]
    }
   ],
   "source": [
    "mean_hmm = sum(accs_hmm)/len(accs_hmm)\n",
    "mean_tnt = sum(accs_hmm)/len(accs_hmm)\n",
    "print(f\"\\t HMM mean Acc: {mean_hmm}\")\n",
    "print(f\"\\t TnT mean Acc: {mean_tnt}\")"
   ]
  },
  {
   "cell_type": "markdown",
   "id": "6467d50f",
   "metadata": {},
   "source": [
    "#### Hidden Markov Model"
   ]
  },
  {
   "cell_type": "code",
   "execution_count": 11,
   "id": "e5936f78",
   "metadata": {},
   "outputs": [
    {
     "data": {
      "image/png": "[encoded data removed]",
      "text/plain": [
       "<Figure size 640x480 with 1 Axes>"
      ]
     },
     "metadata": {
      "needs_background": "light"
     },
     "output_type": "display_data"
    }
   ],
   "source": [
    "figure(figsize=(8, 6), dpi=80)\n",
    "x=[i for i in range(partitions)]\n",
    "y=accs_hmm\n",
    "plt.axis([-1, 10, 0.91, 0.932])\n",
    "plt.ylabel('Accuracy')\n",
    "plt.xlabel('Fold')\n",
    "plt.title(f\"{partitions}-fold cross validation\")\n",
    "plt.plot(x,y,'ro')\n",
    "plt.errorbar(x, y, yerr=ic_hmm, linestyle='None')\n",
    "plt.show()"
   ]
  },
  {
   "cell_type": "markdown",
   "id": "5122a92b",
   "metadata": {},
   "source": [
    "#### Trigrams’n’Tags"
   ]
  },
  {
   "cell_type": "code",
   "execution_count": 12,
   "id": "c7f45f69",
   "metadata": {},
   "outputs": [
    {
     "data": {
      "image/png": "[encoded data removed]",
      "text/plain": [
       "<Figure size 640x480 with 1 Axes>"
      ]
     },
     "metadata": {
      "needs_background": "light"
     },
     "output_type": "display_data"
    }
   ],
   "source": [
    "figure(figsize=(8, 6), dpi=80)\n",
    "y=accs_tnt\n",
    "plt.axis([-1, 10, 0.88, 0.92])\n",
    "plt.ylabel('Accuracy')\n",
    "plt.xlabel('Fold')\n",
    "plt.title(f\"{partitions}-fold cross validation\")\n",
    "plt.plot(x,y,'ro')\n",
    "plt.errorbar(x, y, yerr=ic_tnt, linestyle='None')\n",
    "plt.show()"
   ]
  },
  {
   "cell_type": "code",
   "execution_count": null,
   "id": "d6d609ed",
   "metadata": {},
   "outputs": [],
   "source": []
  }
 ],
 "metadata": {
  "kernelspec": {
   "display_name": "Python 3",
   "language": "python",
   "name": "python3"
  },
  "language_info": {
   "codemirror_mode": {
    "name": "ipython",
    "version": 3
   },
   "file_extension": ".py",
   "mimetype": "text/x-python",
   "name": "python",
   "nbconvert_exporter": "python",
   "pygments_lexer": "ipython3",
   "version": "3.8.8"
  }
 },
 "nbformat": 4,
 "nbformat_minor": 5
}
